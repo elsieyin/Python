{
 "cells": [
  {
   "cell_type": "code",
   "execution_count": 1,
   "metadata": {
    "ExecuteTime": {
     "end_time": "2020-10-20T06:11:01.389228Z",
     "start_time": "2020-10-20T06:11:01.374216Z"
    }
   },
   "outputs": [],
   "source": [
    "import os"
   ]
  },
  {
   "cell_type": "code",
   "execution_count": 2,
   "metadata": {
    "ExecuteTime": {
     "end_time": "2020-10-20T06:11:01.405247Z",
     "start_time": "2020-10-20T06:11:01.390231Z"
    }
   },
   "outputs": [
    {
     "name": "stdout",
     "output_type": "stream",
     "text": [
      "F:\\iPynb\\TEST\n"
     ]
    }
   ],
   "source": [
    "res = os.getcwd()\n",
    "print(res)"
   ]
  },
  {
   "cell_type": "code",
   "execution_count": 3,
   "metadata": {
    "ExecuteTime": {
     "end_time": "2020-10-20T06:11:01.421262Z",
     "start_time": "2020-10-20T06:11:01.406249Z"
    }
   },
   "outputs": [
    {
     "name": "stdout",
     "output_type": "stream",
     "text": [
      "['.ipynb_checkpoints', 'os.ipynb']\n"
     ]
    }
   ],
   "source": [
    "res = os.listdir('.')\n",
    "print(res)"
   ]
  },
  {
   "cell_type": "code",
   "execution_count": 4,
   "metadata": {
    "ExecuteTime": {
     "end_time": "2020-10-20T06:11:01.437277Z",
     "start_time": "2020-10-20T06:11:01.422263Z"
    }
   },
   "outputs": [
    {
     "name": "stdout",
     "output_type": "stream",
     "text": [
      "\\\n",
      "['\\r\\n']\n",
      ";\n"
     ]
    }
   ],
   "source": [
    "print(os.sep)\n",
    "print([os.linesep, ])\n",
    "print(os.pathsep)"
   ]
  },
  {
   "cell_type": "code",
   "execution_count": 5,
   "metadata": {
    "ExecuteTime": {
     "end_time": "2020-10-20T06:11:01.453291Z",
     "start_time": "2020-10-20T06:11:01.438277Z"
    }
   },
   "outputs": [
    {
     "name": "stdout",
     "output_type": "stream",
     "text": [
      "0\n"
     ]
    }
   ],
   "source": [
    "print(os.system('dir'))   # 执行系统命令‘ls’(MacOS系统)，Windows用‘dir’命令"
   ]
  },
  {
   "cell_type": "code",
   "execution_count": 6,
   "metadata": {
    "ExecuteTime": {
     "end_time": "2020-10-20T06:11:01.469305Z",
     "start_time": "2020-10-20T06:11:01.454292Z"
    }
   },
   "outputs": [
    {
     "name": "stdout",
     "output_type": "stream",
     "text": [
      "F:\\iPynb\\TEST\\a\\b\\c\\d.txt\n"
     ]
    }
   ],
   "source": [
    "# os.path系列\n",
    "\n",
    "file_path = r'a/b/c/d.txt'\n",
    "print(os.path.abspath(file_path))"
   ]
  },
  {
   "cell_type": "code",
   "execution_count": 7,
   "metadata": {
    "ExecuteTime": {
     "end_time": "2020-10-20T06:11:01.485319Z",
     "start_time": "2020-10-20T06:11:01.471307Z"
    }
   },
   "outputs": [
    {
     "name": "stdout",
     "output_type": "stream",
     "text": [
      "d.txt\n",
      "a/b/c\n"
     ]
    }
   ],
   "source": [
    "res = os.path.split(r'a/b/c/d.txt')\n",
    "print(res[-1])\n",
    "print(res[0])"
   ]
  },
  {
   "cell_type": "code",
   "execution_count": 8,
   "metadata": {
    "ExecuteTime": {
     "end_time": "2020-10-20T06:11:01.501334Z",
     "start_time": "2020-10-20T06:11:01.486321Z"
    }
   },
   "outputs": [
    {
     "name": "stdout",
     "output_type": "stream",
     "text": [
      "False\n",
      "True\n"
     ]
    }
   ],
   "source": [
    "print(os.path.isabs(r'b/c/d.txt'))\n",
    "print(os.path.isabs(r'/Users/albert/Desktop/函数/05模块对象.py'))"
   ]
  },
  {
   "cell_type": "code",
   "execution_count": 9,
   "metadata": {
    "ExecuteTime": {
     "end_time": "2020-10-20T06:11:01.516346Z",
     "start_time": "2020-10-20T06:11:01.502335Z"
    }
   },
   "outputs": [
    {
     "data": {
      "text/plain": [
       "'F:\\\\iPynb\\\\TEST'"
      ]
     },
     "execution_count": 9,
     "metadata": {},
     "output_type": "execute_result"
    }
   ],
   "source": [
    "%pwd"
   ]
  },
  {
   "cell_type": "code",
   "execution_count": 10,
   "metadata": {
    "ExecuteTime": {
     "end_time": "2020-10-20T06:11:01.531361Z",
     "start_time": "2020-10-20T06:11:01.517348Z"
    }
   },
   "outputs": [
    {
     "name": "stdout",
     "output_type": "stream",
     "text": [
      "True\n"
     ]
    }
   ],
   "source": [
    "print(os.path.isabs(r'F:\\\\iPynb\\\\test'))"
   ]
  },
  {
   "cell_type": "code",
   "execution_count": 11,
   "metadata": {
    "ExecuteTime": {
     "end_time": "2020-10-20T06:11:01.547374Z",
     "start_time": "2020-10-20T06:11:01.532362Z"
    }
   },
   "outputs": [
    {
     "name": "stdout",
     "output_type": "stream",
     "text": [
      "True\n"
     ]
    }
   ],
   "source": [
    "print(os.path.isabs('F:\\\\iPynb\\\\test\\\\os.ipynb'))"
   ]
  },
  {
   "cell_type": "markdown",
   "metadata": {},
   "source": [
    "注意 以下是在另一个路径运行的\n",
    "```python\n",
    "import os\n",
    "from pathlib import Path\n",
    "\n",
    "BASE_DIR = os.path.dirname(os.path.dirname(__file__))\n",
    "DB_PATH = r'%s\\db\\db.txt' % BASE_DIR\n",
    "\n",
    "print(BASE_DIR)\n",
    "print(DB_PATH)\n",
    "\n",
    "print(\"Current File Name : \", os.path.realpath(__file__))\n",
    "\n",
    "script_location = Path(__file__).absolute().parent\n",
    "print(\"script_location:\", script_location)\n",
    "\n",
    "file_location = script_location / 'readme.md'\n",
    "print(\"file_location:\", file_location)\n",
    "file = file_location.open()\n",
    "```"
   ]
  },
  {
   "cell_type": "markdown",
   "metadata": {},
   "source": [
    "outputs:\n",
    "```\n",
    "F:\\Anaconda\\envs\\rl\\python.exe F:/iPynb/RL/RLexample/RLalgorithm/test.py\n",
    "F:/iPynb/RL/RLexample\n",
    "F:/iPynb/RL/RLexample\\db\\db.txt\n",
    "Current File Name :  F:\\iPynb\\RL\\RLexample\\RLalgorithm\\test.py\n",
    "script_location: F:\\iPynb\\RL\\RLexample\\RLalgorithm\n",
    "file_location: F:\\iPynb\\RL\\RLexample\\RLalgorithm\\readme.md\n",
    "```"
   ]
  },
  {
   "cell_type": "code",
   "execution_count": 12,
   "metadata": {
    "ExecuteTime": {
     "end_time": "2020-10-20T06:11:01.563389Z",
     "start_time": "2020-10-20T06:11:01.548376Z"
    }
   },
   "outputs": [
    {
     "name": "stdout",
     "output_type": "stream",
     "text": [
      "True\n",
      "False\n",
      "True\n"
     ]
    }
   ],
   "source": [
    "# 优先掌握\n",
    "\n",
    "# 判断文件时候存在\n",
    "print(os.path.exists(r'F:/iPynb/test/os.ipynb'))\n",
    "print(os.path.exists(r'F:/iPynb/a/test/os.ipynb'))\n",
    "print(os.path.isfile(r'os.ipynb'))"
   ]
  },
  {
   "cell_type": "code",
   "execution_count": 13,
   "metadata": {
    "ExecuteTime": {
     "end_time": "2020-10-20T06:11:01.578403Z",
     "start_time": "2020-10-20T06:11:01.564390Z"
    }
   },
   "outputs": [
    {
     "name": "stdout",
     "output_type": "stream",
     "text": [
      "True\n"
     ]
    }
   ],
   "source": [
    "# 判断文件夹是否存在\n",
    "print(os.path.isdir(r'F:/iPynb/test/'))"
   ]
  },
  {
   "cell_type": "code",
   "execution_count": 14,
   "metadata": {
    "ExecuteTime": {
     "end_time": "2020-10-20T06:11:01.594417Z",
     "start_time": "2020-10-20T06:11:01.579404Z"
    }
   },
   "outputs": [
    {
     "name": "stdout",
     "output_type": "stream",
     "text": [
      "C:\\a\\b\\a.txt\n",
      "D:\\b\\a.txt\n",
      "a\\b\\a.txt\n"
     ]
    }
   ],
   "source": [
    "print(os.path.join('C:\\\\', 'a', 'b', 'a.txt'))\n",
    "print(os.path.join('C:\\\\', 'a', 'D:\\\\', 'b', 'a.txt'))\n",
    "print(os.path.join('a', 'b', 'a.txt'))"
   ]
  },
  {
   "cell_type": "code",
   "execution_count": 15,
   "metadata": {
    "ExecuteTime": {
     "end_time": "2020-10-20T06:11:01.609429Z",
     "start_time": "2020-10-20T06:11:01.596418Z"
    }
   },
   "outputs": [
    {
     "name": "stdout",
     "output_type": "stream",
     "text": [
      "22083\n"
     ]
    }
   ],
   "source": [
    "# 得到文件大小\n",
    "res = os.path.getsize(r'F:/iPynb/test/os.ipynb')  # 单位是字节\n",
    "print(res)"
   ]
  },
  {
   "cell_type": "markdown",
   "metadata": {},
   "source": [
    "## os.getcwd"
   ]
  },
  {
   "cell_type": "code",
   "execution_count": 16,
   "metadata": {
    "ExecuteTime": {
     "end_time": "2020-10-20T06:11:01.625444Z",
     "start_time": "2020-10-20T06:11:01.610431Z"
    }
   },
   "outputs": [
    {
     "data": {
      "text/plain": [
       "'F:\\\\iPynb\\\\TEST'"
      ]
     },
     "execution_count": 16,
     "metadata": {},
     "output_type": "execute_result"
    }
   ],
   "source": [
    "os.getcwd()"
   ]
  },
  {
   "cell_type": "markdown",
   "metadata": {},
   "source": [
    "## os.chdir"
   ]
  },
  {
   "cell_type": "code",
   "execution_count": 17,
   "metadata": {
    "ExecuteTime": {
     "end_time": "2020-10-20T06:11:01.641458Z",
     "start_time": "2020-10-20T06:11:01.626446Z"
    }
   },
   "outputs": [
    {
     "data": {
      "text/plain": [
       "'F:\\\\iPynb\\\\Tset'"
      ]
     },
     "execution_count": 17,
     "metadata": {},
     "output_type": "execute_result"
    }
   ],
   "source": [
    "os.chdir(r'F:\\iPynb\\Tset')\n",
    "os.getcwd()"
   ]
  },
  {
   "cell_type": "markdown",
   "metadata": {},
   "source": [
    "## base/ dir name/ split/ join/ "
   ]
  },
  {
   "cell_type": "code",
   "execution_count": 18,
   "metadata": {
    "ExecuteTime": {
     "end_time": "2020-10-20T06:11:01.657338Z",
     "start_time": "2020-10-20T06:11:01.642460Z"
    }
   },
   "outputs": [
    {
     "name": "stdout",
     "output_type": "stream",
     "text": [
      "runoob.txt\n",
      "/root\n",
      "('/root', 'runoob.txt')\n",
      "root\\test\\runoob.txt\n"
     ]
    }
   ],
   "source": [
    "print( os.path.basename('/root/runoob.txt') )   # 返回文件名\n",
    "print( os.path.dirname('/root/runoob.txt') )    # 返回目录路径\n",
    "print( os.path.split('/root/runoob.txt') )      # 分割文件名与路径\n",
    "print( os.path.join('root','test','runoob.txt') )  # 将目录和文件名合成一个路径"
   ]
  },
  {
   "cell_type": "code",
   "execution_count": 20,
   "metadata": {
    "ExecuteTime": {
     "end_time": "2020-10-20T06:11:15.599674Z",
     "start_time": "2020-10-20T06:11:15.597672Z"
    }
   },
   "outputs": [],
   "source": [
    "open('a.txt')\n",
    "file = open('a.txt')\n",
    "# open(r'F:\\iPynb\\Tset\\a.csv')"
   ]
  },
  {
   "cell_type": "code",
   "execution_count": 21,
   "metadata": {
    "ExecuteTime": {
     "end_time": "2020-10-20T06:11:17.614361Z",
     "start_time": "2020-10-20T06:11:17.599345Z"
    }
   },
   "outputs": [
    {
     "data": {
      "text/plain": [
       "_io.TextIOWrapper"
      ]
     },
     "execution_count": 21,
     "metadata": {},
     "output_type": "execute_result"
    }
   ],
   "source": [
    "type(file)"
   ]
  },
  {
   "cell_type": "code",
   "execution_count": 22,
   "metadata": {
    "ExecuteTime": {
     "end_time": "2020-10-20T06:11:19.203939Z",
     "start_time": "2020-10-20T06:11:19.185419Z"
    }
   },
   "outputs": [
    {
     "name": "stdout",
     "output_type": "stream",
     "text": [
      "1603174229.8718913\n",
      "1603174213.9935062\n",
      "1603174229.8658857\n",
      "time.struct_time(tm_year=2020, tm_mon=10, tm_mday=20, tm_hour=6, tm_min=10, tm_sec=29, tm_wday=1, tm_yday=294, tm_isdst=0)\n",
      "22\n",
      "F:\\iPynb\\Tset\\a.txt\n",
      "a.txt\n"
     ]
    }
   ],
   "source": [
    "import time\n",
    "file='a.txt'\n",
    "\n",
    "print( os.path.getatime(file) )   # 输出最近访问时间\n",
    "print( os.path.getctime(file) )   # 输出文件创建时间\n",
    "print( os.path.getmtime(file) )   # 输出最近修改时间\n",
    "print( time.gmtime(os.path.getmtime(file)) )  # 以struct_time形式输出最近修改时间\n",
    "print( os.path.getsize(file) )   # 输出文件大小（字节为单位）\n",
    "print( os.path.abspath(file) )   # 输出绝对路径\n",
    "print( os.path.normpath(file) )  # 规范path字符串形式"
   ]
  },
  {
   "cell_type": "code",
   "execution_count": null,
   "metadata": {},
   "outputs": [],
   "source": []
  },
  {
   "cell_type": "code",
   "execution_count": null,
   "metadata": {},
   "outputs": [],
   "source": []
  },
  {
   "cell_type": "code",
   "execution_count": null,
   "metadata": {},
   "outputs": [],
   "source": []
  },
  {
   "cell_type": "code",
   "execution_count": null,
   "metadata": {},
   "outputs": [],
   "source": []
  },
  {
   "cell_type": "markdown",
   "metadata": {},
   "source": []
  },
  {
   "cell_type": "markdown",
   "metadata": {},
   "source": [
    "\n",
    "```"
   ]
  }
 ],
 "metadata": {
  "kernelspec": {
   "display_name": "kaggle",
   "language": "python",
   "name": "kaggle"
  },
  "language_info": {
   "codemirror_mode": {
    "name": "ipython",
    "version": 3
   },
   "file_extension": ".py",
   "mimetype": "text/x-python",
   "name": "python",
   "nbconvert_exporter": "python",
   "pygments_lexer": "ipython3",
   "version": "3.7.9"
  },
  "toc": {
   "base_numbering": 1,
   "nav_menu": {},
   "number_sections": true,
   "sideBar": true,
   "skip_h1_title": false,
   "title_cell": "Table of Contents",
   "title_sidebar": "Contents",
   "toc_cell": false,
   "toc_position": {},
   "toc_section_display": true,
   "toc_window_display": false
  }
 },
 "nbformat": 4,
 "nbformat_minor": 4
}
