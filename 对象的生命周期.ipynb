{
 "cells": [
  {
   "cell_type": "code",
   "execution_count": 1,
   "metadata": {},
   "outputs": [
    {
     "name": "stdout",
     "output_type": "stream",
     "text": [
      "<__main__.Person object at 0x000002095174F250>\n"
     ]
    }
   ],
   "source": [
    "class Person:\n",
    "    pass\n",
    "\n",
    "p = Person()\n",
    "print(p)"
   ]
  },
  {
   "cell_type": "markdown",
   "metadata": {},
   "source": [
    "#### new: 当我们 创建 一个对象时，用于给这个对象分配内存的方法"
   ]
  },
  {
   "cell_type": "markdown",
   "metadata": {},
   "source": [
    "单例"
   ]
  },
  {
   "cell_type": "code",
   "execution_count": 2,
   "metadata": {},
   "outputs": [
    {
     "name": "stdout",
     "output_type": "stream",
     "text": [
      "新建了一个对象，但是，被我拦截了\n",
      "None\n"
     ]
    }
   ],
   "source": [
    "class Person:\n",
    "    \n",
    "    # 1. 新建一个对象会自动执行 __new__\n",
    "    def __new__(cls, *args, **kwargs):\n",
    "        print(\"新建了一个对象，但是，被我拦截了\")\n",
    "\n",
    "    pass\n",
    "\n",
    "p = Person()\n",
    "print(p)   # 这里没有打印内存地址，被拦截了"
   ]
  },
  {
   "cell_type": "markdown",
   "metadata": {},
   "source": [
    "#### init: 每个对象实例化的时候，会自动执行这个方法"
   ]
  },
  {
   "cell_type": "code",
   "execution_count": 3,
   "metadata": {},
   "outputs": [
    {
     "name": "stdout",
     "output_type": "stream",
     "text": [
      "初始化方法\n",
      "<__main__.Person object at 0x00000209519002E0>\n",
      "sz\n"
     ]
    }
   ],
   "source": [
    "class Person:\n",
    "    \n",
    "    # 2. 当一个对象创建完毕，会自动调用 __init__\n",
    "    def __init__(self):  # 传递p实例给self\n",
    "        print(\"初始化方法\")\n",
    "        self.name = \"sz\"\n",
    "        \n",
    "p = Person()\n",
    "print(p)\n",
    "print(p.name)"
   ]
  },
  {
   "cell_type": "markdown",
   "metadata": {},
   "source": [
    "#### del: 当对象被释放的时候调用这个方法"
   ]
  },
  {
   "cell_type": "code",
   "execution_count": 7,
   "metadata": {},
   "outputs": [
    {
     "name": "stdout",
     "output_type": "stream",
     "text": [
      "初始化方法\n",
      "这个对象被释放了\n",
      "<__main__.Person object at 0x00000209519A5B50>\n",
      "sz\n"
     ]
    }
   ],
   "source": [
    "class Person:\n",
    "        \n",
    "    def __init__(self):\n",
    "        print(\"初始化方法\")\n",
    "        self.name = \"sz\"\n",
    "        \n",
    "    def __del__(self): # 注意区分__delete__,后者为上节描述器的删除操作\n",
    "        print(\"这个对象被释放了\")\n",
    "\n",
    "p = Person()\n",
    "\n",
    "print(p)\n",
    "print(p.name)"
   ]
  },
  {
   "cell_type": "code",
   "execution_count": 8,
   "metadata": {},
   "outputs": [
    {
     "name": "stdout",
     "output_type": "stream",
     "text": [
      "初始化方法\n",
      "这个对象被释放了\n",
      "这个对象被释放了\n"
     ]
    },
    {
     "ename": "NameError",
     "evalue": "name 'p' is not defined",
     "output_type": "error",
     "traceback": [
      "\u001b[1;31m---------------------------------------------------------------------------\u001b[0m",
      "\u001b[1;31mNameError\u001b[0m                                 Traceback (most recent call last)",
      "\u001b[1;32m<ipython-input-8-94591055ccc2>\u001b[0m in \u001b[0;36m<module>\u001b[1;34m\u001b[0m\n\u001b[0;32m     10\u001b[0m \u001b[0mp\u001b[0m \u001b[1;33m=\u001b[0m \u001b[0mPerson\u001b[0m\u001b[1;33m(\u001b[0m\u001b[1;33m)\u001b[0m\u001b[1;33m\u001b[0m\u001b[1;33m\u001b[0m\u001b[0m\n\u001b[0;32m     11\u001b[0m \u001b[1;32mdel\u001b[0m \u001b[0mp\u001b[0m       \u001b[1;31m# 注意这里\u001b[0m\u001b[1;33m\u001b[0m\u001b[1;33m\u001b[0m\u001b[0m\n\u001b[1;32m---> 12\u001b[1;33m \u001b[0mprint\u001b[0m\u001b[1;33m(\u001b[0m\u001b[0mp\u001b[0m\u001b[1;33m)\u001b[0m\u001b[1;33m\u001b[0m\u001b[1;33m\u001b[0m\u001b[0m\n\u001b[0m\u001b[0;32m     13\u001b[0m \u001b[0mprint\u001b[0m\u001b[1;33m(\u001b[0m\u001b[0mp\u001b[0m\u001b[1;33m.\u001b[0m\u001b[0mname\u001b[0m\u001b[1;33m)\u001b[0m\u001b[1;33m\u001b[0m\u001b[1;33m\u001b[0m\u001b[0m\n",
      "\u001b[1;31mNameError\u001b[0m: name 'p' is not defined"
     ]
    }
   ],
   "source": [
    "class Person:\n",
    "        \n",
    "    def __init__(self):\n",
    "        print(\"初始化方法\")\n",
    "        self.name = \"sz\"\n",
    "        \n",
    "    def __del__(self): # 注意区分__delete__,后者为上节描述器的删除操作\n",
    "        print(\"这个对象被释放了\")\n",
    "\n",
    "p = Person()\n",
    "del p       # 注意这里\n",
    "print(p)\n",
    "print(p.name)"
   ]
  },
  {
   "cell_type": "markdown",
   "metadata": {},
   "source": [
    "#### 一个例子"
   ]
  },
  {
   "cell_type": "markdown",
   "metadata": {},
   "source": [
    "Person，打印一下，当前这个时刻，由Person类，产生的实例，有多少个  \n",
    "创建了一个实例，计数 +1，如果删除了一个实例，计数 -1"
   ]
  },
  {
   "cell_type": "code",
   "execution_count": 9,
   "metadata": {},
   "outputs": [
    {
     "name": "stdout",
     "output_type": "stream",
     "text": [
      "计数 + 1\n",
      "计数 + 1\n",
      "当前人的2个\n",
      "计数 - 1\n",
      "当前人的1个\n"
     ]
    }
   ],
   "source": [
    "# 方法1 \n",
    "count = 0\n",
    "class Person:\n",
    "    def __init__(self):\n",
    "        # 只能读取全局变量，不能修改，因为修改会产生歧义:\n",
    "        # 到底是内部新增了一个变量，还是用的外面的那个\n",
    "        global count\n",
    "        print(\"计数 + 1\")\n",
    "        count += 1\n",
    "\n",
    "    def __del__(self):\n",
    "        global count\n",
    "        print(\"计数 - 1\")\n",
    "        count -= 1\n",
    "\n",
    "p = Person()\n",
    "p2 = Person()\n",
    "print(\"当前人的%d个\"%count)\n",
    "del p\n",
    "print(\"当前人的%d个\"%count)"
   ]
  },
  {
   "cell_type": "code",
   "execution_count": 11,
   "metadata": {},
   "outputs": [
    {
     "name": "stdout",
     "output_type": "stream",
     "text": [
      "计数 + 1\n",
      "计数 - 1\n",
      "计数 + 1\n",
      "计数 - 1\n",
      "当前人的0个\n",
      "计数 - 1\n"
     ]
    },
    {
     "ename": "NameError",
     "evalue": "name 'p2' is not defined",
     "output_type": "error",
     "traceback": [
      "\u001b[1;31m---------------------------------------------------------------------------\u001b[0m",
      "\u001b[1;31mNameError\u001b[0m                                 Traceback (most recent call last)",
      "\u001b[1;32m<ipython-input-11-827cddcdd113>\u001b[0m in \u001b[0;36m<module>\u001b[1;34m\u001b[0m\n\u001b[0;32m     21\u001b[0m \u001b[0mp\u001b[0m\u001b[1;33m.\u001b[0m\u001b[0mlog\u001b[0m\u001b[1;33m(\u001b[0m\u001b[1;33m)\u001b[0m\u001b[1;33m\u001b[0m\u001b[1;33m\u001b[0m\u001b[0m\n\u001b[0;32m     22\u001b[0m \u001b[1;32mdel\u001b[0m \u001b[0mp2\u001b[0m\u001b[1;33m\u001b[0m\u001b[1;33m\u001b[0m\u001b[0m\n\u001b[1;32m---> 23\u001b[1;33m \u001b[0mp2\u001b[0m\u001b[1;33m.\u001b[0m\u001b[0mlog\u001b[0m\u001b[1;33m(\u001b[0m\u001b[1;33m)\u001b[0m\u001b[1;33m\u001b[0m\u001b[1;33m\u001b[0m\u001b[0m\n\u001b[0m",
      "\u001b[1;31mNameError\u001b[0m: name 'p2' is not defined"
     ]
    }
   ],
   "source": [
    "# 方法1 改进版\n",
    "count = 0\n",
    "class Person:\n",
    "    def __init__(self):\n",
    "        # 只能读取全局变量，不能修改，因为修改会产生歧义:\n",
    "        # 到底是内部新增了一个变量，还是用的外面的那个\n",
    "        global count\n",
    "        print(\"计数 + 1\")\n",
    "        count += 1\n",
    "\n",
    "    def __del__(self):\n",
    "        global count\n",
    "        print(\"计数 - 1\")\n",
    "        count -= 1\n",
    "        \n",
    "    def log(self):  # 把print语句收进log方法中\n",
    "        print(\"当前人的%d个\"%count)\n",
    "\n",
    "p = Person()\n",
    "p2 = Person()\n",
    "p.log()\n",
    "del p2\n",
    "p2.log()  # p2调用失败"
   ]
  },
  {
   "cell_type": "code",
   "execution_count": 10,
   "metadata": {},
   "outputs": [
    {
     "name": "stdout",
     "output_type": "stream",
     "text": [
      "计数 + 1\n",
      "计数 + 1\n",
      "计数 - 1\n",
      "当前人的1个\n",
      "计数 - 1\n",
      "当前人的0个\n"
     ]
    }
   ],
   "source": [
    "# 方法1 改进版2\n",
    "count = 0\n",
    "class Person:\n",
    "    def __init__(self):\n",
    "        # 只能读取全局变量，不能修改，因为修改会产生歧义:\n",
    "        # 到底是内部新增了一个变量，还是用的外面的那个\n",
    "        global count\n",
    "        print(\"计数 + 1\")\n",
    "        count += 1\n",
    "\n",
    "    def __del__(self):\n",
    "        global count\n",
    "        print(\"计数 - 1\")\n",
    "        count -= 1\n",
    "        \n",
    "    @staticmethod    # 没用过self, 改成静态方法\n",
    "    def log():  \n",
    "        print(\"当前人的%d个\"%count)\n",
    "\n",
    "p = Person()\n",
    "p2 = Person()\n",
    "Person.log()  # 注意这里，用Person类调用。在pycharm上有时是2\n",
    "del p\n",
    "Person.log()"
   ]
  },
  {
   "cell_type": "markdown",
   "metadata": {},
   "source": [
    "👆全局变量意味着在哪都能操作改变他，不安全，违背了类的封装性"
   ]
  },
  {
   "cell_type": "code",
   "execution_count": 17,
   "metadata": {},
   "outputs": [
    {
     "name": "stdout",
     "output_type": "stream",
     "text": [
      "计数 + 1\n",
      "计数 + 1\n",
      "计数 - 1\n",
      "当前人的1个\n",
      "计数 - 1\n",
      "当前人的0个\n"
     ]
    }
   ],
   "source": [
    "class Person:\n",
    "    \n",
    "    __count = 0     # 类的私有变量\n",
    "    \n",
    "    def __init__(self):\n",
    "        print(\"计数 + 1\")\n",
    "        Person.__count += 1\n",
    "\n",
    "    def __del__(self):\n",
    "        print(\"计数 - 1\")\n",
    "        self.__class__.__count -= 1\n",
    "        \n",
    "    @classmethod    # 改成类方法\n",
    "    def log(cls):  \n",
    "        print(\"当前人的%d个\" % cls.__count)\n",
    "\n",
    "p = Person()\n",
    "p2 = Person()\n",
    "Person.log()  # 注意这里，用Person类调用，在pycharm上有时是2\n",
    "del p\n",
    "Person.log()"
   ]
  },
  {
   "cell_type": "code",
   "execution_count": null,
   "metadata": {},
   "outputs": [],
   "source": []
  }
 ],
 "metadata": {
  "kernelspec": {
   "display_name": "joyfulpd",
   "language": "python",
   "name": "joyfulpd"
  },
  "language_info": {
   "codemirror_mode": {
    "name": "ipython",
    "version": 3
   },
   "file_extension": ".py",
   "mimetype": "text/x-python",
   "name": "python",
   "nbconvert_exporter": "python",
   "pygments_lexer": "ipython3",
   "version": "3.8.3"
  },
  "toc": {
   "base_numbering": 1,
   "nav_menu": {},
   "number_sections": true,
   "sideBar": true,
   "skip_h1_title": false,
   "title_cell": "Table of Contents",
   "title_sidebar": "Contents",
   "toc_cell": false,
   "toc_position": {},
   "toc_section_display": true,
   "toc_window_display": false
  },
  "varInspector": {
   "cols": {
    "lenName": 16,
    "lenType": 16,
    "lenVar": 40
   },
   "kernels_config": {
    "python": {
     "delete_cmd_postfix": "",
     "delete_cmd_prefix": "del ",
     "library": "var_list.py",
     "varRefreshCmd": "print(var_dic_list())"
    },
    "r": {
     "delete_cmd_postfix": ") ",
     "delete_cmd_prefix": "rm(",
     "library": "var_list.r",
     "varRefreshCmd": "cat(var_dic_list()) "
    }
   },
   "types_to_exclude": [
    "module",
    "function",
    "builtin_function_or_method",
    "instance",
    "_Feature"
   ],
   "window_display": false
  }
 },
 "nbformat": 4,
 "nbformat_minor": 4
}
