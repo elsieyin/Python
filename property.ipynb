{
 "cells": [
  {
   "cell_type": "markdown",
   "metadata": {},
   "source": [
    "### 私有属性"
   ]
  },
  {
   "cell_type": "code",
   "execution_count": 1,
   "metadata": {},
   "outputs": [
    {
     "name": "stdout",
     "output_type": "stream",
     "text": [
      "18\n"
     ]
    }
   ],
   "source": [
    "class Person:\n",
    "\n",
    "    # 主要作用：创建好一个实例对象之后，会自动调用这个方法，来初始化这个对象\n",
    "    def __init__(self):\n",
    "        self.__age = 18\n",
    "\n",
    "    def setAge(self, value):\n",
    "        if isinstance(value, int) and 0 < value < 200:\n",
    "            self.__age = value\n",
    "        else:\n",
    "            print(\"你输入的数据有问题，请重新输入，需为合理值的正整数\")\n",
    "\n",
    "    def getAge(self):\n",
    "        return self.__age\n",
    "\n",
    "p1 = Person()\n",
    "print(p1._Person__age) # 不建议"
   ]
  },
  {
   "cell_type": "code",
   "execution_count": 2,
   "metadata": {},
   "outputs": [
    {
     "name": "stdout",
     "output_type": "stream",
     "text": [
      "你输入的数据有问题，请重新输入，需为合理值的正整数\n"
     ]
    }
   ],
   "source": [
    "p1.setAge(-10)"
   ]
  },
  {
   "cell_type": "markdown",
   "metadata": {},
   "source": [
    "### 私有属性2"
   ]
  },
  {
   "cell_type": "code",
   "execution_count": 3,
   "metadata": {},
   "outputs": [],
   "source": [
    "class Person(object):\n",
    "    def __init__(self):\n",
    "        self.__age = 18\n",
    "\n",
    "    def get_age(self):\n",
    "        print(\"---, get\")\n",
    "        return self.__age\n",
    "\n",
    "    def set_age(self, value):\n",
    "        print(\"---, set\")\n",
    "        self.__age = value\n",
    "\n",
    "    age = property(get_age, set_age)"
   ]
  },
  {
   "cell_type": "code",
   "execution_count": 4,
   "metadata": {},
   "outputs": [
    {
     "name": "stdout",
     "output_type": "stream",
     "text": [
      "---, get\n",
      "18\n",
      "{'_Person__age': 18}\n"
     ]
    }
   ],
   "source": [
    "p2 = Person()\n",
    "print(p2.age)\n",
    "print(p2.__dict__)"
   ]
  },
  {
   "cell_type": "code",
   "execution_count": 5,
   "metadata": {},
   "outputs": [
    {
     "name": "stdout",
     "output_type": "stream",
     "text": [
      "---, set\n",
      "---, get\n",
      "90\n"
     ]
    }
   ],
   "source": [
    "p2.age = 90\n",
    "print(p2.age)"
   ]
  },
  {
   "cell_type": "markdown",
   "metadata": {},
   "source": [
    "### property"
   ]
  },
  {
   "cell_type": "code",
   "execution_count": 6,
   "metadata": {},
   "outputs": [],
   "source": [
    "class Person(object):\n",
    "    def __init__(self):\n",
    "        self.__age = 18\n",
    "\n",
    "    @property\n",
    "    def age(self):\n",
    "        print(\"--- get\")\n",
    "        return self.__age\n",
    "\n",
    "    @age.setter\n",
    "    def age(self, value):\n",
    "        print(\"--- set\")\n",
    "        self.__age = value"
   ]
  },
  {
   "cell_type": "code",
   "execution_count": 7,
   "metadata": {},
   "outputs": [
    {
     "name": "stdout",
     "output_type": "stream",
     "text": [
      "--- get\n",
      "18\n"
     ]
    }
   ],
   "source": [
    "p3 = Person()\n",
    "print(p3.age)"
   ]
  },
  {
   "cell_type": "code",
   "execution_count": 8,
   "metadata": {},
   "outputs": [
    {
     "name": "stdout",
     "output_type": "stream",
     "text": [
      "--- set\n",
      "--- get\n",
      "18\n"
     ]
    }
   ],
   "source": [
    "p3.age = 18\n",
    "print(p3.age)"
   ]
  },
  {
   "cell_type": "markdown",
   "metadata": {},
   "source": [
    "### 只读属性"
   ]
  },
  {
   "cell_type": "code",
   "execution_count": 9,
   "metadata": {
    "code_folding": []
   },
   "outputs": [
    {
     "name": "stdout",
     "output_type": "stream",
     "text": [
      "age 18\n",
      "18\n",
      "{'age': 18}\n"
     ]
    }
   ],
   "source": [
    "class Person:\n",
    "    # 当通过“实例.属性 = 值”给一个实例增加一个属性，or，修改属性值时，都会调用这个方法\n",
    "    # 在这个方法内部，才会真正的把这个属性，以及对应的数据，给存储到__dict__字典里面\n",
    "    def __setattr__(self, key, value):\n",
    "        print(key, value)\n",
    "\n",
    "        # 1. 判定: key 是否是我们需要设置的只读属性的名称\n",
    "        if key == \"age\" and key in self.__dict__.keys():\n",
    "            print(\"这个属性是只读属性，不能设置数据\")\n",
    "        # 2. 如果不是，讲这个非只读属性真正的添加到这个实例中去\n",
    "        else:\n",
    "            # self.key = value    # 此时进入死循环\n",
    "            self.__dict__[key] = value\n",
    "            \n",
    "p4 = Person()\n",
    "p4.age = 18    # 如果不写and语句:'Person'obj no att 'age'\n",
    "print(p4.age)\n",
    "print(p4.__dict__)"
   ]
  },
  {
   "cell_type": "code",
   "execution_count": 10,
   "metadata": {},
   "outputs": [
    {
     "name": "stdout",
     "output_type": "stream",
     "text": [
      "age 999\n",
      "这个属性是只读属性，不能设置数据\n",
      "18\n"
     ]
    }
   ],
   "source": [
    "p4.age = 999\n",
    "print(p4.age)"
   ]
  },
  {
   "cell_type": "code",
   "execution_count": null,
   "metadata": {},
   "outputs": [],
   "source": []
  }
 ],
 "metadata": {
  "kernelspec": {
   "display_name": "joyfulpd",
   "language": "python",
   "name": "joyfulpd"
  },
  "language_info": {
   "codemirror_mode": {
    "name": "ipython",
    "version": 3
   },
   "file_extension": ".py",
   "mimetype": "text/x-python",
   "name": "python",
   "nbconvert_exporter": "python",
   "pygments_lexer": "ipython3",
   "version": "3.8.3"
  },
  "toc": {
   "base_numbering": 1,
   "nav_menu": {},
   "number_sections": true,
   "sideBar": true,
   "skip_h1_title": false,
   "title_cell": "Table of Contents",
   "title_sidebar": "Contents",
   "toc_cell": false,
   "toc_position": {},
   "toc_section_display": true,
   "toc_window_display": false
  },
  "varInspector": {
   "cols": {
    "lenName": 16,
    "lenType": 16,
    "lenVar": 40
   },
   "kernels_config": {
    "python": {
     "delete_cmd_postfix": "",
     "delete_cmd_prefix": "del ",
     "library": "var_list.py",
     "varRefreshCmd": "print(var_dic_list())"
    },
    "r": {
     "delete_cmd_postfix": ") ",
     "delete_cmd_prefix": "rm(",
     "library": "var_list.r",
     "varRefreshCmd": "cat(var_dic_list()) "
    }
   },
   "types_to_exclude": [
    "module",
    "function",
    "builtin_function_or_method",
    "instance",
    "_Feature"
   ],
   "window_display": false
  }
 },
 "nbformat": 4,
 "nbformat_minor": 4
}
