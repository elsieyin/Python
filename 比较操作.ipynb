{
 "cells": [
  {
   "cell_type": "markdown",
   "metadata": {},
   "source": [
    "#### 反向操作的比较符，定义其中一种，使用另一种，解释器会采用调换参数的方式调用该方法"
   ]
  },
  {
   "cell_type": "code",
   "execution_count": 1,
   "metadata": {},
   "outputs": [
    {
     "name": "stdout",
     "output_type": "stream",
     "text": [
      "<__main__.Person object at 0x0000019E69E74B80>\n",
      "False\n",
      "<__main__.Person object at 0x0000019E69E74D90>\n",
      "True\n",
      "<__main__.Person object at 0x0000019E69E74D90>\n",
      "False\n"
     ]
    }
   ],
   "source": [
    "class Person:\n",
    "    def __init__(self, age, height):\n",
    "        self.age = age\n",
    "        self.height = height\n",
    "\n",
    "    def __eq__(self, other):\n",
    "        print(other)\n",
    "        return self.age == other.age\n",
    "\n",
    "p1 = Person(18, 180)\n",
    "p2 = Person(17, 190)\n",
    "p3 = Person(18, 170)\n",
    "\n",
    "print(p1 == p2)\n",
    "print(p1 == p3)\n",
    "print(p1 != p3)"
   ]
  },
  {
   "cell_type": "code",
   "execution_count": 2,
   "metadata": {},
   "outputs": [
    {
     "name": "stdout",
     "output_type": "stream",
     "text": [
      "xxx\n",
      "None\n"
     ]
    }
   ],
   "source": [
    "class Person:\n",
    "    def __init__(self, age, height):\n",
    "        self.age = age\n",
    "        self.height = height\n",
    "\n",
    "    def __eq__(self, other):\n",
    "        print(other)\n",
    "        return self.age == other.age\n",
    "    \n",
    "    # 有ne走ne，没有走eq反结果\n",
    "    def __ne__(self, other):\n",
    "        print(\"xxx\")\n",
    "        \n",
    "p1 = Person(18, 180)\n",
    "p3 = Person(18, 170)\n",
    "\n",
    "print(p1 != p3)"
   ]
  },
  {
   "cell_type": "code",
   "execution_count": 3,
   "metadata": {},
   "outputs": [
    {
     "name": "stdout",
     "output_type": "stream",
     "text": [
      "18\n",
      "17\n",
      "False\n"
     ]
    }
   ],
   "source": [
    "class Person:\n",
    "    def __init__(self, age, height):\n",
    "        self.age = age\n",
    "        self.height = height\n",
    "\n",
    "    def __lt__(self, other):    # gt ge lt le\n",
    "        print(self.age)\n",
    "        print(other.age)\n",
    "        return self.age < other.age\n",
    "    \n",
    "p1 = Person(18, 180)\n",
    "p2 = Person(17, 190)\n",
    "\n",
    "print(p1 < p2)"
   ]
  },
  {
   "cell_type": "code",
   "execution_count": 4,
   "metadata": {},
   "outputs": [
    {
     "name": "stdout",
     "output_type": "stream",
     "text": [
      "17\n",
      "18\n",
      "True\n"
     ]
    }
   ],
   "source": [
    "print(p1 > p2)   # p2 < p1  没写gt走lt反结果"
   ]
  },
  {
   "cell_type": "markdown",
   "metadata": {},
   "source": [
    "#### 不支持叠加操作"
   ]
  },
  {
   "cell_type": "code",
   "execution_count": 5,
   "metadata": {},
   "outputs": [
    {
     "ename": "TypeError",
     "evalue": "'<=' not supported between instances of 'Person' and 'Person'",
     "output_type": "error",
     "traceback": [
      "\u001b[1;31m---------------------------------------------------------------------------\u001b[0m",
      "\u001b[1;31mTypeError\u001b[0m                                 Traceback (most recent call last)",
      "\u001b[1;32m<ipython-input-5-b55ef45d2300>\u001b[0m in \u001b[0;36m<module>\u001b[1;34m\u001b[0m\n\u001b[0;32m      9\u001b[0m \u001b[0mp2\u001b[0m \u001b[1;33m=\u001b[0m \u001b[0mPerson\u001b[0m\u001b[1;33m(\u001b[0m\u001b[1;33m)\u001b[0m\u001b[1;33m\u001b[0m\u001b[1;33m\u001b[0m\u001b[0m\n\u001b[0;32m     10\u001b[0m \u001b[1;33m\u001b[0m\u001b[0m\n\u001b[1;32m---> 11\u001b[1;33m \u001b[0mprint\u001b[0m\u001b[1;33m(\u001b[0m\u001b[0mp1\u001b[0m \u001b[1;33m<=\u001b[0m \u001b[0mp2\u001b[0m\u001b[1;33m)\u001b[0m\u001b[1;33m\u001b[0m\u001b[1;33m\u001b[0m\u001b[0m\n\u001b[0m",
      "\u001b[1;31mTypeError\u001b[0m: '<=' not supported between instances of 'Person' and 'Person'"
     ]
    }
   ],
   "source": [
    "class Person:\n",
    "    def __lt__(self, other):\n",
    "        pass\n",
    "    \n",
    "    def __eq__(self, other):\n",
    "        pass\n",
    "    \n",
    "p1 = Person()\n",
    "p2 = Person()\n",
    "\n",
    "print(p1 <= p2)"
   ]
  },
  {
   "cell_type": "markdown",
   "metadata": {},
   "source": [
    "#### 使用装饰器自动生成“反向”“组合”  @functools.total_ordering"
   ]
  },
  {
   "cell_type": "code",
   "execution_count": 9,
   "metadata": {},
   "outputs": [
    {
     "name": "stdout",
     "output_type": "stream",
     "text": [
      "lt\n",
      "eq\n",
      "None\n",
      "mappingproxy({'__dict__': <attribute '__dict__' of 'Person' objects>,\n",
      "              '__doc__': None,\n",
      "              '__eq__': <function Person.__eq__ at 0x0000019E6B32A700>,\n",
      "              '__ge__': <function _ge_from_lt at 0x0000019E65D65310>,\n",
      "              '__gt__': <function _gt_from_lt at 0x0000019E65D651F0>,\n",
      "              '__hash__': None,\n",
      "              '__le__': <function _le_from_lt at 0x0000019E65D65280>,\n",
      "              '__lt__': <function Person.__lt__ at 0x0000019E6B32AF70>,\n",
      "              '__module__': '__main__',\n",
      "              '__weakref__': <attribute '__weakref__' of 'Person' objects>})\n"
     ]
    }
   ],
   "source": [
    "import functools\n",
    "\n",
    "@functools.total_ordering\n",
    "class Person:\n",
    "    def __lt__(self, other):\n",
    "        print(\"lt\")\n",
    "        pass\n",
    "    \n",
    "    def __eq__(self, other):\n",
    "        print(\"eq\")\n",
    "        pass\n",
    "    \n",
    "p1 = Person()\n",
    "p2 = Person()\n",
    "\n",
    "print(p1 <= p2)\n",
    "\n",
    "import pprint\n",
    "pprint.pprint(Person.__dict__)"
   ]
  },
  {
   "cell_type": "code",
   "execution_count": 11,
   "metadata": {},
   "outputs": [
    {
     "name": "stdout",
     "output_type": "stream",
     "text": [
      "lt\n",
      "True\n"
     ]
    }
   ],
   "source": [
    "@functools.total_ordering\n",
    "class Person:\n",
    "    def __lt__(self, other):\n",
    "        print(\"lt\")     # 先走lt发现已经True了return，不走eq了\n",
    "        return True\n",
    "    \n",
    "    def __eq__(self, other):\n",
    "        print(\"eq\")\n",
    "        pass\n",
    "    \n",
    "p1 = Person()\n",
    "p2 = Person()\n",
    "\n",
    "print(p1 <= p2)"
   ]
  },
  {
   "cell_type": "markdown",
   "metadata": {},
   "source": [
    "##### 1. 实现 > 或  >= 或  <= 其中一个   2. 实现 =="
   ]
  },
  {
   "cell_type": "code",
   "execution_count": 12,
   "metadata": {},
   "outputs": [
    {
     "name": "stdout",
     "output_type": "stream",
     "text": [
      "lt\n",
      "eq\n",
      "None\n"
     ]
    }
   ],
   "source": [
    "@functools.total_ordering\n",
    "class Person:\n",
    "    def __lt__(self, other):\n",
    "        print(\"lt\")\n",
    "        return False\n",
    "    \n",
    "    def __eq__(self, other):\n",
    "        print(\"eq\")\n",
    "        pass\n",
    "    \n",
    "p1 = Person()\n",
    "p2 = Person()\n",
    "\n",
    "print(p1 <= p2)"
   ]
  },
  {
   "cell_type": "markdown",
   "metadata": {},
   "source": [
    "#### 上下文环境中的布尔值"
   ]
  },
  {
   "cell_type": "code",
   "execution_count": 14,
   "metadata": {},
   "outputs": [
    {
     "name": "stdout",
     "output_type": "stream",
     "text": [
      "xxx\n"
     ]
    }
   ],
   "source": [
    "class Dog:\n",
    "    pass\n",
    "\n",
    "d = Dog()\n",
    "\n",
    "if d:\n",
    "    print(\"xxx\")"
   ]
  },
  {
   "cell_type": "code",
   "execution_count": 15,
   "metadata": {},
   "outputs": [],
   "source": [
    "class Dog:\n",
    "    \n",
    "    def __bool__(self):     # 使用bool来限定返回值\n",
    "        return False\n",
    "\n",
    "d = Dog()\n",
    "\n",
    "if d:\n",
    "    print(\"xxx\")"
   ]
  },
  {
   "cell_type": "code",
   "execution_count": 16,
   "metadata": {},
   "outputs": [
    {
     "name": "stdout",
     "output_type": "stream",
     "text": [
      "xxx\n"
     ]
    }
   ],
   "source": [
    "class Dog:\n",
    "    \n",
    "    def __init__(self):\n",
    "        self.age = 10\n",
    "    \n",
    "    def __bool__(self):       # 可以进行判定\n",
    "        return self.age >=6\n",
    "\n",
    "d = Dog()\n",
    "\n",
    "if d:\n",
    "    print(\"xxx\")"
   ]
  },
  {
   "cell_type": "code",
   "execution_count": null,
   "metadata": {},
   "outputs": [],
   "source": []
  }
 ],
 "metadata": {
  "kernelspec": {
   "display_name": "joyfulpd",
   "language": "python",
   "name": "joyfulpd"
  },
  "language_info": {
   "codemirror_mode": {
    "name": "ipython",
    "version": 3
   },
   "file_extension": ".py",
   "mimetype": "text/x-python",
   "name": "python",
   "nbconvert_exporter": "python",
   "pygments_lexer": "ipython3",
   "version": "3.8.3"
  },
  "toc": {
   "base_numbering": 1,
   "nav_menu": {},
   "number_sections": true,
   "sideBar": true,
   "skip_h1_title": false,
   "title_cell": "Table of Contents",
   "title_sidebar": "Contents",
   "toc_cell": false,
   "toc_position": {},
   "toc_section_display": true,
   "toc_window_display": false
  },
  "varInspector": {
   "cols": {
    "lenName": 16,
    "lenType": 16,
    "lenVar": 40
   },
   "kernels_config": {
    "python": {
     "delete_cmd_postfix": "",
     "delete_cmd_prefix": "del ",
     "library": "var_list.py",
     "varRefreshCmd": "print(var_dic_list())"
    },
    "r": {
     "delete_cmd_postfix": ") ",
     "delete_cmd_prefix": "rm(",
     "library": "var_list.r",
     "varRefreshCmd": "cat(var_dic_list()) "
    }
   },
   "types_to_exclude": [
    "module",
    "function",
    "builtin_function_or_method",
    "instance",
    "_Feature"
   ],
   "window_display": false
  }
 },
 "nbformat": 4,
 "nbformat_minor": 4
}
