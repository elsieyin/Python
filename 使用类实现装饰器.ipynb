{
 "cells": [
  {
   "cell_type": "markdown",
   "metadata": {},
   "source": [
    "装饰器"
   ]
  },
  {
   "cell_type": "code",
   "execution_count": 1,
   "metadata": {},
   "outputs": [
    {
     "name": "stdout",
     "output_type": "stream",
     "text": [
      "登录验证\n",
      "发说说\n"
     ]
    }
   ],
   "source": [
    "def check(func):\n",
    "    def inner():\n",
    "        print(\"登录验证\")\n",
    "        func()\n",
    "    return inner\n",
    "\n",
    "@check    # 装饰器语法糖，相当于下面那种写法：\n",
    "def fashuoshuo():\n",
    "    print(\"发说说\")\n",
    "\n",
    "fashuoshuo()"
   ]
  },
  {
   "cell_type": "code",
   "execution_count": 2,
   "metadata": {},
   "outputs": [
    {
     "name": "stdout",
     "output_type": "stream",
     "text": [
      "登录验证\n",
      "发说说\n"
     ]
    }
   ],
   "source": [
    "def check(func):\n",
    "    def inner():\n",
    "        print(\"登录验证\")\n",
    "        func()\n",
    "    return inner\n",
    "\n",
    "def fashuoshuo():\n",
    "    print(\"发说说\")\n",
    "    \n",
    "fashuoshuo = check(fashuoshuo)  # 相当于这种写法👆\n",
    "\n",
    "fashuoshuo()"
   ]
  },
  {
   "cell_type": "markdown",
   "metadata": {},
   "source": [
    "#### 使用类 实现装饰器"
   ]
  },
  {
   "cell_type": "code",
   "execution_count": 3,
   "metadata": {},
   "outputs": [
    {
     "name": "stdout",
     "output_type": "stream",
     "text": [
      "登录验证\n",
      "发说说\n"
     ]
    }
   ],
   "source": [
    "class check:  # 类check\n",
    "    def __init__(self, func): # 2.init，self.f=fss\n",
    "        self.f = func\n",
    "\n",
    "    def __call__(self, *args, **kwargs):\n",
    "        print(\"登录验证\")\n",
    "        self.f()\n",
    "\n",
    "def fashuoshuo():\n",
    "    print(\"发说说\")\n",
    "\n",
    "fashuoshuo = check(fashuoshuo) # 1.由类check实例化对象fss，传参fss\n",
    "\n",
    "fashuoshuo() # 3.调用call方法"
   ]
  },
  {
   "cell_type": "code",
   "execution_count": 4,
   "metadata": {},
   "outputs": [
    {
     "name": "stdout",
     "output_type": "stream",
     "text": [
      "登录验证\n",
      "发说说\n"
     ]
    }
   ],
   "source": [
    "class check: \n",
    "    def __init__(self, func): \n",
    "        self.f = func\n",
    "\n",
    "    def __call__(self, *args, **kwargs):\n",
    "        print(\"登录验证\")\n",
    "        self.f()\n",
    "@check    # 语法糖\n",
    "def fashuoshuo():\n",
    "    print(\"发说说\")\n",
    "\n",
    "fashuoshuo() "
   ]
  },
  {
   "cell_type": "code",
   "execution_count": null,
   "metadata": {},
   "outputs": [],
   "source": []
  }
 ],
 "metadata": {
  "kernelspec": {
   "display_name": "joyfulpd",
   "language": "python",
   "name": "joyfulpd"
  },
  "language_info": {
   "codemirror_mode": {
    "name": "ipython",
    "version": 3
   },
   "file_extension": ".py",
   "mimetype": "text/x-python",
   "name": "python",
   "nbconvert_exporter": "python",
   "pygments_lexer": "ipython3",
   "version": "3.8.3"
  },
  "toc": {
   "base_numbering": 1,
   "nav_menu": {},
   "number_sections": true,
   "sideBar": true,
   "skip_h1_title": false,
   "title_cell": "Table of Contents",
   "title_sidebar": "Contents",
   "toc_cell": false,
   "toc_position": {},
   "toc_section_display": true,
   "toc_window_display": false
  },
  "varInspector": {
   "cols": {
    "lenName": 16,
    "lenType": 16,
    "lenVar": 40
   },
   "kernels_config": {
    "python": {
     "delete_cmd_postfix": "",
     "delete_cmd_prefix": "del ",
     "library": "var_list.py",
     "varRefreshCmd": "print(var_dic_list())"
    },
    "r": {
     "delete_cmd_postfix": ") ",
     "delete_cmd_prefix": "rm(",
     "library": "var_list.r",
     "varRefreshCmd": "cat(var_dic_list()) "
    }
   },
   "types_to_exclude": [
    "module",
    "function",
    "builtin_function_or_method",
    "instance",
    "_Feature"
   ],
   "window_display": false
  }
 },
 "nbformat": 4,
 "nbformat_minor": 4
}
