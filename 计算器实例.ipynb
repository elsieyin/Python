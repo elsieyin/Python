{
 "cells": [
  {
   "cell_type": "code",
   "execution_count": 2,
   "metadata": {},
   "outputs": [
    {
     "name": "stdout",
     "output_type": "stream",
     "text": [
      "计算结果是: 20\n",
      "20\n"
     ]
    }
   ],
   "source": [
    "import win32com.client\n",
    "class Caculator:\n",
    "    def __say(self, word):\n",
    "        # 1. 创建一个播报器对象\n",
    "        speaker = win32com.client.Dispatch(\"SAPI.SpVoice\")\n",
    "        # 2. 通过这个播报器对象，直接播放相应的语音字符串\n",
    "        speaker.Speak(word)\n",
    "\n",
    "    def __check_num_dec(func):\n",
    "        def inner(self, n):\n",
    "            if not isinstance(n, int):\n",
    "                raise TypeError(\"数据类型有误，须为整型\")\n",
    "            return func(self, n)\n",
    "        return inner\n",
    "\n",
    "    def __create_say_dec(word=\"\"):\n",
    "        def __say_dec(func):\n",
    "            def inner(self, n):\n",
    "                self.__say(word + str(n))\n",
    "                return func(self, n)\n",
    "            return inner\n",
    "        return __say_dec\n",
    "\n",
    "    @__check_num_dec  # 装饰器，谁在最外层先执行谁\n",
    "    @__create_say_dec()\n",
    "    def __init__(self, num):\n",
    "        self.__result = num\n",
    "\n",
    "    @__check_num_dec\n",
    "    @__create_say_dec(\"加\")\n",
    "    def add(self, n):\n",
    "        self.__result += n\n",
    "        return self\n",
    "\n",
    "    @__check_num_dec\n",
    "    @__create_say_dec(\"减去\")\n",
    "    def minus(self, n):\n",
    "        self.__result -= n\n",
    "        return self\n",
    "\n",
    "    @__check_num_dec\n",
    "    @__create_say_dec(\"乘以\")\n",
    "    def mul(self, n):\n",
    "        self.__result *= n\n",
    "        return self\n",
    "\n",
    "    def show(self):\n",
    "        self.__say(\"计算结果是: %d\" % self.__result)\n",
    "        print(\"计算结果是: %d\" % self.__result)\n",
    "        return self\n",
    "    \n",
    "    def clear(self):\n",
    "        self.__result = 0\n",
    "        return self\n",
    "\n",
    "    @property\n",
    "    def result(self):\n",
    "        return self.__result\n",
    "    \n",
    "c1 = Caculator(2)\n",
    "c1.add(6).minus(4).mul(5).show()\n",
    "print(c1.result)"
   ]
  },
  {
   "cell_type": "code",
   "execution_count": null,
   "metadata": {},
   "outputs": [],
   "source": []
  }
 ],
 "metadata": {
  "kernelspec": {
   "display_name": "joyfulpd",
   "language": "python",
   "name": "joyfulpd"
  },
  "language_info": {
   "codemirror_mode": {
    "name": "ipython",
    "version": 3
   },
   "file_extension": ".py",
   "mimetype": "text/x-python",
   "name": "python",
   "nbconvert_exporter": "python",
   "pygments_lexer": "ipython3",
   "version": "3.8.3"
  },
  "toc": {
   "base_numbering": 1,
   "nav_menu": {},
   "number_sections": true,
   "sideBar": true,
   "skip_h1_title": false,
   "title_cell": "Table of Contents",
   "title_sidebar": "Contents",
   "toc_cell": false,
   "toc_position": {},
   "toc_section_display": true,
   "toc_window_display": false
  },
  "varInspector": {
   "cols": {
    "lenName": 16,
    "lenType": 16,
    "lenVar": 40
   },
   "kernels_config": {
    "python": {
     "delete_cmd_postfix": "",
     "delete_cmd_prefix": "del ",
     "library": "var_list.py",
     "varRefreshCmd": "print(var_dic_list())"
    },
    "r": {
     "delete_cmd_postfix": ") ",
     "delete_cmd_prefix": "rm(",
     "library": "var_list.r",
     "varRefreshCmd": "cat(var_dic_list()) "
    }
   },
   "types_to_exclude": [
    "module",
    "function",
    "builtin_function_or_method",
    "instance",
    "_Feature"
   ],
   "window_display": false
  }
 },
 "nbformat": 4,
 "nbformat_minor": 4
}
