{
 "cells": [
  {
   "cell_type": "code",
   "execution_count": 4,
   "metadata": {},
   "outputs": [
    {
     "ename": "TypeError",
     "evalue": "must be real number, not Dog",
     "output_type": "error",
     "traceback": [
      "\u001b[1;31m---------------------------------------------------------------------------\u001b[0m",
      "\u001b[1;31mTypeError\u001b[0m                                 Traceback (most recent call last)",
      "\u001b[1;32m<ipython-input-4-d0acf56634c3>\u001b[0m in \u001b[0;36m<module>\u001b[1;34m\u001b[0m\n\u001b[0;32m     51\u001b[0m \u001b[0mc\u001b[0m \u001b[1;33m=\u001b[0m \u001b[0mCat\u001b[0m\u001b[1;33m(\u001b[0m\u001b[1;34m\"阿喵\"\u001b[0m\u001b[1;33m)\u001b[0m\u001b[1;33m\u001b[0m\u001b[1;33m\u001b[0m\u001b[0m\n\u001b[0;32m     52\u001b[0m \u001b[0mp\u001b[0m \u001b[1;33m=\u001b[0m \u001b[0mPerson\u001b[0m\u001b[1;33m(\u001b[0m\u001b[1;34m\"sz\"\u001b[0m\u001b[1;33m,\u001b[0m \u001b[1;33m[\u001b[0m\u001b[0md\u001b[0m\u001b[1;33m,\u001b[0m \u001b[0mc\u001b[0m\u001b[1;33m]\u001b[0m\u001b[1;33m,\u001b[0m \u001b[1;36m18\u001b[0m\u001b[1;33m)\u001b[0m\u001b[1;33m\u001b[0m\u001b[1;33m\u001b[0m\u001b[0m\n\u001b[1;32m---> 53\u001b[1;33m \u001b[0mp\u001b[0m\u001b[1;33m.\u001b[0m\u001b[0mraisePet\u001b[0m\u001b[1;33m(\u001b[0m\u001b[1;33m)\u001b[0m\u001b[1;33m\u001b[0m\u001b[1;33m\u001b[0m\u001b[0m\n\u001b[0m",
      "\u001b[1;32m<ipython-input-4-d0acf56634c3>\u001b[0m in \u001b[0;36mraisePet\u001b[1;34m(self)\u001b[0m\n\u001b[0;32m     22\u001b[0m     \u001b[1;32mdef\u001b[0m \u001b[0mraisePet\u001b[0m\u001b[1;33m(\u001b[0m\u001b[0mself\u001b[0m\u001b[1;33m)\u001b[0m\u001b[1;33m:\u001b[0m\u001b[1;33m\u001b[0m\u001b[1;33m\u001b[0m\u001b[0m\n\u001b[0;32m     23\u001b[0m         \u001b[1;32mfor\u001b[0m \u001b[0mpet\u001b[0m \u001b[1;32min\u001b[0m \u001b[0mself\u001b[0m\u001b[1;33m.\u001b[0m\u001b[0mpets\u001b[0m\u001b[1;33m:\u001b[0m\u001b[1;33m\u001b[0m\u001b[1;33m\u001b[0m\u001b[0m\n\u001b[1;32m---> 24\u001b[1;33m             \u001b[0mpet\u001b[0m\u001b[1;33m.\u001b[0m\u001b[0meat\u001b[0m\u001b[1;33m(\u001b[0m\u001b[1;33m)\u001b[0m\u001b[1;33m\u001b[0m\u001b[1;33m\u001b[0m\u001b[0m\n\u001b[0m\u001b[0;32m     25\u001b[0m             \u001b[0mpet\u001b[0m\u001b[1;33m.\u001b[0m\u001b[0mplay\u001b[0m\u001b[1;33m(\u001b[0m\u001b[1;33m)\u001b[0m\u001b[1;33m\u001b[0m\u001b[1;33m\u001b[0m\u001b[0m\n\u001b[0;32m     26\u001b[0m             \u001b[0mpet\u001b[0m\u001b[1;33m.\u001b[0m\u001b[0msleep\u001b[0m\u001b[1;33m(\u001b[0m\u001b[1;33m)\u001b[0m\u001b[1;33m\u001b[0m\u001b[1;33m\u001b[0m\u001b[0m\n",
      "\u001b[1;32m<ipython-input-4-d0acf56634c3>\u001b[0m in \u001b[0;36meat\u001b[1;34m(self)\u001b[0m\n\u001b[0;32m      5\u001b[0m \u001b[1;33m\u001b[0m\u001b[0m\n\u001b[0;32m      6\u001b[0m     \u001b[1;32mdef\u001b[0m \u001b[0meat\u001b[0m\u001b[1;33m(\u001b[0m\u001b[0mself\u001b[0m\u001b[1;33m)\u001b[0m\u001b[1;33m:\u001b[0m\u001b[1;33m\u001b[0m\u001b[1;33m\u001b[0m\u001b[0m\n\u001b[1;32m----> 7\u001b[1;33m         \u001b[0mprint\u001b[0m\u001b[1;33m(\u001b[0m\u001b[1;34m\"%eat\"\u001b[0m \u001b[1;33m%\u001b[0m \u001b[0mself\u001b[0m\u001b[1;33m)\u001b[0m\u001b[1;33m\u001b[0m\u001b[1;33m\u001b[0m\u001b[0m\n\u001b[0m\u001b[0;32m      8\u001b[0m \u001b[1;33m\u001b[0m\u001b[0m\n\u001b[0;32m      9\u001b[0m     \u001b[1;32mdef\u001b[0m \u001b[0msleep\u001b[0m\u001b[1;33m(\u001b[0m\u001b[0mself\u001b[0m\u001b[1;33m)\u001b[0m\u001b[1;33m:\u001b[0m\u001b[1;33m\u001b[0m\u001b[1;33m\u001b[0m\u001b[0m\n",
      "\u001b[1;31mTypeError\u001b[0m: must be real number, not Dog"
     ]
    }
   ],
   "source": [
    "class Animal:\n",
    "    def __init__(self, name, age=1):\n",
    "        self.name = name\n",
    "        self.age = age\n",
    "        \n",
    "    def eat(self):\n",
    "        print(\"%eat\" % self)\n",
    "\n",
    "    def sleep(self):\n",
    "        print(\"%sleep\" % self)\n",
    "\n",
    "    def play(self):\n",
    "        print(\"%play\" % self)\n",
    "\n",
    "\n",
    "class Person(Animal):\n",
    "\n",
    "    def __init__(self, name, pets, age=1):\n",
    "        super().__init__(name, age)  # super(Person, self)\n",
    "        self.pets = pets\n",
    "\n",
    "    def raisePet(self):\n",
    "        for pet in self.pets:\n",
    "            pet.eat()\n",
    "            pet.play()\n",
    "            pet.sleep()\n",
    "\n",
    "    def petsWork(self):\n",
    "        for pet in self.pets:\n",
    "            pet.work()\n",
    "\n",
    "\n",
    "class Dog(Animal):\n",
    "\n",
    "    def work(self):\n",
    "        print(\"%s watch home\" % self)\n",
    "\n",
    "    def __str__(self):\n",
    "        return \"名字是{},年龄是{}岁的小狗\".format(self.name, self.age)\n",
    "\n",
    "class Cat(Animal):\n",
    "\n",
    "    def work(self):\n",
    "        print(\"%s catch mouse\" % self)\n",
    "\n",
    "    def __str__(self):\n",
    "        return \"名字是{},年龄是{}岁的小猫\".format(self.name, self.age)\n",
    "\n",
    "\n",
    "d = Dog(\"小黑\")\n",
    "c = Cat(\"阿喵\")\n",
    "p = Person(\"sz\", [d, c], 18)\n",
    "p.raisePet()"
   ]
  },
  {
   "cell_type": "code",
   "execution_count": 3,
   "metadata": {},
   "outputs": [
    {
     "name": "stdout",
     "output_type": "stream",
     "text": [
      "名字是小黑,年龄是1岁的小狗 watch home\n",
      "名字是阿喵,年龄是1岁的小猫 catch mouse\n"
     ]
    }
   ],
   "source": [
    "p.petsWork()"
   ]
  },
  {
   "cell_type": "code",
   "execution_count": 5,
   "metadata": {},
   "outputs": [
    {
     "name": "stdout",
     "output_type": "stream",
     "text": [
      "名字是小黑, 年龄18岁的小狗在吃饭\n",
      "名字是小黑, 年龄18岁的小狗在玩\n",
      "名字是小黑, 年龄18岁的小狗在睡觉\n",
      "名字是小红, 年龄2岁的小猫在吃饭\n",
      "名字是小红, 年龄2岁的小猫在玩\n",
      "名字是小红, 年龄2岁的小猫在睡觉\n",
      "名字是小黑, 年龄18岁的小狗在看家\n",
      "名字是小红, 年龄2岁的小猫在捉老鼠\n"
     ]
    }
   ],
   "source": [
    "# 定义三个类, 小狗, 小猫, 人\n",
    "# 小狗: 姓名, 年龄(默认1岁);        吃饭, 玩, 睡觉, 看家(格式: 名字是xx, 年龄xx岁的小狗在xx)\n",
    "# 小猫: 姓名, 年龄(默认1岁);        吃饭, 玩, 睡觉, 捉老鼠(格式: 名字是xx, 年龄xx岁的小猫在xx)\n",
    "# 人:   姓名, 年龄(默认1岁), 宠物;  吃饭, 玩, 睡觉(格式: 名字是xx, 年龄xx岁的人在xx)\n",
    "#                           养宠物(让所有的宠物吃饭, 玩, 睡觉),\n",
    "#                           让宠物工作(让所有的宠物根据自己的职责开始工作)\n",
    "\n",
    "class Animal:\n",
    "    def __init__(self, name, age=1):\n",
    "        self.name = name\n",
    "        self.age = age\n",
    "\n",
    "    def eat(self):\n",
    "        print(\"%s在吃饭\" % self)\n",
    "\n",
    "    def play(self):\n",
    "        print(\"%s在玩\" % self)\n",
    "\n",
    "    def sleep(self):\n",
    "        print(\"%s在睡觉\" % self)\n",
    "\n",
    "class Person(Animal):\n",
    "    # 在创建一个小狗实例的时候, 给它设置几个属性\n",
    "    def __init__(self, name, pets, age=1):\n",
    "        super(Person, self).__init__(name, age)\n",
    "        self.pets = pets\n",
    "\n",
    "    def yang_pets(self):\n",
    "        for pet in self.pets:\n",
    "            pet.eat()\n",
    "            pet.play()\n",
    "            pet.sleep()\n",
    "\n",
    "    def make_pets_work(self):\n",
    "        for pet in self.pets:\n",
    "            pet.work()\n",
    "            # if isinstance(pet, Dog):\n",
    "            #     pet.watch()\n",
    "            # elif isinstance(pet, Cat):\n",
    "            #     pet.catch()\n",
    "\n",
    "    def __str__(self):\n",
    "        return \"名字是{}, 年龄{}岁的人\".format(self.name, self.age)\n",
    "# p = Person(\"sz\", [1, 2], 18)\n",
    "# print(p.__dict__)\n",
    "class Cat(Animal):\n",
    "\n",
    "    def work(self):\n",
    "        print(\"%s在捉老鼠\" % self)\n",
    "\n",
    "    def __str__(self):\n",
    "        return \"名字是{}, 年龄{}岁的小猫\".format(self.name, self.age)\n",
    "\n",
    "class Dog(Animal):\n",
    "    def work(self):\n",
    "        print(\"%s在看家\" % self)\n",
    "\n",
    "    def __str__(self):\n",
    "        return \"名字是{}, 年龄{}岁的小狗\".format(self.name, self.age)\n",
    "\n",
    "d = Dog(\"小黑\", 18)\n",
    "c = Cat(\"小红\", 2)\n",
    "p = Person(\"sz\", [d, c], 18)\n",
    "p.yang_pets()\n",
    "p.make_pets_work()"
   ]
  },
  {
   "cell_type": "code",
   "execution_count": null,
   "metadata": {},
   "outputs": [],
   "source": []
  }
 ],
 "metadata": {
  "kernelspec": {
   "display_name": "joyfulpd",
   "language": "python",
   "name": "joyfulpd"
  },
  "language_info": {
   "codemirror_mode": {
    "name": "ipython",
    "version": 3
   },
   "file_extension": ".py",
   "mimetype": "text/x-python",
   "name": "python",
   "nbconvert_exporter": "python",
   "pygments_lexer": "ipython3",
   "version": "3.8.3"
  },
  "toc": {
   "base_numbering": 1,
   "nav_menu": {},
   "number_sections": true,
   "sideBar": true,
   "skip_h1_title": false,
   "title_cell": "Table of Contents",
   "title_sidebar": "Contents",
   "toc_cell": false,
   "toc_position": {},
   "toc_section_display": true,
   "toc_window_display": false
  },
  "varInspector": {
   "cols": {
    "lenName": 16,
    "lenType": 16,
    "lenVar": 40
   },
   "kernels_config": {
    "python": {
     "delete_cmd_postfix": "",
     "delete_cmd_prefix": "del ",
     "library": "var_list.py",
     "varRefreshCmd": "print(var_dic_list())"
    },
    "r": {
     "delete_cmd_postfix": ") ",
     "delete_cmd_prefix": "rm(",
     "library": "var_list.r",
     "varRefreshCmd": "cat(var_dic_list()) "
    }
   },
   "types_to_exclude": [
    "module",
    "function",
    "builtin_function_or_method",
    "instance",
    "_Feature"
   ],
   "window_display": false
  }
 },
 "nbformat": 4,
 "nbformat_minor": 4
}
