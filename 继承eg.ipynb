{
 "cells": [
  {
   "cell_type": "code",
   "execution_count": 1,
   "metadata": {},
   "outputs": [
    {
     "name": "stdout",
     "output_type": "stream",
     "text": [
      "10\n",
      "10\n",
      "{'__module__': '__main__', '__doc__': None, 'age': 9}\n",
      "mappingproxy({'__dict__': <attribute '__dict__' of 'B' objects>,\n",
      "              '__doc__': None,\n",
      "              '__module__': '__main__',\n",
      "              '__weakref__': <attribute '__weakref__' of 'B' objects>,\n",
      "              'age': 10})\n"
     ]
    }
   ],
   "source": [
    "import pprint\n",
    "class B:\n",
    "    age = 10\n",
    "    \n",
    "class A(B):\n",
    "    pass\n",
    "\n",
    "print(A.age)\n",
    "A.age = 9\n",
    "\n",
    "print(B.age)\n",
    "print(A.__dict__)\n",
    "pprint.pprint(B.__dict__)"
   ]
  },
  {
   "cell_type": "code",
   "execution_count": 8,
   "metadata": {},
   "outputs": [
    {
     "name": "stdout",
     "output_type": "stream",
     "text": [
      "[<class '__main__.A'>, <class '__main__.B'>, <class '__main__.C'>, <class '__main__.D'>, <class 'object'>]\n",
      "b\n"
     ]
    }
   ],
   "source": [
    "class D(object):\n",
    "    age = \"d\"\n",
    "\n",
    "class C(D):\n",
    "    age = \"c\"\n",
    "\n",
    "class B(D):\n",
    "    age = 'b'\n",
    "\n",
    "class A(B, C):\n",
    "    pass\n",
    "\n",
    "print(A.mro())\n",
    "print(A.age)"
   ]
  },
  {
   "cell_type": "code",
   "execution_count": 6,
   "metadata": {},
   "outputs": [
    {
     "name": "stdout",
     "output_type": "stream",
     "text": [
      "<class '__main__.A'>\n"
     ]
    }
   ],
   "source": [
    "class D(object):\n",
    "    age = \"d\"\n",
    "\n",
    "class C(D):\n",
    "    age = \"c\"\n",
    "    def test(self):\n",
    "        print(self)\n",
    "\n",
    "class B(D):\n",
    "    def test1(self):\n",
    "        print(self)\n",
    "    \n",
    "    @classmethod\n",
    "    def test2(cls):\n",
    "        print(cls)\n",
    "\n",
    "class A(B, C):\n",
    "    pass\n",
    "\n",
    "A.test2()"
   ]
  },
  {
   "cell_type": "code",
   "execution_count": 12,
   "metadata": {},
   "outputs": [
    {
     "name": "stdout",
     "output_type": "stream",
     "text": [
      "d\n",
      "b\n"
     ]
    },
    {
     "data": {
      "text/plain": [
       "<__main__.B at 0x265940e5a30>"
      ]
     },
     "execution_count": 12,
     "metadata": {},
     "output_type": "execute_result"
    }
   ],
   "source": [
    "class D(object):\n",
    "    def __init__(self):\n",
    "        print(\"d\")\n",
    "\n",
    "class C(D):\n",
    "    def __init__(self):\n",
    "        D.__init__(self)\n",
    "        print(\"c\")\n",
    "\n",
    "class B(D):\n",
    "    def __init__(self):\n",
    "        D.__init__(self)\n",
    "        print(\"b\")\n",
    "\n",
    "class A(B, C):\n",
    "    def __init__(self):\n",
    "        B.__init__(self)\n",
    "        C.__init__(self)\n",
    "        print(\"a\")\n",
    "\n",
    "B()"
   ]
  },
  {
   "cell_type": "markdown",
   "metadata": {},
   "source": [
    "#### 菱形继承的重复调用问题"
   ]
  },
  {
   "cell_type": "code",
   "execution_count": 14,
   "metadata": {},
   "outputs": [
    {
     "name": "stdout",
     "output_type": "stream",
     "text": [
      "d\n",
      "b\n",
      "d\n",
      "c\n",
      "a\n"
     ]
    },
    {
     "data": {
      "text/plain": [
       "<__main__.A at 0x265954d4c70>"
      ]
     },
     "execution_count": 14,
     "metadata": {},
     "output_type": "execute_result"
    }
   ],
   "source": [
    "class D(object):\n",
    "    def __init__(self):\n",
    "        print(\"d\")\n",
    "\n",
    "class C(D):\n",
    "    def __init__(self):\n",
    "        D.__init__(self)\n",
    "        print(\"c\")\n",
    "\n",
    "class B(D):\n",
    "    def __init__(self):\n",
    "        D.__init__(self)\n",
    "        print(\"b\")\n",
    "\n",
    "class A(B, C):\n",
    "    def __init__(self):\n",
    "        B.__init__(self)\n",
    "        C.__init__(self)\n",
    "        print(\"a\")\n",
    "\n",
    "A()  # 重复调用D"
   ]
  },
  {
   "cell_type": "code",
   "execution_count": 17,
   "metadata": {},
   "outputs": [
    {
     "name": "stdout",
     "output_type": "stream",
     "text": [
      "d\n",
      "c\n",
      "b\n",
      "a\n"
     ]
    },
    {
     "data": {
      "text/plain": [
       "<__main__.A at 0x26593ff2cd0>"
      ]
     },
     "execution_count": 17,
     "metadata": {},
     "output_type": "execute_result"
    }
   ],
   "source": [
    "class D(object):\n",
    "    def __init__(self):\n",
    "        print(\"d\")\n",
    "\n",
    "class C(D):\n",
    "    def __init__(self):\n",
    "        super().__init__()\n",
    "        print(\"c\")\n",
    "\n",
    "class B(D):\n",
    "    def __init__(self):\n",
    "        super().__init__()\n",
    "        print(\"b\")\n",
    "\n",
    "class A(B, C):\n",
    "    def __init__(self):\n",
    "        super().__init__()\n",
    "        print(\"a\")\n",
    "\n",
    "A()  "
   ]
  },
  {
   "cell_type": "code",
   "execution_count": null,
   "metadata": {},
   "outputs": [],
   "source": []
  }
 ],
 "metadata": {
  "kernelspec": {
   "display_name": "joyfulpd",
   "language": "python",
   "name": "joyfulpd"
  },
  "language_info": {
   "codemirror_mode": {
    "name": "ipython",
    "version": 3
   },
   "file_extension": ".py",
   "mimetype": "text/x-python",
   "name": "python",
   "nbconvert_exporter": "python",
   "pygments_lexer": "ipython3",
   "version": "3.8.3"
  },
  "toc": {
   "base_numbering": 1,
   "nav_menu": {},
   "number_sections": true,
   "sideBar": true,
   "skip_h1_title": false,
   "title_cell": "Table of Contents",
   "title_sidebar": "Contents",
   "toc_cell": false,
   "toc_position": {},
   "toc_section_display": true,
   "toc_window_display": false
  },
  "varInspector": {
   "cols": {
    "lenName": 16,
    "lenType": 16,
    "lenVar": 40
   },
   "kernels_config": {
    "python": {
     "delete_cmd_postfix": "",
     "delete_cmd_prefix": "del ",
     "library": "var_list.py",
     "varRefreshCmd": "print(var_dic_list())"
    },
    "r": {
     "delete_cmd_postfix": ") ",
     "delete_cmd_prefix": "rm(",
     "library": "var_list.r",
     "varRefreshCmd": "cat(var_dic_list()) "
    }
   },
   "types_to_exclude": [
    "module",
    "function",
    "builtin_function_or_method",
    "instance",
    "_Feature"
   ],
   "window_display": false
  }
 },
 "nbformat": 4,
 "nbformat_minor": 4
}
