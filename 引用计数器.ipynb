{
 "cells": [
  {
   "cell_type": "code",
   "execution_count": 1,
   "metadata": {},
   "outputs": [
    {
     "name": "stdout",
     "output_type": "stream",
     "text": [
      "2\n",
      "3\n",
      "2\n"
     ]
    },
    {
     "ename": "NameError",
     "evalue": "name 'p1' is not defined",
     "output_type": "error",
     "traceback": [
      "\u001b[1;31m---------------------------------------------------------------------------\u001b[0m",
      "\u001b[1;31mNameError\u001b[0m                                 Traceback (most recent call last)",
      "\u001b[1;32m<ipython-input-1-e7f44bbf5292>\u001b[0m in \u001b[0;36m<module>\u001b[1;34m\u001b[0m\n\u001b[0;32m     16\u001b[0m \u001b[1;33m\u001b[0m\u001b[0m\n\u001b[0;32m     17\u001b[0m \u001b[1;32mdel\u001b[0m \u001b[0mp1\u001b[0m   \u001b[1;31m# 0 但是测不出来\u001b[0m\u001b[1;33m\u001b[0m\u001b[1;33m\u001b[0m\u001b[0m\n\u001b[1;32m---> 18\u001b[1;33m \u001b[0mprint\u001b[0m\u001b[1;33m(\u001b[0m\u001b[0msys\u001b[0m\u001b[1;33m.\u001b[0m\u001b[0mgetrefcount\u001b[0m\u001b[1;33m(\u001b[0m\u001b[0mp1\u001b[0m\u001b[1;33m)\u001b[0m\u001b[1;33m)\u001b[0m\u001b[1;33m\u001b[0m\u001b[1;33m\u001b[0m\u001b[0m\n\u001b[0m",
      "\u001b[1;31mNameError\u001b[0m: name 'p1' is not defined"
     ]
    }
   ],
   "source": [
    "import sys\n",
    "\n",
    "class Person:\n",
    "    pass\n",
    "\n",
    "p1 = Person()\n",
    "\n",
    "print(sys.getrefcount(p1))  # 1\n",
    "\n",
    "p2 = p1   # 2\n",
    "\n",
    "print(sys.getrefcount(p1))\n",
    "\n",
    "del p2   # 1\n",
    "print(sys.getrefcount(p1))\n",
    "\n",
    "del p1   # 0 但是测不出来\n",
    "print(sys.getrefcount(p1))\n"
   ]
  },
  {
   "cell_type": "markdown",
   "metadata": {},
   "source": [
    "### 引用计数 +1 的场景:"
   ]
  },
  {
   "cell_type": "markdown",
   "metadata": {},
   "source": [
    "1. 对象被创建: p1 = Person()\n",
    "2. 对象被引用: p2 = p1\n",
    "3. 对象被作为参数，传入到一个函数中\n",
    "4. 对象作为一个元素，存储在容器中: l = [p1]"
   ]
  },
  {
   "cell_type": "markdown",
   "metadata": {},
   "source": [
    "#### getrefcount 会大1"
   ]
  },
  {
   "cell_type": "code",
   "execution_count": 2,
   "metadata": {},
   "outputs": [
    {
     "name": "stdout",
     "output_type": "stream",
     "text": [
      "2\n",
      "4\n"
     ]
    }
   ],
   "source": [
    "class Person:\n",
    "    pass\n",
    "\n",
    "pxxx = Person()  # 1\n",
    "print(sys.getrefcount(pxxx))\n",
    "\n",
    "def log(obj):\n",
    "    print(sys.getrefcount(obj))\n",
    "\n",
    "log(pxxx)"
   ]
  },
  {
   "cell_type": "code",
   "execution_count": 3,
   "metadata": {},
   "outputs": [
    {
     "name": "stdout",
     "output_type": "stream",
     "text": [
      "3\n"
     ]
    }
   ],
   "source": [
    "l = [pxxx]\n",
    "print(sys.getrefcount(pxxx))"
   ]
  },
  {
   "cell_type": "markdown",
   "metadata": {},
   "source": [
    "### 引用计数 -1 的场景:"
   ]
  },
  {
   "cell_type": "markdown",
   "metadata": {},
   "source": [
    "1. 对象的别名被显示销毁： del p1\n",
    "2. 对象的别名被赋予新的对象： p1 = 123\n",
    "3. 一个对象离开它的作用域：\n",
    "    1. 一个函数执行完毕时\n",
    "    2. 内部的局部变量关联的对象，它的引用计数会 -1\n",
    "4. 对象所在的容器被销毁，或从容器中删除对象"
   ]
  },
  {
   "cell_type": "markdown",
   "metadata": {},
   "source": [
    "### 循环引用"
   ]
  },
  {
   "cell_type": "markdown",
   "metadata": {},
   "source": [
    "❌循环引用的无法用 引用计数器回收  \n",
    "但是Python还有垃圾回收机制~"
   ]
  },
  {
   "cell_type": "code",
   "execution_count": 4,
   "metadata": {},
   "outputs": [],
   "source": [
    "import objgraph\n",
    "# objgraph.count() 可以查看垃圾回收器，跟踪的对象个数"
   ]
  },
  {
   "cell_type": "code",
   "execution_count": 5,
   "metadata": {},
   "outputs": [
    {
     "name": "stdout",
     "output_type": "stream",
     "text": [
      "2\n",
      "1\n"
     ]
    }
   ],
   "source": [
    "class Person:\n",
    "    pass\n",
    "\n",
    "class Dog:\n",
    "    pass\n",
    "\n",
    "p = Person()\n",
    "d = Dog()\n",
    "\n",
    "print(objgraph.count(\"Person\"))\n",
    "\n",
    "del p\n",
    "del d\n",
    "\n",
    "print(objgraph.count(\"Person\"))"
   ]
  },
  {
   "cell_type": "code",
   "execution_count": 6,
   "metadata": {},
   "outputs": [
    {
     "name": "stdout",
     "output_type": "stream",
     "text": [
      "2\n",
      "2\n"
     ]
    }
   ],
   "source": [
    "class Person:\n",
    "    pass\n",
    "\n",
    "class Dog:\n",
    "    pass\n",
    "\n",
    "p = Person()\n",
    "d = Dog()\n",
    "\n",
    "print(objgraph.count(\"Person\"))\n",
    "\n",
    "p.pet = d       # 注意这里\n",
    "d.master = p    # 循环引用\n",
    "\n",
    "del p\n",
    "del d\n",
    "\n",
    "print(objgraph.count(\"Person\"))  # 没有释放❌"
   ]
  },
  {
   "cell_type": "markdown",
   "metadata": {},
   "source": [
    "### 垃圾回收机制"
   ]
  },
  {
   "cell_type": "markdown",
   "metadata": {},
   "source": [
    "找到循环引用，干掉相关对象"
   ]
  },
  {
   "cell_type": "markdown",
   "metadata": {},
   "source": [
    "1. 收集所有的“容器对象”，通过一个双向链表进行引用\n",
    "  1. 容器对象： 列表，元组，字典，自定义类对象\n",
    "2. 针对每一个“容器对象”，通过一个变量gc_refs来记录当前对应的引用计数\n",
    "3. 对于每个“容器对象”，找到它引用的“容器对象”，并将这个“容器对象”的引用计数-1\n",
    "4. 经过步骤3，如果一个“容器对象”的引用计数为0，就代表这玩意可以被回收了，  \n",
    "肯定是“循环引用”导致他活到现在的"
   ]
  },
  {
   "cell_type": "markdown",
   "metadata": {},
   "source": []
  },
  {
   "cell_type": "markdown",
   "metadata": {},
   "source": [
    "其他 见思维导图"
   ]
  },
  {
   "cell_type": "code",
   "execution_count": 7,
   "metadata": {},
   "outputs": [
    {
     "name": "stdout",
     "output_type": "stream",
     "text": [
      "(700, 10, 10)\n"
     ]
    }
   ],
   "source": [
    "import gc\n",
    "print(gc.get_threshold())\n",
    "# 调大 检测频率减少，提升程序性能，因为垃圾回收比较耗时\n",
    "# eg(700, 10, 5) 当垃圾回收器中，新增对象个数- 消亡的对象个数 = 700时会触发\n",
    "# 分代回收机制：0代检测超过10次，才会触发1代检测；\n",
    "# 1代触发超过5次，才会触发0代和1代和2代的检测"
   ]
  },
  {
   "cell_type": "code",
   "execution_count": 8,
   "metadata": {},
   "outputs": [],
   "source": [
    "gc.set_threshold(200, 5, 5)"
   ]
  },
  {
   "cell_type": "code",
   "execution_count": 9,
   "metadata": {},
   "outputs": [
    {
     "name": "stdout",
     "output_type": "stream",
     "text": [
      "False\n"
     ]
    }
   ],
   "source": [
    "gc.disable()\n",
    "print(gc.isenabled())"
   ]
  },
  {
   "cell_type": "code",
   "execution_count": 10,
   "metadata": {},
   "outputs": [
    {
     "data": {
      "text/plain": [
       "40"
      ]
     },
     "execution_count": 10,
     "metadata": {},
     "output_type": "execute_result"
    }
   ],
   "source": [
    "gc.collect()"
   ]
  },
  {
   "cell_type": "code",
   "execution_count": 20,
   "metadata": {},
   "outputs": [
    {
     "name": "stdout",
     "output_type": "stream",
     "text": [
      "2\n",
      "1\n"
     ]
    }
   ],
   "source": [
    "# 手动触发\n",
    "class Person:\n",
    "    pass\n",
    "\n",
    "class Dog:\n",
    "    pass\n",
    "\n",
    "p = Person()\n",
    "d = Dog()\n",
    "\n",
    "print(objgraph.count(\"Person\"))\n",
    "\n",
    "p.pet = d       # 注意这里\n",
    "d.master = p    # 循环引用\n",
    "\n",
    "del p\n",
    "del d\n",
    "\n",
    "gc.collect() # 不关心垃圾回收机制是否开启\n",
    "\n",
    "print(objgraph.count(\"Person\"))  # 理论上这里应该是0 有点问题不知道为啥\n"
   ]
  },
  {
   "cell_type": "markdown",
   "metadata": {},
   "source": [
    "#### 避免内存泄漏：“预防”:1.弱引用"
   ]
  },
  {
   "cell_type": "code",
   "execution_count": 21,
   "metadata": {
    "code_folding": []
   },
   "outputs": [
    {
     "name": "stdout",
     "output_type": "stream",
     "text": [
      "2\n",
      "1\n"
     ]
    }
   ],
   "source": [
    "# 弱引用\n",
    "import weakref\n",
    "class Person:\n",
    "    pass\n",
    "\n",
    "class Dog:\n",
    "    pass\n",
    "\n",
    "p = Person()\n",
    "d = Dog()\n",
    "\n",
    "print(objgraph.count(\"Person\"))\n",
    "\n",
    "p.pet = d       # 注意这里\n",
    "d.master = weakref.ref(p)    # 循环引用\n",
    "\n",
    "del p\n",
    "del d\n",
    "\n",
    "gc.collect() # 不关心垃圾回收机制是否开启\n",
    "\n",
    "print(objgraph.count(\"Person\"))  # 理论上这里应该是0 有点问题不知道为啥"
   ]
  },
  {
   "cell_type": "markdown",
   "metadata": {},
   "source": [
    "#### “治疗”：删除引用时，手动清空对其他容器对象的引用"
   ]
  },
  {
   "cell_type": "code",
   "execution_count": 22,
   "metadata": {},
   "outputs": [
    {
     "name": "stdout",
     "output_type": "stream",
     "text": [
      "2\n",
      "1\n",
      "0\n"
     ]
    }
   ],
   "source": [
    "class Person:\n",
    "    pass\n",
    "\n",
    "class Dog:\n",
    "    pass\n",
    "\n",
    "p = Person()\n",
    "d = Dog()\n",
    "\n",
    "print(objgraph.count(\"Person\"))\n",
    "\n",
    "p.pet = d       # 注意这里\n",
    "d.master = p    # 循环引用\n",
    "\n",
    "p.pet = None\n",
    "\n",
    "del p\n",
    "del d\n",
    "\n",
    "gc.collect() # 不关心垃圾回收机制是否开启\n",
    "\n",
    "print(objgraph.count(\"Person\"))  # 理论上这里应该是0 有点问题不知道为啥\n",
    "print(objgraph.count(\"Dog\"))"
   ]
  },
  {
   "cell_type": "markdown",
   "metadata": {},
   "source": [
    "```\n",
    "p.pet = {\"dog\": weakref.ref(d1), \"cat\": weakref.ref(c1)}     # 注意这里，写法1\n",
    "# weakref.WeakValueDictionary({\"dog\": d1, \"cat\": c1})        # 写法2\n",
    "```"
   ]
  },
  {
   "cell_type": "code",
   "execution_count": null,
   "metadata": {},
   "outputs": [],
   "source": []
  }
 ],
 "metadata": {
  "kernelspec": {
   "display_name": "kaggle",
   "language": "python",
   "name": "kaggle"
  },
  "language_info": {
   "codemirror_mode": {
    "name": "ipython",
    "version": 3
   },
   "file_extension": ".py",
   "mimetype": "text/x-python",
   "name": "python",
   "nbconvert_exporter": "python",
   "pygments_lexer": "ipython3",
   "version": "3.7.7"
  },
  "toc": {
   "base_numbering": 1,
   "nav_menu": {},
   "number_sections": true,
   "sideBar": true,
   "skip_h1_title": false,
   "title_cell": "Table of Contents",
   "title_sidebar": "Contents",
   "toc_cell": false,
   "toc_position": {},
   "toc_section_display": true,
   "toc_window_display": false
  },
  "varInspector": {
   "cols": {
    "lenName": 16,
    "lenType": 16,
    "lenVar": 40
   },
   "kernels_config": {
    "python": {
     "delete_cmd_postfix": "",
     "delete_cmd_prefix": "del ",
     "library": "var_list.py",
     "varRefreshCmd": "print(var_dic_list())"
    },
    "r": {
     "delete_cmd_postfix": ") ",
     "delete_cmd_prefix": "rm(",
     "library": "var_list.r",
     "varRefreshCmd": "cat(var_dic_list()) "
    }
   },
   "types_to_exclude": [
    "module",
    "function",
    "builtin_function_or_method",
    "instance",
    "_Feature"
   ],
   "window_display": false
  }
 },
 "nbformat": 4,
 "nbformat_minor": 4
}
