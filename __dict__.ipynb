{
 "cells": [
  {
   "cell_type": "code",
   "execution_count": 1,
   "metadata": {
    "scrolled": true
   },
   "outputs": [],
   "source": [
    "class Money:\n",
    "    age = 18\n",
    "    height = 180\n",
    "\n",
    "# Money.__dict__ = {\"sex\": \"男\"}\n",
    "# print(Money.__dict__) 报错如下:\n",
    "# AttributeError: attribute '__dict__' of 'type' objects is not writable"
   ]
  },
  {
   "cell_type": "code",
   "execution_count": 2,
   "metadata": {},
   "outputs": [
    {
     "name": "stdout",
     "output_type": "stream",
     "text": [
      "{}\n"
     ]
    }
   ],
   "source": [
    "one = Money()\n",
    "print(one.__dict__)"
   ]
  },
  {
   "cell_type": "code",
   "execution_count": 3,
   "metadata": {},
   "outputs": [
    {
     "name": "stdout",
     "output_type": "stream",
     "text": [
      "{'age': 18, 'height': 180}\n"
     ]
    }
   ],
   "source": [
    "one.age = 18\n",
    "one.height = 180\n",
    "print(one.__dict__)"
   ]
  },
  {
   "cell_type": "code",
   "execution_count": 6,
   "metadata": {},
   "outputs": [
    {
     "name": "stdout",
     "output_type": "stream",
     "text": [
      "sz\n",
      "{'name': 'sz', 'hobby': 'sleep'}\n",
      "wx\n"
     ]
    }
   ],
   "source": [
    "one.__dict__ = {\"name\": \"sz\", \"hobby\": \"sleep\"}\n",
    "print(one.name)\n",
    "print(one.__dict__)\n",
    "one.__dict__[\"name\"] = \"wx\"\n",
    "print(one.name)"
   ]
  },
  {
   "cell_type": "code",
   "execution_count": 7,
   "metadata": {},
   "outputs": [
    {
     "name": "stdout",
     "output_type": "stream",
     "text": [
      "10\n",
      "15\n"
     ]
    }
   ],
   "source": [
    "class Person:\n",
    "    age = 10\n",
    "    pass\n",
    "\n",
    "p = Person()\n",
    "\n",
    "p.age +=5\n",
    "# p.age = p.age + 5 右边查询\n",
    "# p.age = 15 修改\n",
    "\n",
    "print(Person.age)\n",
    "print(p.age)"
   ]
  },
  {
   "cell_type": "code",
   "execution_count": null,
   "metadata": {},
   "outputs": [],
   "source": []
  }
 ],
 "metadata": {
  "kernelspec": {
   "display_name": "Python 3",
   "language": "python",
   "name": "python3"
  },
  "language_info": {
   "codemirror_mode": {
    "name": "ipython",
    "version": 3
   },
   "file_extension": ".py",
   "mimetype": "text/x-python",
   "name": "python",
   "nbconvert_exporter": "python",
   "pygments_lexer": "ipython3",
   "version": "3.7.9"
  },
  "toc": {
   "base_numbering": 1,
   "nav_menu": {},
   "number_sections": true,
   "sideBar": true,
   "skip_h1_title": false,
   "title_cell": "Table of Contents",
   "title_sidebar": "Contents",
   "toc_cell": false,
   "toc_position": {},
   "toc_section_display": true,
   "toc_window_display": false
  }
 },
 "nbformat": 4,
 "nbformat_minor": 4
}
