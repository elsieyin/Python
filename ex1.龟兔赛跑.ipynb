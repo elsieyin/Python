{
 "cells": [
  {
   "cell_type": "code",
   "execution_count": 1,
   "metadata": {
    "ExecuteTime": {
     "end_time": "2020-07-24T03:51:46.906343Z",
     "start_time": "2020-07-24T03:51:26.360986Z"
    }
   },
   "outputs": [
    {
     "name": "stdout",
     "output_type": "stream",
     "text": [
      "10 5 5 2 20\n",
      "D\n",
      "4\n"
     ]
    }
   ],
   "source": [
    "data = list(map(int, input().split()))\n",
    "\n",
    "Rabbit = data[0]  # 兔子的速度v1\n",
    "Turtle = data[1] # 乌龟的速度v2\n",
    "excelDistance = data[2] # 兔子对应的t\n",
    "sleepTime = data[3] # 兔子对应的s\n",
    "objectDistance = data[4] #赛道的长度l\n",
    "\n",
    "time = TL = RL =  0\n",
    "\n",
    "while True:\n",
    "    if RL - TL >= excelDistance:\n",
    "        for i in range(sleepTime):\n",
    "            TL += Turtle\n",
    "            time += 1\n",
    "            if TL >= objectDistance > RL:\n",
    "                print(\"T\")\n",
    "                print(time)\n",
    "                exit()\n",
    "        # RL += 0\n",
    "    else:\n",
    "        RL += Rabbit\n",
    "        TL += Turtle\n",
    "        time += 1\n",
    "\n",
    "    if RL >= objectDistance > TL:\n",
    "        print(\"R\")\n",
    "        print(time)\n",
    "        break\n",
    "    elif TL >= objectDistance > RL:\n",
    "        print(\"T\")\n",
    "        print(time)\n",
    "        break\n",
    "    elif RL == TL >= objectDistance:\n",
    "        print(\"D\")\n",
    "        print(time)\n",
    "        break\n"
   ]
  },
  {
   "cell_type": "code",
   "execution_count": null,
   "metadata": {},
   "outputs": [],
   "source": [
    "import math\n",
    "v1, v2, t, s, l = map(int, input().split())\n",
    "'''\n",
    "v1 兔子的速度\n",
    "v2 乌龟的速度\n",
    "t 兔子领先t米以上\n",
    "s 一旦任一秒结束后假如兔子发现自己领先t米以上，就休息s秒\n",
    "l 总路程\n",
    "'''\n",
    "l1 = 0  # 兔子走的路程\n",
    "l2 = 0  # 乌龟走的路程\n",
    "l1time = 0  # 兔子现在走了的时间\n",
    "l2time = 0  # 乌龟现在走了的时间\n",
    "while True:\n",
    "    if l1-l2 >= t:\n",
    "        l2 += s*v2\n",
    "        l1time += s\n",
    "        l2time += s\n",
    "    dt1 = l1time+(l-l1)/v1  # 兔子走到重点所需要的时间\n",
    "    dt2 = l2time+(l-l2)/v2  # 乌龟走到重点所需要的时间\n",
    "    l1 += v1\n",
    "    l2 += v2\n",
    "    l1time += 1\n",
    "    l2time += 1\n",
    "    if l1 >= l or l2 >= l:\n",
    "        # if l1>l2:\n",
    "        # print('R')\n",
    "        # print(l1time)\n",
    "        # break\n",
    "        # elif l1==l2:\n",
    "        # print('D')\n",
    "        # print(l1time)\n",
    "        if dt1 > dt2:\n",
    "            print('T')\n",
    "            print(math.ceil(dt2))\n",
    "            # print('l2',l2)\n",
    "            break\n",
    "        elif dt1 == dt2:\n",
    "            print('D')\n",
    "            print(math.ceil(dt1))\n",
    "            break\n",
    "        else:\n",
    "            print('R')\n",
    "            print(math.ceil(dt1))\n",
    "            break"
   ]
  }
 ],
 "metadata": {
  "kernelspec": {
   "display_name": "joyfulpd",
   "language": "python",
   "name": "joyfulpd"
  },
  "language_info": {
   "codemirror_mode": {
    "name": "ipython",
    "version": 3
   },
   "file_extension": ".py",
   "mimetype": "text/x-python",
   "name": "python",
   "nbconvert_exporter": "python",
   "pygments_lexer": "ipython3",
   "version": "3.8.3"
  },
  "toc": {
   "base_numbering": 1,
   "nav_menu": {},
   "number_sections": true,
   "sideBar": true,
   "skip_h1_title": false,
   "title_cell": "Table of Contents",
   "title_sidebar": "Contents",
   "toc_cell": false,
   "toc_position": {},
   "toc_section_display": true,
   "toc_window_display": false
  },
  "varInspector": {
   "cols": {
    "lenName": 16,
    "lenType": 16,
    "lenVar": 40
   },
   "kernels_config": {
    "python": {
     "delete_cmd_postfix": "",
     "delete_cmd_prefix": "del ",
     "library": "var_list.py",
     "varRefreshCmd": "print(var_dic_list())"
    },
    "r": {
     "delete_cmd_postfix": ") ",
     "delete_cmd_prefix": "rm(",
     "library": "var_list.r",
     "varRefreshCmd": "cat(var_dic_list()) "
    }
   },
   "types_to_exclude": [
    "module",
    "function",
    "builtin_function_or_method",
    "instance",
    "_Feature"
   ],
   "window_display": false
  }
 },
 "nbformat": 4,
 "nbformat_minor": 4
}
