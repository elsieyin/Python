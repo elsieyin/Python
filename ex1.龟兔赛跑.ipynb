{
 "cells": [
  {
   "cell_type": "code",
   "execution_count": 1,
   "metadata": {
    "ExecuteTime": {
     "end_time": "2020-07-24T03:51:46.906343Z",
     "start_time": "2020-07-24T03:51:26.360986Z"
    }
   },
   "outputs": [
    {
     "name": "stdout",
     "output_type": "stream",
     "text": [
      "10 5 5 2 20\n",
      "D\n",
      "4\n"
     ]
    }
   ],
   "source": [
    "data = list(map(int, input().split()))\n",
    "\n",
    "Rabbit = data[0]  # 兔子的速度v1\n",
    "Turtle = data[1] # 乌龟的速度v2\n",
    "excelDistance = data[2] # 兔子对应的t\n",
    "sleepTime = data[3] # 兔子对应的s\n",
    "objectDistance = data[4] #赛道的长度l\n",
    "\n",
    "time = TL = RL =  0\n",
    "\n",
    "while True:\n",
    "    if RL - TL >= excelDistance:\n",
    "        for i in range(sleepTime):\n",
    "            TL += Turtle\n",
    "            time += 1\n",
    "            if TL >= objectDistance > RL:\n",
    "                print(\"T\")\n",
    "                print(time)\n",
    "                exit()\n",
    "        # RL += 0\n",
    "    else:\n",
    "        RL += Rabbit\n",
    "        TL += Turtle\n",
    "        time += 1\n",
    "\n",
    "    if RL >= objectDistance > TL:\n",
    "        print(\"R\")\n",
    "        print(time)\n",
    "        break\n",
    "    elif TL >= objectDistance > RL:\n",
    "        print(\"T\")\n",
    "        print(time)\n",
    "        break\n",
    "    elif RL == TL >= objectDistance:\n",
    "        print(\"D\")\n",
    "        print(time)\n",
    "        break\n"
   ]
  }
 ],
 "metadata": {
  "kernelspec": {
   "display_name": "joyfulpd",
   "language": "python",
   "name": "joyfulpd"
  },
  "language_info": {
   "codemirror_mode": {
    "name": "ipython",
    "version": 3
   },
   "file_extension": ".py",
   "mimetype": "text/x-python",
   "name": "python",
   "nbconvert_exporter": "python",
   "pygments_lexer": "ipython3",
   "version": "3.8.3"
  },
  "toc": {
   "base_numbering": 1,
   "nav_menu": {},
   "number_sections": true,
   "sideBar": true,
   "skip_h1_title": false,
   "title_cell": "Table of Contents",
   "title_sidebar": "Contents",
   "toc_cell": false,
   "toc_position": {},
   "toc_section_display": true,
   "toc_window_display": false
  },
  "varInspector": {
   "cols": {
    "lenName": 16,
    "lenType": 16,
    "lenVar": 40
   },
   "kernels_config": {
    "python": {
     "delete_cmd_postfix": "",
     "delete_cmd_prefix": "del ",
     "library": "var_list.py",
     "varRefreshCmd": "print(var_dic_list())"
    },
    "r": {
     "delete_cmd_postfix": ") ",
     "delete_cmd_prefix": "rm(",
     "library": "var_list.r",
     "varRefreshCmd": "cat(var_dic_list()) "
    }
   },
   "types_to_exclude": [
    "module",
    "function",
    "builtin_function_or_method",
    "instance",
    "_Feature"
   ],
   "window_display": false
  }
 },
 "nbformat": 4,
 "nbformat_minor": 4
}
