{
 "cells": [
  {
   "cell_type": "code",
   "execution_count": 1,
   "metadata": {},
   "outputs": [],
   "source": [
    "import pprint"
   ]
  },
  {
   "cell_type": "code",
   "execution_count": 2,
   "metadata": {},
   "outputs": [
    {
     "name": "stdout",
     "output_type": "stream",
     "text": [
      "这是一个函数\n"
     ]
    }
   ],
   "source": [
    "# 函数\n",
    "def eat():\n",
    "    print(\"这是一个函数\")\n",
    "    \n",
    "eat()"
   ]
  },
  {
   "cell_type": "code",
   "execution_count": 10,
   "metadata": {},
   "outputs": [
    {
     "name": "stdout",
     "output_type": "stream",
     "text": [
      "<__main__.Person object at 0x0000016B0DF19F48>\n",
      "这是一个实例方法 <__main__.Person object at 0x0000016B0DF19F48>\n",
      "这是一个类方法 <class '__main__.Person'>\n",
      "这是一个静态方法\n"
     ]
    }
   ],
   "source": [
    "# 方法\n",
    "class Person:\n",
    "    def eat2(self):\n",
    "        print(\"这是一个实例方法\", self)\n",
    "    \n",
    "    @classmethod\n",
    "    def leifangfa(cls):\n",
    "        print(\"这是一个类方法\", cls)\n",
    "        \n",
    "    @staticmethod\n",
    "    def jingtaifangfa():\n",
    "        print(\"这是一个静态方法\")\n",
    "        \n",
    "p = Person()\n",
    "print(p)\n",
    "p.eat2()\n",
    "\n",
    "Person.leifangfa()\n",
    "Person.jingtaifangfa()\n",
    "\n",
    "# Person.eat2() TypeError: eat2() missing 1 required positional argument: 'self'"
   ]
  },
  {
   "cell_type": "code",
   "execution_count": 6,
   "metadata": {},
   "outputs": [
    {
     "name": "stdout",
     "output_type": "stream",
     "text": [
      "mappingproxy({'__dict__': <attribute '__dict__' of 'Person' objects>,\n",
      "              '__doc__': None,\n",
      "              '__module__': '__main__',\n",
      "              '__weakref__': <attribute '__weakref__' of 'Person' objects>,\n",
      "              'eat2': <function Person.eat2 at 0x00000213FD8EE8B8>,\n",
      "              'jingtaifangfa': <staticmethod object at 0x00000213FD994648>,\n",
      "              'leifangfa': <classmethod object at 0x00000213FD994588>})\n"
     ]
    }
   ],
   "source": [
    "pprint.pprint(Person.__dict__)"
   ]
  },
  {
   "cell_type": "code",
   "execution_count": 7,
   "metadata": {},
   "outputs": [
    {
     "name": "stdout",
     "output_type": "stream",
     "text": [
      "{'age': <function run at 0x00000213FD982D38>}\n"
     ]
    }
   ],
   "source": [
    "# print(p.__dict__) # {}\n",
    "\n",
    "# 方法也是存在__dict__的字典中的\n",
    "def run():\n",
    "    print(\"run\")\n",
    "    \n",
    "p.age = run\n",
    "print(p.__dict__)"
   ]
  },
  {
   "cell_type": "code",
   "execution_count": null,
   "metadata": {},
   "outputs": [],
   "source": []
  },
  {
   "cell_type": "code",
   "execution_count": 8,
   "metadata": {},
   "outputs": [
    {
     "name": "stdout",
     "output_type": "stream",
     "text": [
      "<__main__.Person object at 0x00000213FD974108>\n",
      "<__main__.Person object at 0x00000213FD974108> 在吃 土豆\n"
     ]
    }
   ],
   "source": [
    "# 实例方法\n",
    "class Person:\n",
    "    def eat(self, food):\n",
    "        print(self,\"在吃\", food)\n",
    "\n",
    "    def eat2(xxx):\n",
    "        print(xxx)\n",
    "\n",
    "    # def eat3():\n",
    "    #     print(\"123\")\n",
    "\n",
    "# 标准调用\n",
    "p = Person()\n",
    "print(p)\n",
    "p.eat(\"土豆\")"
   ]
  },
  {
   "cell_type": "code",
   "execution_count": 9,
   "metadata": {
    "code_folding": []
   },
   "outputs": [
    {
     "name": "stdout",
     "output_type": "stream",
     "text": [
      "<function Person.eat at 0x00000213FD982EE8>\n",
      "123 在吃 abc\n",
      "abc 在吃 999\n",
      "<__main__.Person object at 0x00000213FD974108>\n"
     ]
    }
   ],
   "source": [
    "# 间接调用 了解 很少用\n",
    "print(Person.eat)\n",
    "\n",
    "# 使用类调用\n",
    "Person.eat(123, \"abc\")\n",
    "\n",
    "# 间接调用\n",
    "func = Person.eat\n",
    "func(\"abc\", 999)\n",
    "\n",
    "p.eat2()"
   ]
  },
  {
   "cell_type": "code",
   "execution_count": 5,
   "metadata": {},
   "outputs": [],
   "source": [
    "# l.sort()是一个实例方法，自动传self\n",
    "l = [1,4,3,2]\n",
    "# sorted(l)\n",
    "# list.sort(l) # 如果设计成类方法还要传l作为参数\n",
    "l.sort()"
   ]
  },
  {
   "cell_type": "code",
   "execution_count": null,
   "metadata": {},
   "outputs": [],
   "source": [
    "def sort(self, *args, **kwargs): # real signature unknown\n",
    "    Sort the list in ascending order and return None.\n",
    "\n",
    "    The sort is in-place (i.e. the list itself is modified) and stable (i.e. the\n",
    "    order of two equal elements is maintained).\n",
    "\n",
    "    If a key function is given, apply it once to each list item and sort them,\n",
    "    ascending or descending, according to their function values.\n",
    "\n",
    "    The reverse flag can be set to sort in descending order."
   ]
  },
  {
   "cell_type": "code",
   "execution_count": null,
   "metadata": {},
   "outputs": [],
   "source": []
  },
  {
   "cell_type": "code",
   "execution_count": 8,
   "metadata": {},
   "outputs": [
    {
     "name": "stdout",
     "output_type": "stream",
     "text": [
      "这是一个类方法 <class '__main__.Person'> 123\n",
      "这是一个类方法 <class '__main__.Person'> 666\n",
      "这是一个类方法 <class '__main__.Person'> 111\n",
      "这是一个类方法 <class '__main__.A'> 0\n"
     ]
    }
   ],
   "source": [
    "# 类方法\n",
    "class Person:\n",
    "    @classmethod\n",
    "    def leifangfa(cls, a):\n",
    "        print(\"这是一个类方法\", cls, a)\n",
    "\n",
    "Person.leifangfa(123)\n",
    "\n",
    "p = Person()\n",
    "p.leifangfa(666)\n",
    "\n",
    "func = Person.leifangfa  # 不要求掌握\n",
    "func(111)\n",
    "\n",
    "# 装饰器的作用： 在保证原本函数不改变的前提下，直接给这个函数增加功能\n",
    "\n",
    "# 继承，这里类变成A了:\n",
    "class A(Person):\n",
    "    pass\n",
    "A.leifangfa(0)"
   ]
  },
  {
   "cell_type": "code",
   "execution_count": 11,
   "metadata": {},
   "outputs": [
    {
     "ename": "SyntaxError",
     "evalue": "invalid syntax (<ipython-input-11-cdfdd2bc6401>, line 1)",
     "output_type": "error",
     "traceback": [
      "\u001b[1;36m  File \u001b[1;32m\"<ipython-input-11-cdfdd2bc6401>\"\u001b[1;36m, line \u001b[1;32m1\u001b[0m\n\u001b[1;33m    classmethod(function) -> method\u001b[0m\n\u001b[1;37m                           ^\u001b[0m\n\u001b[1;31mSyntaxError\u001b[0m\u001b[1;31m:\u001b[0m invalid syntax\n"
     ]
    }
   ],
   "source": [
    "classmethod(function) -> method\n",
    "    \n",
    "    Convert a function to be a class method.\n",
    "    \n",
    "    A class method receives the class as implicit first argument,\n",
    "    just like an instance method receives the instance.\n",
    "    To declare a class method, use this idiom:\n",
    "    \n",
    "      class C:\n",
    "          @classmethod\n",
    "          def f(cls, arg1, arg2, ...):\n",
    "              ...\n",
    "    \n",
    "    It can be called either on the class (e.g. C.f()) or on an instance\n",
    "    (e.g. C().f()).  The instance is ignored except for its class.\n",
    "    If a class method is called for a derived class, the derived class\n",
    "    object is passed as the implied first argument.\n",
    "    \n",
    "    Class methods are different than C++ or Java static methods.\n",
    "    If you want those, see the staticmethod builtin."
   ]
  },
  {
   "cell_type": "code",
   "execution_count": null,
   "metadata": {},
   "outputs": [],
   "source": []
  },
  {
   "cell_type": "code",
   "execution_count": 7,
   "metadata": {},
   "outputs": [
    {
     "name": "stdout",
     "output_type": "stream",
     "text": [
      "这是一个静态方法\n",
      "这是一个静态方法\n",
      "这是一个静态方法\n"
     ]
    }
   ],
   "source": [
    "# 静态方法\n",
    "class Person:\n",
    "    @staticmethod\n",
    "    def jingtai():\n",
    "        print(\"这是一个静态方法\")\n",
    "\n",
    "p = Person()\n",
    "\n",
    "Person.jingtai()\n",
    "p.jingtai()\n",
    "\n",
    "func = Person.jingtai\n",
    "func()"
   ]
  },
  {
   "cell_type": "code",
   "execution_count": null,
   "metadata": {},
   "outputs": [],
   "source": [
    "class staticmethod(object):\n",
    "    staticmethod(function) -> method\n",
    "    \n",
    "    Convert a function to be a static method.\n",
    "    \n",
    "    A static method does not receive an implicit first argument.\n",
    "    To declare a static method, use this idiom:\n",
    "    \n",
    "         class C:\n",
    "             @staticmethod\n",
    "             def f(arg1, arg2, ...):\n",
    "                 ...\n",
    "    \n",
    "    It can be called either on the class (e.g. C.f()) or on an instance\n",
    "    (e.g. C().f()). Both the class and the instance are ignored, and\n",
    "    neither is passed implicitly as the first argument to the method.\n",
    "    \n",
    "    Static methods in Python are similar to those found in Java or C++.\n",
    "    For a more advanced concept, see the classmethod builtin."
   ]
  },
  {
   "cell_type": "code",
   "execution_count": null,
   "metadata": {},
   "outputs": [],
   "source": []
  },
  {
   "cell_type": "code",
   "execution_count": 13,
   "metadata": {},
   "outputs": [
    {
     "name": "stdout",
     "output_type": "stream",
     "text": [
      "<__main__.Person object at 0x0000016B0DF24AC8>\n",
      "0\n",
      "10\n",
      "<class '__main__.Person'>\n",
      "0\n",
      "<class '__main__.Person'>\n",
      "0\n",
      "0\n"
     ]
    }
   ],
   "source": [
    "# 不同类型的方法访问不同类型的属性的规律\n",
    "class Person:\n",
    "    age = 0\n",
    "    def shilifangfa(self):\n",
    "        print(self)\n",
    "        print(self.age)\n",
    "        print(self.num)\n",
    "\n",
    "    @classmethod\n",
    "    def leifangfa(cls):\n",
    "        print(cls)\n",
    "        print(cls.age)\n",
    "#         print(cls.num) # AttributeError: type object 'Person' has no attribute 'num'\n",
    "\n",
    "    @staticmethod\n",
    "    def jingtaifangfa():\n",
    "        print(Person.age)\n",
    "\n",
    "p = Person()\n",
    "p.num = 10\n",
    "\n",
    "p.shilifangfa()\n",
    "\n",
    "p.leifangfa()\n",
    "Person.leifangfa()\n",
    "\n",
    "Person.jingtaifangfa()"
   ]
  },
  {
   "cell_type": "code",
   "execution_count": null,
   "metadata": {},
   "outputs": [],
   "source": []
  }
 ],
 "metadata": {
  "kernelspec": {
   "display_name": "Python 3",
   "language": "python",
   "name": "python3"
  },
  "language_info": {
   "codemirror_mode": {
    "name": "ipython",
    "version": 3
   },
   "file_extension": ".py",
   "mimetype": "text/x-python",
   "name": "python",
   "nbconvert_exporter": "python",
   "pygments_lexer": "ipython3",
   "version": "3.7.9"
  },
  "toc": {
   "base_numbering": 1,
   "nav_menu": {},
   "number_sections": true,
   "sideBar": true,
   "skip_h1_title": false,
   "title_cell": "Table of Contents",
   "title_sidebar": "Contents",
   "toc_cell": false,
   "toc_position": {},
   "toc_section_display": true,
   "toc_window_display": false
  }
 },
 "nbformat": 4,
 "nbformat_minor": 4
}
