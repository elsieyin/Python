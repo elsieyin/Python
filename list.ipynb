{
 "cells": [
  {
   "cell_type": "markdown",
   "metadata": {},
   "source": [
    "### 列表操作练习\n",
    "列表lst 内容如下\n",
    "\n",
    "lst = [2, 5, 6, 7, 8, 9, 2, 9, 9]\n",
    "\n",
    "请写程序完成下列操作：\n",
    "\n",
    "1. 在列表的末尾增加元素15\n",
    "2. 在列表的中间位置插入元素20\n",
    "3. 将列表[2, 5, 6]合并到lst中\n",
    "4. 移除列表中索引为3的元素\n",
    "5. 翻转列表里的所有元素\n",
    "6. 对列表里的元素进行排序，从小到大一次，从大到小一次"
   ]
  },
  {
   "cell_type": "code",
   "execution_count": 5,
   "metadata": {
    "ExecuteTime": {
     "end_time": "2020-07-26T01:21:25.885606Z",
     "start_time": "2020-07-26T01:21:25.868823Z"
    }
   },
   "outputs": [],
   "source": [
    "lst = [2, 5, 6, 7, 8, 9, 2, 9, 9]"
   ]
  },
  {
   "cell_type": "code",
   "execution_count": 6,
   "metadata": {
    "ExecuteTime": {
     "end_time": "2020-07-26T01:21:26.876356Z",
     "start_time": "2020-07-26T01:21:26.867348Z"
    }
   },
   "outputs": [
    {
     "data": {
      "text/plain": [
       "[2, 5, 6, 7, 8, 9, 2, 9, 9, 15]"
      ]
     },
     "execution_count": 6,
     "metadata": {},
     "output_type": "execute_result"
    }
   ],
   "source": [
    "lst.append(15)\n",
    "lst"
   ]
  },
  {
   "cell_type": "code",
   "execution_count": 7,
   "metadata": {
    "ExecuteTime": {
     "end_time": "2020-07-26T01:21:31.160683Z",
     "start_time": "2020-07-26T01:21:31.155297Z"
    }
   },
   "outputs": [
    {
     "data": {
      "text/plain": [
       "[2, 5, 6, 7, 8, 20, 9, 2, 9, 9, 15]"
      ]
     },
     "execution_count": 7,
     "metadata": {},
     "output_type": "execute_result"
    }
   ],
   "source": [
    "lst.insert(5,20)\n",
    "lst"
   ]
  },
  {
   "cell_type": "code",
   "execution_count": 8,
   "metadata": {
    "ExecuteTime": {
     "end_time": "2020-07-26T01:22:06.638525Z",
     "start_time": "2020-07-26T01:22:06.635523Z"
    }
   },
   "outputs": [],
   "source": [
    "lst.extend([2, 5, 6])\n",
    "lst"
   ]
  },
  {
   "cell_type": "code",
   "execution_count": 10,
   "metadata": {
    "ExecuteTime": {
     "end_time": "2020-07-26T01:22:51.772547Z",
     "start_time": "2020-07-26T01:22:51.763453Z"
    }
   },
   "outputs": [
    {
     "data": {
      "text/plain": [
       "7"
      ]
     },
     "execution_count": 10,
     "metadata": {},
     "output_type": "execute_result"
    }
   ],
   "source": [
    "lst.pop(3)"
   ]
  },
  {
   "cell_type": "code",
   "execution_count": 11,
   "metadata": {
    "ExecuteTime": {
     "end_time": "2020-07-26T01:23:19.971071Z",
     "start_time": "2020-07-26T01:23:19.955734Z"
    }
   },
   "outputs": [
    {
     "data": {
      "text/plain": [
       "[6, 5, 2, 15, 9, 9, 2, 9, 20, 8, 6, 5, 2]"
      ]
     },
     "execution_count": 11,
     "metadata": {},
     "output_type": "execute_result"
    }
   ],
   "source": [
    "lst[::-1]\n",
    "lst"
   ]
  },
  {
   "cell_type": "code",
   "execution_count": 16,
   "metadata": {
    "ExecuteTime": {
     "end_time": "2020-07-26T01:25:39.127374Z",
     "start_time": "2020-07-26T01:25:39.115372Z"
    }
   },
   "outputs": [
    {
     "data": {
      "text/plain": [
       "[2, 2, 2, 5, 5, 6, 6, 8, 9, 9, 9, 15, 20]"
      ]
     },
     "execution_count": 16,
     "metadata": {},
     "output_type": "execute_result"
    }
   ],
   "source": [
    "lst.sort(reverse=False)\n",
    "lst"
   ]
  },
  {
   "cell_type": "code",
   "execution_count": 15,
   "metadata": {
    "ExecuteTime": {
     "end_time": "2020-07-26T01:25:35.956618Z",
     "start_time": "2020-07-26T01:25:35.953117Z"
    }
   },
   "outputs": [
    {
     "data": {
      "text/plain": [
       "[20, 15, 9, 9, 9, 8, 6, 6, 5, 5, 2, 2, 2]"
      ]
     },
     "execution_count": 15,
     "metadata": {},
     "output_type": "execute_result"
    }
   ],
   "source": [
    "lst.sort(reverse=True)\n",
    "lst"
   ]
  },
  {
   "cell_type": "markdown",
   "metadata": {},
   "source": [
    "### 修改列表\n",
    "\n",
    "问题描述：\n",
    "\n",
    "lst = [1, [4, 6], True]\n",
    "\n",
    "请将列表里所有数字修改成原来的两倍"
   ]
  },
  {
   "cell_type": "code",
   "execution_count": 20,
   "metadata": {
    "ExecuteTime": {
     "end_time": "2020-07-26T01:30:45.553161Z",
     "start_time": "2020-07-26T01:30:45.547653Z"
    }
   },
   "outputs": [],
   "source": [
    "lst2 = [1, [4,6], True]"
   ]
  },
  {
   "cell_type": "code",
   "execution_count": 22,
   "metadata": {
    "ExecuteTime": {
     "end_time": "2020-07-26T01:42:59.357082Z",
     "start_time": "2020-07-26T01:42:59.348552Z"
    }
   },
   "outputs": [
    {
     "name": "stdout",
     "output_type": "stream",
     "text": [
      "[2, [8, 12], True]\n"
     ]
    }
   ],
   "source": [
    "def double_list(lst):\n",
    "    for index, value in enumerate(lst):\n",
    "        if isinstance(value, bool):\n",
    "            continue\n",
    "        if isinstance(value,(int,float)):\n",
    "            lst[index] *= 2\n",
    "        if isinstance(value, list):\n",
    "            #递归\n",
    "            double_list(value)\n",
    " \n",
    "if __name__ == '__main__':\n",
    "    lst = lst = [1, [4, 6], True]\n",
    "    double_list(lst)\n",
    "    print(lst)"
   ]
  },
  {
   "cell_type": "markdown",
   "metadata": {},
   "source": [
    "leetcode 852题 山脉数组的峰顶索引\n",
    "\n",
    "如果一个数组k符合下面两个属性，则称之为山脉数组\n",
    "\n",
    "数组的长度大于等于3\n",
    "\n",
    "存在$i$，$i$ >0 且$i<\\operatorname{len}(k)-1$， 使得$$\\mathrm{k}[0]<\\mathrm{k}[1]<\\ldots<\\mathrm{k}[\\mathrm{i}-1]<\\mathrm{k}[\\mathrm{j}]>\\mathrm{k}[\\mathrm{i}+1] \\ldots>\\mathrm{k}[\\operatorname{len}(\\mathrm{k})-1]$$\n",
    "\n",
    "这个$i$就是顶峰索引。\n",
    "\n",
    "现在，给定一个山脉数组，求顶峰索引。\n",
    "\n",
    "示例:\n",
    "\n",
    "输入：[1, 3, 4, 5, 3]\n",
    "\n",
    "输出：True\n",
    "\n",
    "输入：[1, 2, 4, 6, 4, 5]\n",
    "\n",
    "输出：False\n",
    "\n",
    "```python\n",
    "class Solution:\n",
    "    def peakIndexInMountainArray(self, A: List[int]) -> int:\n",
    "       \n",
    "    # your code here\n",
    "```"
   ]
  },
  {
   "cell_type": "markdown",
   "metadata": {
    "ExecuteTime": {
     "end_time": "2020-07-26T01:47:04.271482Z",
     "start_time": "2020-07-26T01:47:04.139842Z"
    }
   },
   "source": [
    "```python\n",
    "class Solution:\n",
    "    def peakIndexInMountainArray(self, A: List[int]) -> int:\n",
    "        return  A.index(max(A))\n",
    "```"
   ]
  }
 ],
 "metadata": {
  "kernelspec": {
   "display_name": "joyfulpd",
   "language": "python",
   "name": "joyfulpd"
  },
  "language_info": {
   "codemirror_mode": {
    "name": "ipython",
    "version": 3
   },
   "file_extension": ".py",
   "mimetype": "text/x-python",
   "name": "python",
   "nbconvert_exporter": "python",
   "pygments_lexer": "ipython3",
   "version": "3.8.3"
  },
  "toc": {
   "base_numbering": 1,
   "nav_menu": {},
   "number_sections": true,
   "sideBar": true,
   "skip_h1_title": false,
   "title_cell": "Table of Contents",
   "title_sidebar": "Contents",
   "toc_cell": false,
   "toc_position": {},
   "toc_section_display": true,
   "toc_window_display": false
  },
  "varInspector": {
   "cols": {
    "lenName": 16,
    "lenType": 16,
    "lenVar": 40
   },
   "kernels_config": {
    "python": {
     "delete_cmd_postfix": "",
     "delete_cmd_prefix": "del ",
     "library": "var_list.py",
     "varRefreshCmd": "print(var_dic_list())"
    },
    "r": {
     "delete_cmd_postfix": ") ",
     "delete_cmd_prefix": "rm(",
     "library": "var_list.r",
     "varRefreshCmd": "cat(var_dic_list()) "
    }
   },
   "types_to_exclude": [
    "module",
    "function",
    "builtin_function_or_method",
    "instance",
    "_Feature"
   ],
   "window_display": false
  }
 },
 "nbformat": 4,
 "nbformat_minor": 4
}
