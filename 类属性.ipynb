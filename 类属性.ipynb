{
 "cells": [
  {
   "cell_type": "code",
   "execution_count": 29,
   "metadata": {},
   "outputs": [
    {
     "name": "stdout",
     "output_type": "stream",
     "text": [
      "18\n",
      "666\n"
     ]
    }
   ],
   "source": [
    "import pprint\n",
    "\n",
    "class Money:\n",
    "    age = 18\n",
    "    num = 666\n",
    "\n",
    "print(Money.age)\n",
    "print(Money.num)\n",
    "# print(Money.count) 报错如下:\n",
    "# AttributeError: type object 'Money' has no attribute 'count'"
   ]
  },
  {
   "cell_type": "code",
   "execution_count": 30,
   "metadata": {},
   "outputs": [],
   "source": [
    "Money.count = 1"
   ]
  },
  {
   "cell_type": "code",
   "execution_count": 31,
   "metadata": {},
   "outputs": [
    {
     "name": "stdout",
     "output_type": "stream",
     "text": [
      "one.num:  777\n",
      "Money.num:  666\n",
      "one.age:  20\n",
      "<class '__main__.Money'>\n",
      "{'num': 777}\n"
     ]
    }
   ],
   "source": [
    "one = Money()\n",
    "one.num = 777\n",
    "print(\"one.num: \", one.num)\n",
    "print(\"Money.num: \", Money.num)\n",
    "Money.age = 20\n",
    "print(\"one.age: \", one.age)\n",
    "print(one.__class__)\n",
    "print(one.__dict__)"
   ]
  },
  {
   "cell_type": "code",
   "execution_count": 32,
   "metadata": {},
   "outputs": [
    {
     "name": "stdout",
     "output_type": "stream",
     "text": [
      "mappingproxy({'__dict__': <attribute '__dict__' of 'Money' objects>,\n",
      "              '__doc__': None,\n",
      "              '__module__': '__main__',\n",
      "              '__weakref__': <attribute '__weakref__' of 'Money' objects>,\n",
      "              'age': 20,\n",
      "              'count': 1,\n",
      "              'num': 666})\n"
     ]
    }
   ],
   "source": [
    "pprint.pprint(Money.__dict__)"
   ]
  },
  {
   "cell_type": "code",
   "execution_count": 33,
   "metadata": {},
   "outputs": [],
   "source": [
    "del Money.num"
   ]
  },
  {
   "cell_type": "code",
   "execution_count": 34,
   "metadata": {},
   "outputs": [
    {
     "name": "stdout",
     "output_type": "stream",
     "text": [
      "<class '__main__.Test'>\n",
      "男\n",
      "女\n"
     ]
    }
   ],
   "source": [
    "class Test:\n",
    "    sex = \"男\"\n",
    "\n",
    "one.__class__ = Test\n",
    "print(one.__class__)\n",
    "print(one.sex)\n",
    "\n",
    "one.sex = '女'\n",
    "print(one.sex)\n",
    "# print(one.age) 报错如下：\n",
    "# AttributeError: 'Test' object has no attribute 'age'"
   ]
  },
  {
   "cell_type": "code",
   "execution_count": null,
   "metadata": {},
   "outputs": [],
   "source": []
  },
  {
   "cell_type": "code",
   "execution_count": null,
   "metadata": {},
   "outputs": [],
   "source": []
  }
 ],
 "metadata": {
  "kernelspec": {
   "display_name": "Python 3",
   "language": "python",
   "name": "python3"
  },
  "language_info": {
   "codemirror_mode": {
    "name": "ipython",
    "version": 3
   },
   "file_extension": ".py",
   "mimetype": "text/x-python",
   "name": "python",
   "nbconvert_exporter": "python",
   "pygments_lexer": "ipython3",
   "version": "3.7.9"
  },
  "toc": {
   "base_numbering": 1,
   "nav_menu": {},
   "number_sections": true,
   "sideBar": true,
   "skip_h1_title": false,
   "title_cell": "Table of Contents",
   "title_sidebar": "Contents",
   "toc_cell": false,
   "toc_position": {},
   "toc_section_display": true,
   "toc_window_display": false
  }
 },
 "nbformat": 4,
 "nbformat_minor": 4
}
