{
 "cells": [
  {
   "cell_type": "markdown",
   "metadata": {},
   "source": [
    "### 类的构造"
   ]
  },
  {
   "cell_type": "markdown",
   "metadata": {},
   "source": [
    "#### 定义类的阶段会立刻执行类体内的代码"
   ]
  },
  {
   "cell_type": "code",
   "execution_count": 1,
   "metadata": {},
   "outputs": [
    {
     "name": "stdout",
     "output_type": "stream",
     "text": [
      "=======>\n"
     ]
    }
   ],
   "source": [
    "#在程序中，务必保证：先定义（类），后使用（产生对象）\n",
    "\"\"\"PS:\n",
    "  1. 在程序中特征用变量标识，技能用函数标识\n",
    "  2. 因而类中最常见的无非是：变量和函数的定义\n",
    "  3. 定义类，使用关键字class+空格+类名，类名用大驼峰命名，变量名推荐使用“_”这种方式就是为了区分  \n",
    "#程序中的类\n",
    "\"\"\"\n",
    "class DeepshareStudent:\n",
    "    # 用变量表示特征\n",
    "    school='deepshare'\n",
    "    # 用函数表示技能\n",
    "    def learn(self):  \n",
    "        \"\"\"\n",
    "        self是你使用Pycharm自动添加的，你写成xxx也是一样的，\n",
    "        他就是一个位置参数，必须被传值，具体意义请看下文\n",
    "        \"\"\"\n",
    "        print('is learning')\n",
    "        # print('%s is learning' % self)  # 我们把这个函数稍微改一下\n",
    "        \n",
    "    def eat(self):\n",
    "        print('is eating')\n",
    "    \n",
    "    def sleep(self):\n",
    "        print('is sleeping')\n",
    "    \n",
    "    print('=======>')\n",
    "    # 类是特征与技能的结合体，所以类中最常见的就是变量和函数，但是类中也可以有任意的Python代码\n",
    "# 执行以上代码，你会发现会打印那一行箭头，这就说明前面的代码也运行了，\n",
    "# 这就说明在定义类的阶段会立刻执行类体内的代码，\n",
    "# 既然执行了，有变量有函数，那就会将产生的名字存放于类的名称空间"
   ]
  },
  {
   "cell_type": "markdown",
   "metadata": {},
   "source": [
    "### 类的查看"
   ]
  },
  {
   "cell_type": "markdown",
   "metadata": {},
   "source": [
    "#### 类.__dict__方法"
   ]
  },
  {
   "cell_type": "code",
   "execution_count": 3,
   "metadata": {},
   "outputs": [
    {
     "name": "stdout",
     "output_type": "stream",
     "text": [
      "mappingproxy({'__dict__': <attribute '__dict__' of 'DeepshareStudent' objects>,\n",
      "              '__doc__': None,\n",
      "              '__module__': '__main__',\n",
      "              '__weakref__': <attribute '__weakref__' of 'DeepshareStudent' objects>,\n",
      "              'eat': <function DeepshareStudent.eat at 0x000002C1ACC871F8>,\n",
      "              'learn': <function DeepshareStudent.learn at 0x000002C1ACC87168>,\n",
      "              'school': 'deepshare',\n",
      "              'sleep': <function DeepshareStudent.sleep at 0x000002C1ACC87288>})\n"
     ]
    }
   ],
   "source": [
    "import pprint\n",
    "# 使用类型.__dict__方法可以查看\n",
    "name_and_func = DeepshareStudent.__dict__\n",
    "pprint.pprint(name_and_func)\n",
    "# 注意：\n",
    "#  1.很明显这是一个字典的格式，因为有名字有内存地址，他们是一一对应的关系，最合适就是使用字典来存\n",
    "#  2.除去Python内置的键值对，我们只看和我们定义的类相关的部分"
   ]
  },
  {
   "cell_type": "code",
   "execution_count": 30,
   "metadata": {},
   "outputs": [
    {
     "name": "stdout",
     "output_type": "stream",
     "text": [
      "deepshare\n",
      "<function DeepshareStudent.learn at 0x00000202D765B8B0>\n"
     ]
    },
    {
     "ename": "TypeError",
     "evalue": "learn() missing 1 required positional argument: 'self'",
     "output_type": "error",
     "traceback": [
      "\u001b[1;31m---------------------------------------------------------------------------\u001b[0m",
      "\u001b[1;31mTypeError\u001b[0m                                 Traceback (most recent call last)",
      "\u001b[1;32m<ipython-input-30-f30c65678fa2>\u001b[0m in \u001b[0;36m<module>\u001b[1;34m\u001b[0m\n\u001b[0;32m     11\u001b[0m \"\"\"\n\u001b[0;32m     12\u001b[0m \u001b[1;33m\u001b[0m\u001b[0m\n\u001b[1;32m---> 13\u001b[1;33m \u001b[0mname_and_func\u001b[0m\u001b[1;33m[\u001b[0m\u001b[1;34m'learn'\u001b[0m\u001b[1;33m]\u001b[0m\u001b[1;33m(\u001b[0m\u001b[1;33m)\u001b[0m\u001b[1;33m\u001b[0m\u001b[1;33m\u001b[0m\u001b[0m\n\u001b[0m",
      "\u001b[1;31mTypeError\u001b[0m: learn() missing 1 required positional argument: 'self'"
     ]
    }
   ],
   "source": [
    "print(name_and_func['school'])\n",
    "print(name_and_func['learn'])\n",
    "# 执行代码输出\n",
    "\"\"\"\n",
    "deepshare\n",
    "<function DeepshareStudent.learn at 0x103bb0268>\n",
    "我们可以看到name_and_func['learn']是一个函数的内存地址，那么我加()应该就能调用他\n",
    "\"\"\"\n",
    "\n",
    "name_and_func['learn']()"
   ]
  },
  {
   "cell_type": "code",
   "execution_count": 17,
   "metadata": {},
   "outputs": [
    {
     "name": "stdout",
     "output_type": "stream",
     "text": [
      "albert is learning\n"
     ]
    }
   ],
   "source": [
    "name_and_func['learn']('albert')"
   ]
  },
  {
   "cell_type": "code",
   "execution_count": null,
   "metadata": {},
   "outputs": [],
   "source": [
    "name_and_func = DeepshareStudent.__dict__\n",
    "print(name_and_func['school'])\n",
    "print(name_and_func['learn'])\n",
    "print(name_and_func['eat'])\n",
    "print(name_and_func['sleep'])"
   ]
  },
  {
   "cell_type": "markdown",
   "metadata": {},
   "source": [
    "### 类.变量名/ 类.函数名"
   ]
  },
  {
   "cell_type": "code",
   "execution_count": 20,
   "metadata": {},
   "outputs": [
    {
     "name": "stdout",
     "output_type": "stream",
     "text": [
      "深度之享\n",
      "<function DeepshareStudent.learn at 0x00000202D60A1B80>\n",
      "<function DeepshareStudent.eat at 0x00000202D765B670>\n",
      "<function DeepshareStudent.sleep at 0x00000202D765B700>\n"
     ]
    }
   ],
   "source": [
    "# 对象直接.这个变量名或者函数名\n",
    "print(DeepshareStudent.school)\n",
    "print(DeepshareStudent.learn)\n",
    "print(DeepshareStudent.eat)\n",
    "print(DeepshareStudent.sleep)\n",
    "# 输出结果和上方代码一致，其实我们shying这种方式，他的本质就是在执行上方代码\n",
    "# __开头__结尾都是在某种情况下，自动触发，我们自己一般不需要写"
   ]
  },
  {
   "cell_type": "code",
   "execution_count": 18,
   "metadata": {},
   "outputs": [
    {
     "ename": "AttributeError",
     "evalue": "type object 'DeepshareStudent' has no attribute 'abc'",
     "output_type": "error",
     "traceback": [
      "\u001b[1;31m---------------------------------------------------------------------------\u001b[0m",
      "\u001b[1;31mAttributeError\u001b[0m                            Traceback (most recent call last)",
      "\u001b[1;32m<ipython-input-18-7405642af06d>\u001b[0m in \u001b[0;36m<module>\u001b[1;34m\u001b[0m\n\u001b[1;32m----> 1\u001b[1;33m \u001b[0mprint\u001b[0m\u001b[1;33m(\u001b[0m\u001b[0mDeepshareStudent\u001b[0m\u001b[1;33m.\u001b[0m\u001b[0mabc\u001b[0m\u001b[1;33m)\u001b[0m\u001b[1;33m\u001b[0m\u001b[1;33m\u001b[0m\u001b[0m\n\u001b[0m",
      "\u001b[1;31mAttributeError\u001b[0m: type object 'DeepshareStudent' has no attribute 'abc'"
     ]
    }
   ],
   "source": [
    "print(DeepshareStudent.abc)"
   ]
  },
  {
   "cell_type": "code",
   "execution_count": 21,
   "metadata": {},
   "outputs": [
    {
     "name": "stdout",
     "output_type": "stream",
     "text": [
      "深度之享\n",
      "China\n"
     ]
    },
    {
     "ename": "AttributeError",
     "evalue": "type object 'DeepshareStudent' has no attribute 'country'",
     "output_type": "error",
     "traceback": [
      "\u001b[1;31m---------------------------------------------------------------------------\u001b[0m",
      "\u001b[1;31mAttributeError\u001b[0m                            Traceback (most recent call last)",
      "\u001b[1;32m<ipython-input-21-ede3770736fd>\u001b[0m in \u001b[0;36m<module>\u001b[1;34m\u001b[0m\n\u001b[0;32m      7\u001b[0m \u001b[1;31m# 删除类的属性\u001b[0m\u001b[1;33m\u001b[0m\u001b[1;33m\u001b[0m\u001b[1;33m\u001b[0m\u001b[0m\n\u001b[0;32m      8\u001b[0m \u001b[1;32mdel\u001b[0m \u001b[0mDeepshareStudent\u001b[0m\u001b[1;33m.\u001b[0m\u001b[0mcountry\u001b[0m\u001b[1;33m\u001b[0m\u001b[1;33m\u001b[0m\u001b[0m\n\u001b[1;32m----> 9\u001b[1;33m \u001b[0mprint\u001b[0m\u001b[1;33m(\u001b[0m\u001b[0mDeepshareStudent\u001b[0m\u001b[1;33m.\u001b[0m\u001b[0mcountry\u001b[0m\u001b[1;33m)\u001b[0m\u001b[1;33m\u001b[0m\u001b[1;33m\u001b[0m\u001b[0m\n\u001b[0m",
      "\u001b[1;31mAttributeError\u001b[0m: type object 'DeepshareStudent' has no attribute 'country'"
     ]
    }
   ],
   "source": [
    "# 修改类的属性值\n",
    "DeepshareStudent.school = '深度之享'\n",
    "print(DeepshareStudent.school)\n",
    "# 给类添加属性\n",
    "DeepshareStudent.country = 'China'\n",
    "print(DeepshareStudent.country)\n",
    "# 删除类的属性\n",
    "del DeepshareStudent.country\n",
    "print(DeepshareStudent.country)"
   ]
  },
  {
   "cell_type": "markdown",
   "metadata": {},
   "source": [
    "### 类的定义阶段就会执行 类体内的代码"
   ]
  },
  {
   "cell_type": "code",
   "execution_count": 22,
   "metadata": {},
   "outputs": [
    {
     "name": "stdout",
     "output_type": "stream",
     "text": [
      "=====>\n"
     ]
    }
   ],
   "source": [
    "class DeepshareStudent:\n",
    "    school = 'deepshare'\n",
    "    print('=====>')\n",
    "    def __init__(self):  # 在程序中定义一个__init__函数\n",
    "        print('===init run====>')  # 我们先什么都不屑，打印一下\n",
    "    def learn(self):\n",
    "        print('%s is learning' % self)\n",
    "    def eat(self):\n",
    "        print('is eating')\n",
    "    def sleep(self):\n",
    "        print('is sleeping')"
   ]
  },
  {
   "cell_type": "markdown",
   "metadata": {},
   "source": [
    "### 调用类时，会自动触发执行__init__()"
   ]
  },
  {
   "cell_type": "code",
   "execution_count": 24,
   "metadata": {},
   "outputs": [
    {
     "name": "stdout",
     "output_type": "stream",
     "text": [
      "=====>\n",
      "====init run===>\n"
     ]
    },
    {
     "data": {
      "text/plain": [
       "<__main__.DeepshareStudent at 0x202d61a33d0>"
      ]
     },
     "execution_count": 24,
     "metadata": {},
     "output_type": "execute_result"
    }
   ],
   "source": [
    "class DeepshareStudent:\n",
    "    school = 'deepshare'\n",
    "    print('=====>')\n",
    "    def __init__(self):\n",
    "        print('====init run===>')\n",
    "    def learn(self):\n",
    "        print('%s is learning' % self)\n",
    "    def eat(self):\n",
    "        print('is eating')\n",
    "    def sleep(self):\n",
    "        print('is sleeping')\n",
    "DeepshareStudent() #这一行调用了这个类，故执行了init"
   ]
  },
  {
   "cell_type": "code",
   "execution_count": null,
   "metadata": {},
   "outputs": [],
   "source": []
  },
  {
   "cell_type": "code",
   "execution_count": 25,
   "metadata": {},
   "outputs": [
    {
     "ename": "TypeError",
     "evalue": "__init__() takes 3 positional arguments but 4 were given",
     "output_type": "error",
     "traceback": [
      "\u001b[1;31m---------------------------------------------------------------------------\u001b[0m",
      "\u001b[1;31mTypeError\u001b[0m                                 Traceback (most recent call last)",
      "\u001b[1;32m<ipython-input-25-c48dc5066b9e>\u001b[0m in \u001b[0;36m<module>\u001b[1;34m\u001b[0m\n\u001b[0;32m     11\u001b[0m     \u001b[1;32mdef\u001b[0m \u001b[0msleep\u001b[0m\u001b[1;33m(\u001b[0m\u001b[0mself\u001b[0m\u001b[1;33m)\u001b[0m\u001b[1;33m:\u001b[0m\u001b[1;33m\u001b[0m\u001b[1;33m\u001b[0m\u001b[0m\n\u001b[0;32m     12\u001b[0m         \u001b[0mprint\u001b[0m\u001b[1;33m(\u001b[0m\u001b[1;34m'is sleeping'\u001b[0m\u001b[1;33m)\u001b[0m\u001b[1;33m\u001b[0m\u001b[1;33m\u001b[0m\u001b[0m\n\u001b[1;32m---> 13\u001b[1;33m \u001b[0mstu1\u001b[0m \u001b[1;33m=\u001b[0m \u001b[0mDeepshareStudent\u001b[0m\u001b[1;33m(\u001b[0m\u001b[1;34m'李坦克'\u001b[0m\u001b[1;33m,\u001b[0m\u001b[1;36m18\u001b[0m\u001b[1;33m,\u001b[0m\u001b[1;34m'male'\u001b[0m\u001b[1;33m)\u001b[0m\u001b[1;33m\u001b[0m\u001b[1;33m\u001b[0m\u001b[0m\n\u001b[0m",
      "\u001b[1;31mTypeError\u001b[0m: __init__() takes 3 positional arguments but 4 were given"
     ]
    }
   ],
   "source": [
    "class DeepshareStudent:\n",
    "    school = 'deepshare'\n",
    "    def __init__(name,age,gender):  # 在这一行报错，因为没写self \n",
    "        self.name = name  # 代码不会执行到这一样就报错了\n",
    "        self.age = age\n",
    "        self.gender = gender\n",
    "    def learn(self):\n",
    "        print('%s is learning' % self)\n",
    "    def eat(self):\n",
    "        print('is eating')\n",
    "    def sleep(self):\n",
    "        print('is sleeping')\n",
    "stu1 = DeepshareStudent('李坦克',18,'male')"
   ]
  },
  {
   "cell_type": "code",
   "execution_count": null,
   "metadata": {},
   "outputs": [],
   "source": []
  },
  {
   "cell_type": "code",
   "execution_count": 26,
   "metadata": {},
   "outputs": [
    {
     "name": "stdout",
     "output_type": "stream",
     "text": [
      "李坦克\n",
      "18\n",
      "male\n",
      "deepshare\n",
      "<bound method DeepshareStudent.learn of <__main__.DeepshareStudent object at 0x00000202D60AE970>>\n",
      "王大炮\n",
      "38\n",
      "female\n",
      "deepshare\n",
      "<bound method DeepshareStudent.learn of <__main__.DeepshareStudent object at 0x00000202D6097A90>>\n"
     ]
    }
   ],
   "source": [
    "class DeepshareStudent:\n",
    "    school = 'deepshare'\n",
    "    def __init__(self,x,y,z):\n",
    "        self.NAME = x\n",
    "        self.AGE = y\n",
    "        self.GENDER = z\n",
    "    def learn(self):\n",
    "        print('%s is learning' % self)\n",
    "    def eat(self):\n",
    "        print('is eating')\n",
    "    def sleep(self):\n",
    "        print('is sleeping')\n",
    "stu1 = DeepshareStudent('李坦克',18,'male')\n",
    "print(stu1.NAME)\n",
    "print(stu1.AGE)\n",
    "print(stu1.GENDER)\n",
    "print(stu1.school)\n",
    "print(stu1.learn)\n",
    "stu2 = DeepshareStudent('王大炮',38,'female')\n",
    "print(stu2.NAME)\n",
    "print(stu2.AGE)\n",
    "print(stu2.GENDER)\n",
    "print(stu2.school)\n",
    "print(stu2.learn)"
   ]
  },
  {
   "cell_type": "code",
   "execution_count": null,
   "metadata": {},
   "outputs": [],
   "source": []
  }
 ],
 "metadata": {
  "kernelspec": {
   "display_name": "kaggle",
   "language": "python",
   "name": "kaggle"
  },
  "language_info": {
   "codemirror_mode": {
    "name": "ipython",
    "version": 3
   },
   "file_extension": ".py",
   "mimetype": "text/x-python",
   "name": "python",
   "nbconvert_exporter": "python",
   "pygments_lexer": "ipython3",
   "version": "3.7.7"
  },
  "toc": {
   "base_numbering": 1,
   "nav_menu": {},
   "number_sections": true,
   "sideBar": true,
   "skip_h1_title": false,
   "title_cell": "Table of Contents",
   "title_sidebar": "Contents",
   "toc_cell": false,
   "toc_position": {},
   "toc_section_display": true,
   "toc_window_display": false
  },
  "varInspector": {
   "cols": {
    "lenName": 16,
    "lenType": 16,
    "lenVar": 40
   },
   "kernels_config": {
    "python": {
     "delete_cmd_postfix": "",
     "delete_cmd_prefix": "del ",
     "library": "var_list.py",
     "varRefreshCmd": "print(var_dic_list())"
    },
    "r": {
     "delete_cmd_postfix": ") ",
     "delete_cmd_prefix": "rm(",
     "library": "var_list.r",
     "varRefreshCmd": "cat(var_dic_list()) "
    }
   },
   "types_to_exclude": [
    "module",
    "function",
    "builtin_function_or_method",
    "instance",
    "_Feature"
   ],
   "window_display": false
  }
 },
 "nbformat": 4,
 "nbformat_minor": 4
}
