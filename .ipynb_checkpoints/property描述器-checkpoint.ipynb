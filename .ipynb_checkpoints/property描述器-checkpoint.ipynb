{
 "cells": [
  {
   "cell_type": "markdown",
   "metadata": {},
   "source": [
    "复习私有属性"
   ]
  },
  {
   "cell_type": "code",
   "execution_count": 2,
   "metadata": {},
   "outputs": [
    {
     "name": "stdout",
     "output_type": "stream",
     "text": [
      "0\n"
     ]
    }
   ],
   "source": [
    "class Person:\n",
    "    def __init__(self):\n",
    "        self.__age = 10\n",
    "\n",
    "    def get_age(self):\n",
    "        return self.__age\n",
    "\n",
    "    def set_age(self, value):\n",
    "        if value < 0:\n",
    "            value = 0\n",
    "        self.__age = value\n",
    "\n",
    "    def del_age(self):\n",
    "        del self.__age\n",
    "\n",
    "p = Person()\n",
    "p.set_age(-10)\n",
    "print(p.get_age())"
   ]
  },
  {
   "cell_type": "code",
   "execution_count": 3,
   "metadata": {},
   "outputs": [
    {
     "ename": "AttributeError",
     "evalue": "'Person' object has no attribute '_Person__age'",
     "output_type": "error",
     "traceback": [
      "\u001b[1;31m---------------------------------------------------------------------------\u001b[0m",
      "\u001b[1;31mAttributeError\u001b[0m                            Traceback (most recent call last)",
      "\u001b[1;32m<ipython-input-3-ac8769851c5d>\u001b[0m in \u001b[0;36m<module>\u001b[1;34m\u001b[0m\n\u001b[0;32m      1\u001b[0m \u001b[0mp\u001b[0m\u001b[1;33m.\u001b[0m\u001b[0mdel_age\u001b[0m\u001b[1;33m(\u001b[0m\u001b[1;33m)\u001b[0m\u001b[1;33m\u001b[0m\u001b[1;33m\u001b[0m\u001b[0m\n\u001b[1;32m----> 2\u001b[1;33m \u001b[0mprint\u001b[0m\u001b[1;33m(\u001b[0m\u001b[0mp\u001b[0m\u001b[1;33m.\u001b[0m\u001b[0mget_age\u001b[0m\u001b[1;33m(\u001b[0m\u001b[1;33m)\u001b[0m\u001b[1;33m)\u001b[0m\u001b[1;33m\u001b[0m\u001b[1;33m\u001b[0m\u001b[0m\n\u001b[0m",
      "\u001b[1;32m<ipython-input-2-59040a100016>\u001b[0m in \u001b[0;36mget_age\u001b[1;34m(self)\u001b[0m\n\u001b[0;32m      4\u001b[0m \u001b[1;33m\u001b[0m\u001b[0m\n\u001b[0;32m      5\u001b[0m     \u001b[1;32mdef\u001b[0m \u001b[0mget_age\u001b[0m\u001b[1;33m(\u001b[0m\u001b[0mself\u001b[0m\u001b[1;33m)\u001b[0m\u001b[1;33m:\u001b[0m\u001b[1;33m\u001b[0m\u001b[1;33m\u001b[0m\u001b[0m\n\u001b[1;32m----> 6\u001b[1;33m         \u001b[1;32mreturn\u001b[0m \u001b[0mself\u001b[0m\u001b[1;33m.\u001b[0m\u001b[0m__age\u001b[0m\u001b[1;33m\u001b[0m\u001b[1;33m\u001b[0m\u001b[0m\n\u001b[0m\u001b[0;32m      7\u001b[0m \u001b[1;33m\u001b[0m\u001b[0m\n\u001b[0;32m      8\u001b[0m     \u001b[1;32mdef\u001b[0m \u001b[0mset_age\u001b[0m\u001b[1;33m(\u001b[0m\u001b[0mself\u001b[0m\u001b[1;33m,\u001b[0m \u001b[0mvalue\u001b[0m\u001b[1;33m)\u001b[0m\u001b[1;33m:\u001b[0m\u001b[1;33m\u001b[0m\u001b[1;33m\u001b[0m\u001b[0m\n",
      "\u001b[1;31mAttributeError\u001b[0m: 'Person' object has no attribute '_Person__age'"
     ]
    }
   ],
   "source": [
    "p.del_age()\n",
    "print(p.get_age())"
   ]
  },
  {
   "cell_type": "markdown",
   "metadata": {},
   "source": [
    "property"
   ]
  },
  {
   "cell_type": "code",
   "execution_count": 7,
   "metadata": {},
   "outputs": [
    {
     "name": "stdout",
     "output_type": "stream",
     "text": [
      "18\n"
     ]
    }
   ],
   "source": [
    "class Person:\n",
    "    def __init__(self):\n",
    "        self.__age = 10\n",
    "\n",
    "    def get_age(self):\n",
    "        return self.__age\n",
    "\n",
    "    def set_age(self, value):\n",
    "        if value < 0:\n",
    "            value = 0\n",
    "        self.__age = value\n",
    "\n",
    "    def del_age(self):\n",
    "        del self.__age\n",
    "\n",
    "    # 外界想操作这个私有属性，是间接调用这3个方法\n",
    "    age = property(get_age, set_age, del_age)    # 🔸\n",
    "    \n",
    "    name = \"sz\"  #如果加普通属性，注意help中其与age属不同分类\n",
    "\n",
    "p = Person()\n",
    "p.age = 18\n",
    "print(p.age)"
   ]
  },
  {
   "cell_type": "code",
   "execution_count": 5,
   "metadata": {},
   "outputs": [
    {
     "ename": "AttributeError",
     "evalue": "'Person' object has no attribute '_Person__age'",
     "output_type": "error",
     "traceback": [
      "\u001b[1;31m---------------------------------------------------------------------------\u001b[0m",
      "\u001b[1;31mAttributeError\u001b[0m                            Traceback (most recent call last)",
      "\u001b[1;32m<ipython-input-5-0d294b968f29>\u001b[0m in \u001b[0;36m<module>\u001b[1;34m\u001b[0m\n\u001b[0;32m      1\u001b[0m \u001b[1;32mdel\u001b[0m \u001b[0mp\u001b[0m\u001b[1;33m.\u001b[0m\u001b[0mage\u001b[0m\u001b[1;33m\u001b[0m\u001b[1;33m\u001b[0m\u001b[0m\n\u001b[1;32m----> 2\u001b[1;33m \u001b[0mprint\u001b[0m\u001b[1;33m(\u001b[0m\u001b[0mp\u001b[0m\u001b[1;33m.\u001b[0m\u001b[0mage\u001b[0m\u001b[1;33m)\u001b[0m\u001b[1;33m\u001b[0m\u001b[1;33m\u001b[0m\u001b[0m\n\u001b[0m",
      "\u001b[1;32m<ipython-input-4-804b47ccb0e8>\u001b[0m in \u001b[0;36mget_age\u001b[1;34m(self)\u001b[0m\n\u001b[0;32m      4\u001b[0m \u001b[1;33m\u001b[0m\u001b[0m\n\u001b[0;32m      5\u001b[0m     \u001b[1;32mdef\u001b[0m \u001b[0mget_age\u001b[0m\u001b[1;33m(\u001b[0m\u001b[0mself\u001b[0m\u001b[1;33m)\u001b[0m\u001b[1;33m:\u001b[0m\u001b[1;33m\u001b[0m\u001b[1;33m\u001b[0m\u001b[0m\n\u001b[1;32m----> 6\u001b[1;33m         \u001b[1;32mreturn\u001b[0m \u001b[0mself\u001b[0m\u001b[1;33m.\u001b[0m\u001b[0m__age\u001b[0m\u001b[1;33m\u001b[0m\u001b[1;33m\u001b[0m\u001b[0m\n\u001b[0m\u001b[0;32m      7\u001b[0m \u001b[1;33m\u001b[0m\u001b[0m\n\u001b[0;32m      8\u001b[0m     \u001b[1;32mdef\u001b[0m \u001b[0mset_age\u001b[0m\u001b[1;33m(\u001b[0m\u001b[0mself\u001b[0m\u001b[1;33m,\u001b[0m \u001b[0mvalue\u001b[0m\u001b[1;33m)\u001b[0m\u001b[1;33m:\u001b[0m\u001b[1;33m\u001b[0m\u001b[1;33m\u001b[0m\u001b[0m\n",
      "\u001b[1;31mAttributeError\u001b[0m: 'Person' object has no attribute '_Person__age'"
     ]
    }
   ],
   "source": [
    "del p.age\n",
    "print(p.age)"
   ]
  },
  {
   "cell_type": "code",
   "execution_count": 8,
   "metadata": {},
   "outputs": [
    {
     "name": "stdout",
     "output_type": "stream",
     "text": [
      "Help on class Person in module __main__:\n",
      "\n",
      "class Person(builtins.object)\n",
      " |  Methods defined here:\n",
      " |  \n",
      " |  __init__(self)\n",
      " |      Initialize self.  See help(type(self)) for accurate signature.\n",
      " |  \n",
      " |  del_age(self)\n",
      " |  \n",
      " |  get_age(self)\n",
      " |  \n",
      " |  set_age(self, value)\n",
      " |  \n",
      " |  ----------------------------------------------------------------------\n",
      " |  Data descriptors defined here:\n",
      " |  \n",
      " |  __dict__\n",
      " |      dictionary for instance variables (if defined)\n",
      " |  \n",
      " |  __weakref__\n",
      " |      list of weak references to the object (if defined)\n",
      " |  \n",
      " |  age\n",
      " |  \n",
      " |  ----------------------------------------------------------------------\n",
      " |  Data and other attributes defined here:\n",
      " |  \n",
      " |  name = 'sz'\n",
      "\n"
     ]
    }
   ],
   "source": [
    "help(Person)"
   ]
  },
  {
   "cell_type": "markdown",
   "metadata": {},
   "source": [
    "### 方法1: Property"
   ]
  },
  {
   "cell_type": "code",
   "execution_count": 9,
   "metadata": {},
   "outputs": [
    {
     "name": "stdout",
     "output_type": "stream",
     "text": [
      "18\n"
     ]
    }
   ],
   "source": [
    "class Person:\n",
    "    def __init__(self):\n",
    "        self.__age = 10\n",
    "\n",
    "    @property\n",
    "    def age(self):    # 注意这里改名了\n",
    "        return self.__age\n",
    "\n",
    "    @age.setter       # 注意这里装饰器的名字\n",
    "    def age(self, value):\n",
    "        if value < 0:\n",
    "            value = 0\n",
    "        self.__age = value\n",
    "\n",
    "    @age.deleter      #\n",
    "    def age(self):    #\n",
    "        del self.__age\n",
    "\n",
    "p = Person()\n",
    "p.age = 18\n",
    "print(p.age)\n",
    "# del p.age"
   ]
  },
  {
   "cell_type": "markdown",
   "metadata": {},
   "source": [
    "👆注意这里1个属性3个方法，那属性一多就很臃肿"
   ]
  },
  {
   "cell_type": "markdown",
   "metadata": {},
   "source": [
    "### 方法2: 定义描述器类"
   ]
  },
  {
   "cell_type": "code",
   "execution_count": 16,
   "metadata": {},
   "outputs": [
    {
     "name": "stdout",
     "output_type": "stream",
     "text": [
      "set\n",
      "get\n",
      "None\n",
      "delete\n"
     ]
    }
   ],
   "source": [
    "class Age:\n",
    "    def __get__(self, instance, owner):\n",
    "        print(\"get\")\n",
    "\n",
    "    def __set__(self, instance, value):\n",
    "        print(\"set\")\n",
    "\n",
    "    def __delete__(self, instance):\n",
    "        print(\"delete\")\n",
    "\n",
    "class Person:\n",
    "    age = Age()\n",
    "\n",
    "p = Person()\n",
    "p.age = 18\n",
    "print(p.age) # 因为这里没定义具体值，所以get的是None\n",
    "del p.age"
   ]
  },
  {
   "cell_type": "markdown",
   "metadata": {},
   "source": [
    "#### 通过实例操作描述器。通过类会出问题:"
   ]
  },
  {
   "cell_type": "code",
   "execution_count": 11,
   "metadata": {},
   "outputs": [
    {
     "name": "stdout",
     "output_type": "stream",
     "text": [
      "get\n",
      "None\n"
     ]
    }
   ],
   "source": [
    "print(Person.age)\n",
    "Person.age = 19\n",
    "del Person.age"
   ]
  },
  {
   "cell_type": "markdown",
   "metadata": {},
   "source": [
    "#### 不能顺利转换的场景："
   ]
  },
  {
   "cell_type": "markdown",
   "metadata": {},
   "source": [
    "#### 新式类才能起效"
   ]
  },
  {
   "cell_type": "markdown",
   "metadata": {},
   "source": [
    "py3.x默认隐式继承object即为新式类，  \n",
    "描述器只有在新式类中才有效，且当宿主类和描述器所对应的类，  \n",
    "都为新式类时才有效。"
   ]
  },
  {
   "cell_type": "markdown",
   "metadata": {},
   "source": [
    "#### 方法拦截"
   ]
  },
  {
   "cell_type": "markdown",
   "metadata": {},
   "source": [
    "getattribute，如果实现了描述器的get方法，就会直接调用。  \n",
    "如果没有，则按一个实例属性的访问顺序查找:"
   ]
  },
  {
   "cell_type": "markdown",
   "metadata": {},
   "source": [
    "1. 实例对象自身dict \n",
    "2. 对应类对象dict  \n",
    "3. （如果有）父类dict   \n",
    "4. 还没找到，有getattr方法，调用这个方法"
   ]
  },
  {
   "cell_type": "code",
   "execution_count": 15,
   "metadata": {},
   "outputs": [
    {
     "name": "stdout",
     "output_type": "stream",
     "text": [
      "set\n",
      "xxxxx\n",
      "None\n",
      "delete\n"
     ]
    }
   ],
   "source": [
    "class Age(object):  # 这里保险起见，两者都继承object\n",
    "    def __get__(self, instance, owner):\n",
    "        print(\"get\")\n",
    "\n",
    "    def __set__(self, instance, value):\n",
    "        print(\"set\")\n",
    "\n",
    "    def __delete__(self, instance):\n",
    "        print(\"delete\")\n",
    "\n",
    "class Person(object):  # 即使py2.x也是新式类\n",
    "    age = Age()\n",
    "    def __getattribute__(self, item):  #🔸方法拦截\n",
    "        print(\"xxxxx\")\n",
    "\n",
    "p = Person()\n",
    "p.age = 18 # 未调用get方法，而是走getattribute\n",
    "print(p.age)\n",
    "del p.age"
   ]
  },
  {
   "cell_type": "markdown",
   "metadata": {},
   "source": [
    "资料描述器 get set  \n",
    "非资料描述器 仅仅实现了 get 方法，那他就是一个非资料描述器  \n",
    "资料描述器 > 实例属性 > 非资料描述器"
   ]
  },
  {
   "cell_type": "code",
   "execution_count": 21,
   "metadata": {},
   "outputs": [
    {
     "name": "stdout",
     "output_type": "stream",
     "text": [
      "set\n",
      "set\n",
      "get\n",
      "None\n",
      "{}\n"
     ]
    }
   ],
   "source": [
    "class Age:   # 有get set，是资料描述器\n",
    "    def __get__(self, instance, owner):\n",
    "        print(\"get\")\n",
    "\n",
    "    def __set__(self, instance, value):\n",
    "        print(\"set\")\n",
    "\n",
    "    def __delete__(self, instance):\n",
    "        print(\"delete\")\n",
    "\n",
    "class Person(object):  \n",
    "    age = Age()\n",
    "    def __init__(self): # 注意这里\n",
    "        self.age = 10\n",
    "\n",
    "p = Person()   # init=>set\n",
    "p.age = 10     # set\n",
    "print(p.age)   # get None\n",
    "print(p.__dict__) # {}"
   ]
  },
  {
   "cell_type": "code",
   "execution_count": 22,
   "metadata": {},
   "outputs": [
    {
     "name": "stdout",
     "output_type": "stream",
     "text": [
      "10\n",
      "{'age': 10}\n"
     ]
    }
   ],
   "source": [
    "class Age:   # 只有get 是非资料描述器\n",
    "    def __get__(self, instance, owner):\n",
    "        print(\"get\")\n",
    "\n",
    "class Person(object):  \n",
    "    age = Age()\n",
    "    def __init__(self): # 注意这里\n",
    "        self.age = 10\n",
    "\n",
    "p = Person()   # init=>实例属性\n",
    "p.age = 10     # 修改age\n",
    "print(p.age)   # 10\n",
    "print(p.__dict__) "
   ]
  },
  {
   "cell_type": "markdown",
   "metadata": {},
   "source": [
    "#### 存储问题"
   ]
  },
  {
   "cell_type": "code",
   "execution_count": 24,
   "metadata": {},
   "outputs": [
    {
     "name": "stdout",
     "output_type": "stream",
     "text": [
      "set <__main__.Age object at 0x0000024154C5CBE0> <__main__.Person object at 0x00000241549FA970> 10\n",
      "set <__main__.Age object at 0x0000024154C5CBE0> <__main__.Person object at 0x00000241549FAEE0> 12\n"
     ]
    }
   ],
   "source": [
    "class Age:   \n",
    "    def __get__(self, instance, owner):\n",
    "        print(\"get\")\n",
    "\n",
    "    def __set__(self, instance, value):\n",
    "        print(\"set\", self, instance, value) # 注意这里\n",
    "\n",
    "    def __delete__(self, instance):\n",
    "        print(\"delete\")\n",
    "\n",
    "class Person(object):  \n",
    "    age = Age()\n",
    "\n",
    "p1 = Person()   \n",
    "p1.age = 10\n",
    "\n",
    "p2 = Person()   \n",
    "p2.age = 12"
   ]
  },
  {
   "cell_type": "markdown",
   "metadata": {},
   "source": [
    "#### Age对象是共享的"
   ]
  },
  {
   "cell_type": "code",
   "execution_count": 29,
   "metadata": {},
   "outputs": [
    {
     "name": "stdout",
     "output_type": "stream",
     "text": [
      "set <__main__.Age object at 0x0000024154C6E820> <__main__.Person object at 0x0000024154C6E190> 10\n",
      "get\n",
      "10\n",
      "set <__main__.Age object at 0x0000024154C6E820> <__main__.Person object at 0x00000241549FA400> 12\n",
      "get\n",
      "12\n",
      "get\n",
      "12\n"
     ]
    }
   ],
   "source": [
    "class Age:   \n",
    "    def __get__(self, instance, owner):\n",
    "        print(\"get\")\n",
    "        return self.v      # 注意这里\n",
    "\n",
    "    def __set__(self, instance, value):\n",
    "        print(\"set\", self, instance, value)\n",
    "        self.v = value      # 注意这里\n",
    "\n",
    "    def __delete__(self, instance):\n",
    "        print(\"delete\")\n",
    "\n",
    "class Person(object):  \n",
    "    age = Age()\n",
    "\n",
    "p1 = Person()   \n",
    "p1.age = 10\n",
    "print(p1.age)\n",
    "p2 = Person()   \n",
    "p2.age = 12\n",
    "print(p2.age)\n",
    "print(p1.age) # 修改其中任何一个，都改了\n",
    "# 我们的本意是不同实例对象，不同属性数据\n",
    "# 所以不能绑定在self身上，应该绑在instantce身上"
   ]
  },
  {
   "cell_type": "code",
   "execution_count": null,
   "metadata": {},
   "outputs": [],
   "source": []
  }
 ],
 "metadata": {
  "kernelspec": {
   "display_name": "joyfulpd",
   "language": "python",
   "name": "joyfulpd"
  },
  "language_info": {
   "codemirror_mode": {
    "name": "ipython",
    "version": 3
   },
   "file_extension": ".py",
   "mimetype": "text/x-python",
   "name": "python",
   "nbconvert_exporter": "python",
   "pygments_lexer": "ipython3",
   "version": "3.8.3"
  },
  "toc": {
   "base_numbering": 1,
   "nav_menu": {},
   "number_sections": true,
   "sideBar": true,
   "skip_h1_title": false,
   "title_cell": "Table of Contents",
   "title_sidebar": "Contents",
   "toc_cell": false,
   "toc_position": {},
   "toc_section_display": true,
   "toc_window_display": false
  },
  "varInspector": {
   "cols": {
    "lenName": 16,
    "lenType": 16,
    "lenVar": 40
   },
   "kernels_config": {
    "python": {
     "delete_cmd_postfix": "",
     "delete_cmd_prefix": "del ",
     "library": "var_list.py",
     "varRefreshCmd": "print(var_dic_list())"
    },
    "r": {
     "delete_cmd_postfix": ") ",
     "delete_cmd_prefix": "rm(",
     "library": "var_list.r",
     "varRefreshCmd": "cat(var_dic_list()) "
    }
   },
   "types_to_exclude": [
    "module",
    "function",
    "builtin_function_or_method",
    "instance",
    "_Feature"
   ],
   "window_display": false
  }
 },
 "nbformat": 4,
 "nbformat_minor": 4
}
