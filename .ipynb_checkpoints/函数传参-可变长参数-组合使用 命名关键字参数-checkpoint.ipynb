{
 "cells": [
  {
   "cell_type": "markdown",
   "metadata": {
    "code_folding": []
   },
   "source": [
    "## 可变长参数\n",
    "### 星与星星"
   ]
  },
  {
   "cell_type": "code",
   "execution_count": 15,
   "metadata": {},
   "outputs": [
    {
     "name": "stdout",
     "output_type": "stream",
     "text": [
      "Albert\n",
      "123\n",
      "{}\n",
      "Albert\n",
      "123\n",
      "{'gourp': 'group1'}\n"
     ]
    }
   ],
   "source": [
    "def auth1(name, pwd, **kwargs):\n",
    "    print(name)\n",
    "    print(pwd)\n",
    "    print(kwargs)\n",
    "    \n",
    "auth1(name='Albert', pwd='123')\n",
    "auth1(name='Albert', pwd='123', gourp='group1')"
   ]
  },
  {
   "cell_type": "code",
   "execution_count": 3,
   "metadata": {},
   "outputs": [],
   "source": [
    "### 组合使用"
   ]
  },
  {
   "cell_type": "code",
   "execution_count": 4,
   "metadata": {},
   "outputs": [
    {
     "name": "stdout",
     "output_type": "stream",
     "text": [
      "()\n",
      "{'name': 'Albert', 'age': 18, 'gender': 'male'}\n",
      "welcome Albert 18 male\n"
     ]
    }
   ],
   "source": [
    "def index(name, age, gender):\n",
    "    print('welcome %s %s %s' % (name, age, gender))\n",
    "\n",
    "def wrapper(*args, **kwargs):  # args=(1,2,3),kwargs={'x':1,'y':2,'z':3}\n",
    "    print(args)\n",
    "    print(kwargs)\n",
    "    index(*args, **kwargs)  # index(*(1,2,3),**{'x':1,'y':2,'z':3}) \n",
    "                            # index(1,2,3,z=3,y=2,x=2)\n",
    "\n",
    "# wrapper(1,2,3,x=1,y=2,z=3)  # 报错\n",
    "\n",
    "wrapper(name='Albert',age=18,gender='male')\n",
    "\n",
    "# 执行过程：\n",
    "# wrapper的所有参数都原封不动地传给index，而index函数只接收三个位置参数\n",
    "# 星与星星的组合使用在源码中非常常见，这也是装饰器的核心之一，这非常重要。"
   ]
  },
  {
   "cell_type": "code",
   "execution_count": 5,
   "metadata": {},
   "outputs": [
    {
     "name": "stdout",
     "output_type": "stream",
     "text": [
      "('Albert',)\n",
      "{'age': 18, 'gender': 'male'}\n",
      "welcome Albert 18 male\n"
     ]
    }
   ],
   "source": [
    "wrapper('Albert', age=18, gender='male')"
   ]
  },
  {
   "cell_type": "code",
   "execution_count": 6,
   "metadata": {},
   "outputs": [
    {
     "name": "stdout",
     "output_type": "stream",
     "text": [
      "('Albert', 18)\n",
      "{'gender': 'male'}\n",
      "welcome Albert 18 male\n"
     ]
    }
   ],
   "source": [
    "wrapper('Albert', 18, gender='male')"
   ]
  },
  {
   "cell_type": "code",
   "execution_count": 7,
   "metadata": {
    "code_folding": []
   },
   "outputs": [
    {
     "name": "stdout",
     "output_type": "stream",
     "text": [
      "('Albert', 18, 'male')\n",
      "{}\n",
      "welcome Albert 18 male\n"
     ]
    }
   ],
   "source": [
    "wrapper('Albert', 18, 'male')"
   ]
  },
  {
   "cell_type": "markdown",
   "metadata": {},
   "source": [
    "## 命名关键字参数"
   ]
  },
  {
   "cell_type": "code",
   "execution_count": 8,
   "metadata": {},
   "outputs": [
    {
     "name": "stdout",
     "output_type": "stream",
     "text": [
      "Help on function auth in module __main__:\n",
      "\n",
      "auth(*args, **kwargs)\n",
      "    使用方式auth(name=\"Albert\",pwd=\"123\")\n",
      "    :param args:\n",
      "    :param kwargs:\n",
      "    :return:\n",
      "\n",
      "None\n"
     ]
    }
   ],
   "source": [
    "def auth(*args, **kwargs):\n",
    "    \"\"\"\n",
    "    使用方式auth(name=\"Albert\",pwd=\"123\")\n",
    "    :param args:\n",
    "    :param kwargs:\n",
    "    :return:\n",
    "    \"\"\"\n",
    "    if len(args) != 0:\n",
    "        print('必须用关键字的形式传参')\n",
    "        return\n",
    "    if 'name' not in kwargs:\n",
    "        print('必须用指定的key名name')\n",
    "        return\n",
    "    if 'pwd' not in kwargs:\n",
    "        print('必须用指定的key名pwd')\n",
    "        return\n",
    "\n",
    "    name = kwargs['name']\n",
    "    pwd = kwargs['pwd']\n",
    "    print(name, pwd)\n",
    "\n",
    "\n",
    "print(help(auth))  # 打印文档注释"
   ]
  },
  {
   "cell_type": "code",
   "execution_count": 9,
   "metadata": {},
   "outputs": [],
   "source": [
    "# auth(x='Albert', y='123')  # 报错：必须用指定的key名name\n",
    "# auth('Albert', '123')      # 报错：必须用关键字的形式传参\n",
    "# auth('Albert', pwd='123')  # 报错：必须用关键字的形式传参"
   ]
  },
  {
   "cell_type": "code",
   "execution_count": 10,
   "metadata": {},
   "outputs": [
    {
     "name": "stdout",
     "output_type": "stream",
     "text": [
      "Albert 123\n"
     ]
    }
   ],
   "source": [
    "auth(name='Albert', pwd='123')  # 约束函数的调用者必须用key=value的形式传值"
   ]
  },
  {
   "cell_type": "markdown",
   "metadata": {},
   "source": [
    "### 命名关键字参数使用"
   ]
  },
  {
   "cell_type": "code",
   "execution_count": 11,
   "metadata": {
    "scrolled": true
   },
   "outputs": [
    {
     "name": "stdout",
     "output_type": "stream",
     "text": [
      "1 2 3\n"
     ]
    }
   ],
   "source": [
    "# 使用命名关键字参数\n",
    "def foo(x, y, *, z):\n",
    "    print(x, y, z)\n",
    "\n",
    "\n",
    "# foo(1,2)     # TypeError: foo() missing 1 required keyword-only argument: 'z'\n",
    "# foo(1,2,3)   # TypeError: foo() takes 2 positional arguments but 3 were given\n",
    "# foo(1,2,a=3) # TypeError: foo() got an unexpected keyword argument 'a'\n",
    "foo(1, 2, z=3)"
   ]
  },
  {
   "cell_type": "code",
   "execution_count": 16,
   "metadata": {},
   "outputs": [
    {
     "ename": "SyntaxError",
     "evalue": "named arguments must follow bare * (<ipython-input-16-9b9aeed035c5>, line 1)",
     "output_type": "error",
     "traceback": [
      "\u001b[1;36m  File \u001b[1;32m\"<ipython-input-16-9b9aeed035c5>\"\u001b[1;36m, line \u001b[1;32m1\u001b[0m\n\u001b[1;33m    def bar(x, y, z, *):\u001b[0m\n\u001b[1;37m                    ^\u001b[0m\n\u001b[1;31mSyntaxError\u001b[0m\u001b[1;31m:\u001b[0m named arguments must follow bare *\n"
     ]
    }
   ],
   "source": [
    "def bar(x, y, z, *):\n",
    "    print(x, y, z)\n",
    "\n",
    "bar(1,2,3)"
   ]
  },
  {
   "cell_type": "code",
   "execution_count": 12,
   "metadata": {},
   "outputs": [
    {
     "name": "stdout",
     "output_type": "stream",
     "text": [
      "Albert 123\n"
     ]
    }
   ],
   "source": [
    "# 其实命名关键字参数的核心是 *，args只是一个变量，有或者没有并不影响\n",
    "def auth(*args, name, pwd):\n",
    "    print(name, pwd)\n",
    "\n",
    "auth(pwd='123', name='Albert')"
   ]
  },
  {
   "cell_type": "code",
   "execution_count": 13,
   "metadata": {},
   "outputs": [
    {
     "name": "stdout",
     "output_type": "stream",
     "text": [
      "<class 'int'> <class 'list'>\n"
     ]
    }
   ],
   "source": [
    "# 命名关键字参数是硬性限制，但Python的语法风格是约定俗成，不做限制\n",
    "def register(name, age):\n",
    "    \"\"\"\n",
    "    我们不会在这里添加对name和age的要求限制\n",
    "    :param name: \n",
    "    :param age: \n",
    "    :return: \n",
    "    \"\"\"\n",
    "    print(type(name), type(age))\n",
    "\n",
    "register(123, [1, 2, 3])"
   ]
  },
  {
   "cell_type": "code",
   "execution_count": 14,
   "metadata": {},
   "outputs": [],
   "source": [
    "# 使用命名关键字参数之后，可以接收参数的最复杂的情况\n",
    "def foo2(x, y=1, *args, z, m=2, **kwargs):  # m=2是关键字参数的默认值\n",
    "    pass\n",
    "\n",
    "# 一般情况下，foo1和foo2这两种就够用了\n",
    "def foo1(x, y=1):\n",
    "    pass\n",
    "\n",
    "def foo2(x, *args, **kwargs):\n",
    "    pass"
   ]
  }
 ],
 "metadata": {
  "kernelspec": {
   "display_name": "Python 3",
   "language": "python",
   "name": "python3"
  },
  "language_info": {
   "codemirror_mode": {
    "name": "ipython",
    "version": 3
   },
   "file_extension": ".py",
   "mimetype": "text/x-python",
   "name": "python",
   "nbconvert_exporter": "python",
   "pygments_lexer": "ipython3",
   "version": "3.7.9"
  },
  "toc": {
   "base_numbering": 1,
   "nav_menu": {},
   "number_sections": true,
   "sideBar": true,
   "skip_h1_title": false,
   "title_cell": "Table of Contents",
   "title_sidebar": "Contents",
   "toc_cell": false,
   "toc_position": {},
   "toc_section_display": true,
   "toc_window_display": false
  }
 },
 "nbformat": 4,
 "nbformat_minor": 4
}
