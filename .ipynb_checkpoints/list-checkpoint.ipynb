{
 "cells": [
  {
   "cell_type": "markdown",
   "metadata": {},
   "source": [
    "extend方法 在列表中同时插入多个元素，extend方法使用以及与append方法的区别\n",
    "append是整体添加"
   ]
  },
  {
   "cell_type": "code",
   "execution_count": 7,
   "metadata": {
    "ExecuteTime": {
     "end_time": "2020-07-26T09:00:30.133780Z",
     "start_time": "2020-07-26T09:00:30.127253Z"
    }
   },
   "outputs": [
    {
     "name": "stdout",
     "output_type": "stream",
     "text": [
      "[1, 2, 3, 4, 5, [6, 7, 8, 9]]\n",
      "[1, 2, 3, 4, 5, [6, 7, 8, 9], 6, 7, 8, 9]\n"
     ]
    }
   ],
   "source": [
    "l1 = [1, 2, 3, 4, 5, ]\n",
    "l1.append([6, 7, 8, 9, ])\n",
    "# l1.append(*[6, 7, 8, 9, ])  # 会报错\n",
    "print(l1)\n",
    "l1.extend([6, 7, 8, 9])\n",
    "print(l1)"
   ]
  },
  {
   "cell_type": "markdown",
   "metadata": {},
   "source": [
    "只能接收一个参数，如果出现打散的情况，还是会被识别成多个参数，因为程序执行执行是从左到右，  \n",
    "从上倒下执行的，当出现时这个列表已经被打散了，因而，会被程序识别成被传入了多个参数。"
   ]
  },
  {
   "cell_type": "code",
   "execution_count": 8,
   "metadata": {
    "ExecuteTime": {
     "end_time": "2020-07-26T09:01:17.971113Z",
     "start_time": "2020-07-26T09:01:17.954577Z"
    }
   },
   "outputs": [
    {
     "name": "stdout",
     "output_type": "stream",
     "text": [
      "[1, 2, 3, 4, 5, 6, 7, 8, 9]\n",
      "[1, 2, 3, 4, 5, 6, 7, 8, 9, 'a', 'b', 'c']\n",
      "[1, 2, 3, 4, 5, 6, 7, 8, 9, 'a', 'b', 'c', 'a']\n",
      "[1, 2, 3, 4, 5, 6, 7, 8, 9, 'a', 'b', 'c', 'a']\n"
     ]
    }
   ],
   "source": [
    "l1 = [1, 2, 3, 4, 5, ]\n",
    "l1.extend([6, 7, 8, 9])\n",
    "print(l1)\n",
    "l1.extend('abc')\n",
    "print(l1)\n",
    "l1.extend('a')  # 也是可迭代对象\n",
    "print(l1)\n",
    "# l1.extend(1)  # 报错，不可迭代\n",
    "print(l1)"
   ]
  },
  {
   "cell_type": "markdown",
   "metadata": {},
   "source": [
    "extend在执行添加的时候，被传入的参数必须是可迭代对象，这样通过迭代就解决了同时传入多个参数的"
   ]
  },
  {
   "cell_type": "code",
   "execution_count": null,
   "metadata": {},
   "outputs": [],
   "source": []
  },
  {
   "cell_type": "code",
   "execution_count": null,
   "metadata": {},
   "outputs": [],
   "source": []
  },
  {
   "cell_type": "code",
   "execution_count": null,
   "metadata": {},
   "outputs": [],
   "source": []
  },
  {
   "cell_type": "markdown",
   "metadata": {},
   "source": [
    "### 列表操作练习\n",
    "列表lst 内容如下\n",
    "\n",
    "lst = [2, 5, 6, 7, 8, 9, 2, 9, 9]\n",
    "\n",
    "请写程序完成下列操作：\n",
    "\n",
    "1. 在列表的末尾增加元素15\n",
    "2. 在列表的中间位置插入元素20\n",
    "3. 将列表[2, 5, 6]合并到lst中\n",
    "4. 移除列表中索引为3的元素\n",
    "5. 翻转列表里的所有元素\n",
    "6. 对列表里的元素进行排序，从小到大一次，从大到小一次"
   ]
  },
  {
   "cell_type": "code",
   "execution_count": 5,
   "metadata": {
    "ExecuteTime": {
     "end_time": "2020-07-26T01:21:25.885606Z",
     "start_time": "2020-07-26T01:21:25.868823Z"
    }
   },
   "outputs": [],
   "source": [
    "lst = [2, 5, 6, 7, 8, 9, 2, 9, 9]"
   ]
  },
  {
   "cell_type": "code",
   "execution_count": 6,
   "metadata": {
    "ExecuteTime": {
     "end_time": "2020-07-26T01:21:26.876356Z",
     "start_time": "2020-07-26T01:21:26.867348Z"
    }
   },
   "outputs": [
    {
     "data": {
      "text/plain": [
       "[2, 5, 6, 7, 8, 9, 2, 9, 9, 15]"
      ]
     },
     "execution_count": 6,
     "metadata": {},
     "output_type": "execute_result"
    }
   ],
   "source": [
    "lst.append(15)\n",
    "lst"
   ]
  },
  {
   "cell_type": "code",
   "execution_count": 7,
   "metadata": {
    "ExecuteTime": {
     "end_time": "2020-07-26T01:21:31.160683Z",
     "start_time": "2020-07-26T01:21:31.155297Z"
    }
   },
   "outputs": [
    {
     "data": {
      "text/plain": [
       "[2, 5, 6, 7, 8, 20, 9, 2, 9, 9, 15]"
      ]
     },
     "execution_count": 7,
     "metadata": {},
     "output_type": "execute_result"
    }
   ],
   "source": [
    "lst.insert(5,20)\n",
    "lst"
   ]
  },
  {
   "cell_type": "code",
   "execution_count": 8,
   "metadata": {
    "ExecuteTime": {
     "end_time": "2020-07-26T01:22:06.638525Z",
     "start_time": "2020-07-26T01:22:06.635523Z"
    }
   },
   "outputs": [],
   "source": [
    "lst.extend([2, 5, 6])\n",
    "lst"
   ]
  },
  {
   "cell_type": "code",
   "execution_count": 10,
   "metadata": {
    "ExecuteTime": {
     "end_time": "2020-07-26T01:22:51.772547Z",
     "start_time": "2020-07-26T01:22:51.763453Z"
    }
   },
   "outputs": [
    {
     "data": {
      "text/plain": [
       "7"
      ]
     },
     "execution_count": 10,
     "metadata": {},
     "output_type": "execute_result"
    }
   ],
   "source": [
    "lst.pop(3)"
   ]
  },
  {
   "cell_type": "code",
   "execution_count": 11,
   "metadata": {
    "ExecuteTime": {
     "end_time": "2020-07-26T01:23:19.971071Z",
     "start_time": "2020-07-26T01:23:19.955734Z"
    }
   },
   "outputs": [
    {
     "data": {
      "text/plain": [
       "[6, 5, 2, 15, 9, 9, 2, 9, 20, 8, 6, 5, 2]"
      ]
     },
     "execution_count": 11,
     "metadata": {},
     "output_type": "execute_result"
    }
   ],
   "source": [
    "lst[::-1]\n",
    "lst"
   ]
  },
  {
   "cell_type": "code",
   "execution_count": 16,
   "metadata": {
    "ExecuteTime": {
     "end_time": "2020-07-26T01:25:39.127374Z",
     "start_time": "2020-07-26T01:25:39.115372Z"
    }
   },
   "outputs": [
    {
     "data": {
      "text/plain": [
       "[2, 2, 2, 5, 5, 6, 6, 8, 9, 9, 9, 15, 20]"
      ]
     },
     "execution_count": 16,
     "metadata": {},
     "output_type": "execute_result"
    }
   ],
   "source": [
    "lst.sort(reverse=False)\n",
    "lst"
   ]
  },
  {
   "cell_type": "code",
   "execution_count": 15,
   "metadata": {
    "ExecuteTime": {
     "end_time": "2020-07-26T01:25:35.956618Z",
     "start_time": "2020-07-26T01:25:35.953117Z"
    }
   },
   "outputs": [
    {
     "data": {
      "text/plain": [
       "[20, 15, 9, 9, 9, 8, 6, 6, 5, 5, 2, 2, 2]"
      ]
     },
     "execution_count": 15,
     "metadata": {},
     "output_type": "execute_result"
    }
   ],
   "source": [
    "lst.sort(reverse=True)\n",
    "lst"
   ]
  },
  {
   "cell_type": "markdown",
   "metadata": {},
   "source": [
    "### 列表删除与修改\n",
    "以下内容参考：[python修改列表问题总结](https://blog.csdn.net/u010339879/article/details/78819437)\n",
    "[知乎为什么python中不建议在for循环中修改列表](https://www.zhihu.com/question/49098374)"
   ]
  },
  {
   "cell_type": "code",
   "execution_count": 6,
   "metadata": {
    "ExecuteTime": {
     "end_time": "2020-07-26T05:26:53.626443Z",
     "start_time": "2020-07-26T05:26:53.613390Z"
    }
   },
   "outputs": [
    {
     "name": "stdout",
     "output_type": "stream",
     "text": [
      ">item:  0 140722782152448\n",
      "item*2:  0 140722782152448\n",
      ">item:  1 140722782152480\n",
      "item*2:  2 140722782152512\n",
      ">item:  2 140722782152512\n",
      "item*2:  4 140722782152576\n",
      ">item:  3 140722782152544\n",
      "item*2:  6 140722782152640\n",
      ">item:  4 140722782152576\n",
      "item*2:  8 140722782152704\n",
      "range(0, 5)\n"
     ]
    }
   ],
   "source": [
    "num_list = range(5)\n",
    "for item in num_list:\n",
    "    print('>item: ', item, id(item))\n",
    "    item = item*2\n",
    "    print('item*2: ',item, id(item))\n",
    "print(num_list)"
   ]
  },
  {
   "cell_type": "markdown",
   "metadata": {},
   "source": [
    "👆修改里面的值，感觉 没有什么问题。 结果是 num_list没有被修改，原因是：  \n",
    "item 的id  已经不是原来的id  \n",
    "那么如何修改list 里面元素的值呢？👇"
   ]
  },
  {
   "cell_type": "code",
   "execution_count": null,
   "metadata": {},
   "outputs": [],
   "source": [
    "#方法一\n",
    "for i, item  in  enumerate(num_list):\n",
    "    num_list[i] =num_list[i]*2"
   ]
  },
  {
   "cell_type": "code",
   "execution_count": null,
   "metadata": {},
   "outputs": [],
   "source": [
    "#方法二\n",
    "for  i in range(len(num_list)):\n",
    "    num_list[i] = num_list[i]*2"
   ]
  },
  {
   "cell_type": "markdown",
   "metadata": {},
   "source": [
    "👆即、拿到索引值，直接通过索引，在修改里面的值，就可以了。  \n",
    "但用for循环存在问题，看下面👇的例子："
   ]
  },
  {
   "cell_type": "code",
   "execution_count": 24,
   "metadata": {
    "ExecuteTime": {
     "end_time": "2020-07-26T03:19:03.534553Z",
     "start_time": "2020-07-26T03:19:03.519531Z"
    }
   },
   "outputs": [],
   "source": [
    "a = [1, 2, 3, 4, 5, 6]"
   ]
  },
  {
   "cell_type": "code",
   "execution_count": 20,
   "metadata": {
    "ExecuteTime": {
     "end_time": "2020-07-26T03:15:44.828207Z",
     "start_time": "2020-07-26T03:15:44.817197Z"
    }
   },
   "outputs": [
    {
     "data": {
      "text/plain": [
       "[1, 2, 4, 4, 5, 6]"
      ]
     },
     "execution_count": 20,
     "metadata": {},
     "output_type": "execute_result"
    }
   ],
   "source": [
    "for i in range(len(a)):\n",
    "    if a[i] == 3:\n",
    "        a[i] = 4\n",
    "a"
   ]
  },
  {
   "cell_type": "code",
   "execution_count": 25,
   "metadata": {
    "ExecuteTime": {
     "end_time": "2020-07-26T03:19:05.439067Z",
     "start_time": "2020-07-26T03:19:05.434062Z"
    }
   },
   "outputs": [],
   "source": [
    "for i, v in enumerate(a):\n",
    "    if v == 3:\n",
    "        a[i] = 4"
   ]
  },
  {
   "cell_type": "code",
   "execution_count": 26,
   "metadata": {
    "ExecuteTime": {
     "end_time": "2020-07-26T03:19:20.127921Z",
     "start_time": "2020-07-26T03:19:20.111898Z"
    }
   },
   "outputs": [
    {
     "data": {
      "text/plain": [
       "[1, 2, 4, 4, 5, 6]"
      ]
     },
     "execution_count": 26,
     "metadata": {},
     "output_type": "execute_result"
    }
   ],
   "source": [
    "a"
   ]
  },
  {
   "cell_type": "markdown",
   "metadata": {},
   "source": [
    "#### IndexError: list index out of range"
   ]
  },
  {
   "cell_type": "code",
   "execution_count": 27,
   "metadata": {
    "ExecuteTime": {
     "end_time": "2020-07-26T03:19:24.292241Z",
     "start_time": "2020-07-26T03:19:24.272224Z"
    }
   },
   "outputs": [
    {
     "ename": "IndexError",
     "evalue": "list index out of range",
     "output_type": "error",
     "traceback": [
      "\u001b[1;31m---------------------------------------------------------------------------\u001b[0m",
      "\u001b[1;31mIndexError\u001b[0m                                Traceback (most recent call last)",
      "\u001b[1;32m<ipython-input-27-574dac90cb2e>\u001b[0m in \u001b[0;36m<module>\u001b[1;34m\u001b[0m\n\u001b[0;32m      1\u001b[0m \u001b[1;32mfor\u001b[0m \u001b[0mi\u001b[0m \u001b[1;32min\u001b[0m \u001b[0mrange\u001b[0m\u001b[1;33m(\u001b[0m\u001b[0mlen\u001b[0m\u001b[1;33m(\u001b[0m\u001b[0ma\u001b[0m\u001b[1;33m)\u001b[0m\u001b[1;33m)\u001b[0m\u001b[1;33m:\u001b[0m\u001b[1;33m\u001b[0m\u001b[1;33m\u001b[0m\u001b[0m\n\u001b[1;32m----> 2\u001b[1;33m     \u001b[1;32mif\u001b[0m \u001b[0ma\u001b[0m\u001b[1;33m[\u001b[0m\u001b[0mi\u001b[0m\u001b[1;33m]\u001b[0m \u001b[1;33m==\u001b[0m \u001b[1;36m4\u001b[0m\u001b[1;33m:\u001b[0m\u001b[1;33m\u001b[0m\u001b[1;33m\u001b[0m\u001b[0m\n\u001b[0m\u001b[0;32m      3\u001b[0m         \u001b[1;32mdel\u001b[0m \u001b[0ma\u001b[0m\u001b[1;33m[\u001b[0m\u001b[0mi\u001b[0m\u001b[1;33m]\u001b[0m\u001b[1;33m\u001b[0m\u001b[1;33m\u001b[0m\u001b[0m\n",
      "\u001b[1;31mIndexError\u001b[0m: list index out of range"
     ]
    }
   ],
   "source": [
    "for i in range(len(a)):\n",
    "    if a[i] == 4:\n",
    "        del a[i]"
   ]
  },
  {
   "cell_type": "markdown",
   "metadata": {},
   "source": [
    "👆 由于在遍历的过程中，删除了其中一个元素，导致后面的元素整体前移，导致有个元素成了漏网之鱼。  \n",
    "同样的，在遍历过程中，使用插入操作，也会导致类似的错误。这也就是问题里说的无法“跟踪”元素。"
   ]
  },
  {
   "cell_type": "markdown",
   "metadata": {},
   "source": [
    "如果使用while，则可以在面对这样情况的时候灵活应对。同样是上面那个例子："
   ]
  },
  {
   "cell_type": "code",
   "execution_count": 28,
   "metadata": {
    "ExecuteTime": {
     "end_time": "2020-07-26T03:19:52.064057Z",
     "start_time": "2020-07-26T03:19:52.059053Z"
    }
   },
   "outputs": [
    {
     "data": {
      "text/plain": [
       "[1, 2, 5, 6]"
      ]
     },
     "execution_count": 28,
     "metadata": {},
     "output_type": "execute_result"
    }
   ],
   "source": [
    "i = 0\n",
    "while i < len(a):\n",
    "    if a[i] == 4:\n",
    "        del a[i]\n",
    "    else:\n",
    "        i += 1\n",
    "a"
   ]
  },
  {
   "cell_type": "markdown",
   "metadata": {},
   "source": [
    "#### 把原有的list复制一下，遍历拷贝的list、但修改原有的list。"
   ]
  },
  {
   "cell_type": "markdown",
   "metadata": {},
   "source": [
    "👆As the [Python tutorial](https://docs.python.org/3/tutorial/controlflow.html\\#for-statements)suggests,   \n",
    "\"If you need to modify the sequence you are iterating over while inside the loop  \n",
    "(for example to duplicate selected items),   \n",
    "it is recommended that you first make a copy.\"  \n",
    "You can copy a list by calling the list constructor or slicing the list from the beginning to the end. \n",
    "——UCB CS 61A Sp17"
   ]
  },
  {
   "cell_type": "code",
   "execution_count": null,
   "metadata": {},
   "outputs": [],
   "source": [
    "# 复制列表的方法：\n",
    "lst = [1,2,3] \n",
    "lst1 = lst[:] # one way \n",
    "lst2 = list(lst) # another "
   ]
  },
  {
   "cell_type": "markdown",
   "metadata": {},
   "source": [
    "👇[Python的list循环遍历中，删除数据的正确方法 - bananaplan - 博客园](https://www.cnblogs.com/bananaplan/p/remove-listitem-while-iterating.html)"
   ]
  },
  {
   "cell_type": "code",
   "execution_count": 29,
   "metadata": {
    "ExecuteTime": {
     "end_time": "2020-07-26T03:20:44.703043Z",
     "start_time": "2020-07-26T03:20:44.683024Z"
    }
   },
   "outputs": [
    {
     "name": "stdout",
     "output_type": "stream",
     "text": [
      "[1, 2, 3, 4, 5]\n",
      "1\n",
      "4\n",
      "5\n"
     ]
    },
    {
     "ename": "IndexError",
     "evalue": "list index out of range",
     "output_type": "error",
     "traceback": [
      "\u001b[1;31m---------------------------------------------------------------------------\u001b[0m",
      "\u001b[1;31mIndexError\u001b[0m                                Traceback (most recent call last)",
      "\u001b[1;32m<ipython-input-29-7e590a65a8c9>\u001b[0m in \u001b[0;36m<module>\u001b[1;34m\u001b[0m\n\u001b[0;32m      3\u001b[0m \u001b[1;33m\u001b[0m\u001b[0m\n\u001b[0;32m      4\u001b[0m \u001b[1;32mfor\u001b[0m \u001b[0mi\u001b[0m \u001b[1;32min\u001b[0m \u001b[0mrange\u001b[0m\u001b[1;33m(\u001b[0m\u001b[0mlen\u001b[0m\u001b[1;33m(\u001b[0m\u001b[0mnum_list\u001b[0m\u001b[1;33m)\u001b[0m\u001b[1;33m)\u001b[0m\u001b[1;33m:\u001b[0m\u001b[1;33m\u001b[0m\u001b[1;33m\u001b[0m\u001b[0m\n\u001b[1;32m----> 5\u001b[1;33m     \u001b[1;32mif\u001b[0m \u001b[0mnum_list\u001b[0m\u001b[1;33m[\u001b[0m\u001b[0mi\u001b[0m\u001b[1;33m]\u001b[0m \u001b[1;33m==\u001b[0m \u001b[1;36m2\u001b[0m\u001b[1;33m:\u001b[0m\u001b[1;33m\u001b[0m\u001b[1;33m\u001b[0m\u001b[0m\n\u001b[0m\u001b[0;32m      6\u001b[0m         \u001b[0mnum_list\u001b[0m\u001b[1;33m.\u001b[0m\u001b[0mpop\u001b[0m\u001b[1;33m(\u001b[0m\u001b[0mi\u001b[0m\u001b[1;33m)\u001b[0m\u001b[1;33m\u001b[0m\u001b[1;33m\u001b[0m\u001b[0m\n\u001b[0;32m      7\u001b[0m     \u001b[1;32melse\u001b[0m\u001b[1;33m:\u001b[0m\u001b[1;33m\u001b[0m\u001b[1;33m\u001b[0m\u001b[0m\n",
      "\u001b[1;31mIndexError\u001b[0m: list index out of range"
     ]
    }
   ],
   "source": [
    "num_list = [1, 2, 3, 4, 5]\n",
    "print(num_list)\n",
    "\n",
    "for i in range(len(num_list)):\n",
    "    if num_list[i] == 2:\n",
    "        num_list.pop(i)\n",
    "    else:\n",
    "        print(num_list[i])\n",
    "\n",
    "print(num_list)"
   ]
  },
  {
   "cell_type": "markdown",
   "metadata": {},
   "source": [
    "👆在删除list中的元素后，list的实际长度变小了，但是循环次数没有减少，依然按照原来list的长度进行遍历，所以会造成索引溢出。  \n",
    "和之前的例子类似"
   ]
  },
  {
   "cell_type": "code",
   "execution_count": null,
   "metadata": {},
   "outputs": [],
   "source": [
    "num_list = [1, 2, 3, 4, 5] \n",
    "print(num_list) \n",
    "for item in num_list[:]:  #num_list[:]复制的列表\n",
    "    if item == 2: \n",
    "        num_list.remove(item) \n",
    "    else: \n",
    "        print(item) \n",
    "print(num_list)"
   ]
  },
  {
   "cell_type": "markdown",
   "metadata": {},
   "source": [
    "### 列表推导式"
   ]
  },
  {
   "cell_type": "markdown",
   "metadata": {
    "ExecuteTime": {
     "end_time": "2020-07-26T03:11:28.110478Z",
     "start_time": "2020-07-26T03:11:28.089954Z"
    }
   },
   "source": [
    "“扁平结构比嵌套结构更好” – 《Python之禅》比如 "
   ]
  },
  {
   "cell_type": "code",
   "execution_count": null,
   "metadata": {},
   "outputs": [],
   "source": [
    "list(map(lambda x:4 if x==3 else x,a))"
   ]
  },
  {
   "cell_type": "code",
   "execution_count": 16,
   "metadata": {
    "ExecuteTime": {
     "end_time": "2020-07-26T03:13:08.706167Z",
     "start_time": "2020-07-26T03:13:08.694654Z"
    }
   },
   "outputs": [
    {
     "data": {
      "text/plain": [
       "[1, 2, 4, 4, 5, 6]"
      ]
     },
     "execution_count": 16,
     "metadata": {},
     "output_type": "execute_result"
    }
   ],
   "source": [
    "# 如果一定要用for：\n",
    "c = [1, 2, 3, 4, 5, 6]\n",
    "# 3 变成 4\n",
    "c = [4 if x==3 else x for x in c]\n",
    "c"
   ]
  },
  {
   "cell_type": "code",
   "execution_count": 18,
   "metadata": {
    "ExecuteTime": {
     "end_time": "2020-07-26T03:13:22.726387Z",
     "start_time": "2020-07-26T03:13:22.718877Z"
    }
   },
   "outputs": [
    {
     "data": {
      "text/plain": [
       "[1, 2, 5, 6]"
      ]
     },
     "execution_count": 18,
     "metadata": {},
     "output_type": "execute_result"
    }
   ],
   "source": [
    "b = [1, 2, 4, 4, 5, 6]\n",
    "# 删除4\n",
    "b = [x for x in b if x != 4]\n",
    "b"
   ]
  },
  {
   "cell_type": "code",
   "execution_count": null,
   "metadata": {},
   "outputs": [],
   "source": []
  },
  {
   "cell_type": "code",
   "execution_count": null,
   "metadata": {},
   "outputs": [],
   "source": []
  },
  {
   "cell_type": "markdown",
   "metadata": {},
   "source": [
    "### 修改列表\n",
    "\n",
    "问题描述：\n",
    "\n",
    "lst = [1, [4, 6], True]\n",
    "\n",
    "请将列表里所有数字修改成原来的两倍"
   ]
  },
  {
   "cell_type": "code",
   "execution_count": 20,
   "metadata": {
    "ExecuteTime": {
     "end_time": "2020-07-26T01:30:45.553161Z",
     "start_time": "2020-07-26T01:30:45.547653Z"
    }
   },
   "outputs": [],
   "source": [
    "lst2 = [1, [4,6], True]"
   ]
  },
  {
   "cell_type": "code",
   "execution_count": 22,
   "metadata": {
    "ExecuteTime": {
     "end_time": "2020-07-26T01:42:59.357082Z",
     "start_time": "2020-07-26T01:42:59.348552Z"
    }
   },
   "outputs": [
    {
     "name": "stdout",
     "output_type": "stream",
     "text": [
      "[2, [8, 12], True]\n"
     ]
    }
   ],
   "source": [
    "def double_list(lst):\n",
    "    for index, value in enumerate(lst):\n",
    "        if isinstance(value, bool):\n",
    "            continue\n",
    "        if isinstance(value,(int,float)):\n",
    "            lst[index] *= 2\n",
    "        if isinstance(value, list):\n",
    "            #递归\n",
    "            double_list(value)\n",
    " \n",
    "if __name__ == '__main__':\n",
    "    lst = lst = [1, [4, 6], True]\n",
    "    double_list(lst)\n",
    "    print(lst)"
   ]
  },
  {
   "cell_type": "markdown",
   "metadata": {},
   "source": [
    "leetcode 852题 山脉数组的峰顶索引\n",
    "\n",
    "如果一个数组k符合下面两个属性，则称之为山脉数组\n",
    "\n",
    "数组的长度大于等于3\n",
    "\n",
    "存在$i$，$i$ >0 且$i<\\operatorname{len}(k)-1$， 使得$$\\mathrm{k}[0]<\\mathrm{k}[1]<\\ldots<\\mathrm{k}[\\mathrm{i}-1]<\\mathrm{k}[\\mathrm{j}]>\\mathrm{k}[\\mathrm{i}+1] \\ldots>\\mathrm{k}[\\operatorname{len}(\\mathrm{k})-1]$$\n",
    "\n",
    "这个$i$就是顶峰索引。\n",
    "\n",
    "现在，给定一个山脉数组，求顶峰索引。\n",
    "\n",
    "示例:\n",
    "\n",
    "输入：[1, 3, 4, 5, 3]\n",
    "\n",
    "输出：True\n",
    "\n",
    "输入：[1, 2, 4, 6, 4, 5]\n",
    "\n",
    "输出：False\n",
    "\n",
    "```python\n",
    "class Solution:\n",
    "    def peakIndexInMountainArray(self, A: List[int]) -> int:\n",
    "       \n",
    "    # your code here\n",
    "```"
   ]
  },
  {
   "cell_type": "markdown",
   "metadata": {
    "ExecuteTime": {
     "end_time": "2020-07-26T01:47:04.271482Z",
     "start_time": "2020-07-26T01:47:04.139842Z"
    }
   },
   "source": [
    "```python\n",
    "class Solution:\n",
    "    def peakIndexInMountainArray(self, A: List[int]) -> int:\n",
    "        return  A.index(max(A))\n",
    "```"
   ]
  }
 ],
 "metadata": {
  "kernelspec": {
   "display_name": "joyfulpd",
   "language": "python",
   "name": "joyfulpd"
  },
  "language_info": {
   "codemirror_mode": {
    "name": "ipython",
    "version": 3
   },
   "file_extension": ".py",
   "mimetype": "text/x-python",
   "name": "python",
   "nbconvert_exporter": "python",
   "pygments_lexer": "ipython3",
   "version": "3.8.3"
  },
  "toc": {
   "base_numbering": 1,
   "nav_menu": {},
   "number_sections": true,
   "sideBar": true,
   "skip_h1_title": false,
   "title_cell": "Table of Contents",
   "title_sidebar": "Contents",
   "toc_cell": false,
   "toc_position": {},
   "toc_section_display": true,
   "toc_window_display": false
  },
  "varInspector": {
   "cols": {
    "lenName": 16,
    "lenType": 16,
    "lenVar": 40
   },
   "kernels_config": {
    "python": {
     "delete_cmd_postfix": "",
     "delete_cmd_prefix": "del ",
     "library": "var_list.py",
     "varRefreshCmd": "print(var_dic_list())"
    },
    "r": {
     "delete_cmd_postfix": ") ",
     "delete_cmd_prefix": "rm(",
     "library": "var_list.r",
     "varRefreshCmd": "cat(var_dic_list()) "
    }
   },
   "types_to_exclude": [
    "module",
    "function",
    "builtin_function_or_method",
    "instance",
    "_Feature"
   ],
   "window_display": false
  }
 },
 "nbformat": 4,
 "nbformat_minor": 4
}
