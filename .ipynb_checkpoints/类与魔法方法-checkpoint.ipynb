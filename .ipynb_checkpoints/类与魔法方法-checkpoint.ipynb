{
 "cells": [
  {
   "cell_type": "markdown",
   "metadata": {
    "ExecuteTime": {
     "end_time": "2020-08-01T06:56:29.182471Z",
     "start_time": "2020-08-01T06:56:29.166457Z"
    }
   },
   "source": [
    "## 类"
   ]
  },
  {
   "cell_type": "code",
   "execution_count": 26,
   "metadata": {
    "ExecuteTime": {
     "end_time": "2020-08-01T06:58:52.946402Z",
     "start_time": "2020-08-01T06:58:52.926462Z"
    }
   },
   "outputs": [
    {
     "name": "stdout",
     "output_type": "stream",
     "text": [
      "我叫球A,该死的，谁踢我...\n",
      "我叫球B,该死的，谁踢我...\n",
      "球d: I dropped\n"
     ]
    }
   ],
   "source": [
    "class Ball:\n",
    "    def __init__(self, name):\n",
    "        self.name = name\n",
    "\n",
    "    def kick(self):\n",
    "        print(\"我叫%s,该死的，谁踢我...\" % self.name)\n",
    "\n",
    "class basketball(Ball):\n",
    "\n",
    "    def drop(self):\n",
    "        print(\"%s: I dropped\" % self.name)\n",
    "\n",
    "\n",
    "a = Ball(\"球A\")\n",
    "b = Ball(\"球B\")\n",
    "c = Ball(\"球C\")\n",
    "a.kick()\n",
    "# 我叫球A,该死的，谁踢我...\n",
    "b.kick()\n",
    "# 我叫球B,该死的，谁踢我...\n",
    "\n",
    "d = basketball(\"球d\")\n",
    "d.drop()"
   ]
  },
  {
   "cell_type": "markdown",
   "metadata": {},
   "source": [
    "### 公有和私有"
   ]
  },
  {
   "cell_type": "code",
   "execution_count": 1,
   "metadata": {
    "ExecuteTime": {
     "end_time": "2020-08-01T02:34:56.703344Z",
     "start_time": "2020-08-01T02:34:56.568223Z"
    }
   },
   "outputs": [
    {
     "name": "stdout",
     "output_type": "stream",
     "text": [
      "1\n",
      "2\n",
      "2\n",
      "2\n"
     ]
    },
    {
     "ename": "AttributeError",
     "evalue": "'JustCounter' object has no attribute '__secretCount'",
     "output_type": "error",
     "traceback": [
      "\u001b[1;31m---------------------------------------------------------------------------\u001b[0m",
      "\u001b[1;31mAttributeError\u001b[0m                            Traceback (most recent call last)",
      "\u001b[1;32m<ipython-input-1-01ed63e738f6>\u001b[0m in \u001b[0;36m<module>\u001b[1;34m\u001b[0m\n\u001b[0;32m     15\u001b[0m \u001b[1;33m\u001b[0m\u001b[0m\n\u001b[0;32m     16\u001b[0m \u001b[0mprint\u001b[0m\u001b[1;33m(\u001b[0m\u001b[0mcounter\u001b[0m\u001b[1;33m.\u001b[0m\u001b[0m_JustCounter__secretCount\u001b[0m\u001b[1;33m)\u001b[0m  \u001b[1;31m# 2 Python的私有为伪私有\u001b[0m\u001b[1;33m\u001b[0m\u001b[1;33m\u001b[0m\u001b[0m\n\u001b[1;32m---> 17\u001b[1;33m \u001b[0mprint\u001b[0m\u001b[1;33m(\u001b[0m\u001b[0mcounter\u001b[0m\u001b[1;33m.\u001b[0m\u001b[0m__secretCount\u001b[0m\u001b[1;33m)\u001b[0m\u001b[1;33m\u001b[0m\u001b[1;33m\u001b[0m\u001b[0m\n\u001b[0m\u001b[0;32m     18\u001b[0m \u001b[1;31m# AttributeError: 'JustCounter' object has no attribute '__secretCount'\u001b[0m\u001b[1;33m\u001b[0m\u001b[1;33m\u001b[0m\u001b[1;33m\u001b[0m\u001b[0m\n",
      "\u001b[1;31mAttributeError\u001b[0m: 'JustCounter' object has no attribute '__secretCount'"
     ]
    }
   ],
   "source": [
    "class JustCounter:\n",
    "    __secretCount = 0  # 私有变量\n",
    "    publicCount = 0  # 公开变量\n",
    "\n",
    "    def count(self):\n",
    "        self.__secretCount += 1\n",
    "        self.publicCount += 1\n",
    "        print(self.__secretCount)\n",
    "\n",
    "\n",
    "counter = JustCounter()\n",
    "counter.count()  # 1\n",
    "counter.count()  # 2\n",
    "print(counter.publicCount)  # 2\n",
    "\n",
    "print(counter._JustCounter__secretCount)  # 2 Python的私有为伪私有\n",
    "print(counter.__secretCount)  \n",
    "# AttributeError: 'JustCounter' object has no attribute '__secretCount'"
   ]
  },
  {
   "cell_type": "code",
   "execution_count": 2,
   "metadata": {
    "ExecuteTime": {
     "end_time": "2020-08-01T02:35:17.055705Z",
     "start_time": "2020-08-01T02:35:17.037184Z"
    }
   },
   "outputs": [
    {
     "name": "stdout",
     "output_type": "stream",
     "text": [
      "name  :  老马的程序人生\n",
      "url :  https://blog.csdn.net/LSGO_MYP\n",
      "这是公共方法\n",
      "这是私有方法\n"
     ]
    },
    {
     "ename": "AttributeError",
     "evalue": "'Site' object has no attribute '__foo'",
     "output_type": "error",
     "traceback": [
      "\u001b[1;31m---------------------------------------------------------------------------\u001b[0m",
      "\u001b[1;31mAttributeError\u001b[0m                            Traceback (most recent call last)",
      "\u001b[1;32m<ipython-input-2-555cf676b575>\u001b[0m in \u001b[0;36m<module>\u001b[1;34m\u001b[0m\n\u001b[0;32m     25\u001b[0m \u001b[1;31m# 这是私有方法\u001b[0m\u001b[1;33m\u001b[0m\u001b[1;33m\u001b[0m\u001b[1;33m\u001b[0m\u001b[0m\n\u001b[0;32m     26\u001b[0m \u001b[1;33m\u001b[0m\u001b[0m\n\u001b[1;32m---> 27\u001b[1;33m \u001b[0mx\u001b[0m\u001b[1;33m.\u001b[0m\u001b[0m__foo\u001b[0m\u001b[1;33m(\u001b[0m\u001b[1;33m)\u001b[0m\u001b[1;33m\u001b[0m\u001b[1;33m\u001b[0m\u001b[0m\n\u001b[0m\u001b[0;32m     28\u001b[0m \u001b[1;31m# AttributeError: 'Site' object has no attribute '__foo'\u001b[0m\u001b[1;33m\u001b[0m\u001b[1;33m\u001b[0m\u001b[1;33m\u001b[0m\u001b[0m\n",
      "\u001b[1;31mAttributeError\u001b[0m: 'Site' object has no attribute '__foo'"
     ]
    }
   ],
   "source": [
    "class Site:\n",
    "    def __init__(self, name, url):\n",
    "        self.name = name  # public\n",
    "        self.__url = url  # private\n",
    "\n",
    "    def who(self):\n",
    "        print('name  : ', self.name)\n",
    "        print('url : ', self.__url)\n",
    "\n",
    "    def __foo(self):  # 私有方法\n",
    "        print('这是私有方法')\n",
    "\n",
    "    def foo(self):  # 公共方法\n",
    "        print('这是公共方法')\n",
    "        self.__foo()\n",
    "\n",
    "\n",
    "x = Site('老马的程序人生', 'https://blog.csdn.net/LSGO_MYP')\n",
    "x.who()\n",
    "# name  :  老马的程序人生\n",
    "# url :  https://blog.csdn.net/LSGO_MYP\n",
    "\n",
    "x.foo()\n",
    "# 这是公共方法\n",
    "# 这是私有方法\n",
    "\n",
    "x.__foo()\n",
    "# AttributeError: 'Site' object has no attribute '__foo'"
   ]
  },
  {
   "cell_type": "markdown",
   "metadata": {},
   "source": [
    "### 继承"
   ]
  },
  {
   "cell_type": "code",
   "execution_count": 21,
   "metadata": {
    "ExecuteTime": {
     "end_time": "2020-08-01T06:54:23.421639Z",
     "start_time": "2020-08-01T06:54:23.414585Z"
    }
   },
   "outputs": [],
   "source": [
    "# 类定义\n",
    "class people:\n",
    "    # 定义基本属性\n",
    "    name = ''\n",
    "    age = 0\n",
    "    # 定义私有属性,私有属性在类外部无法直接进行访问\n",
    "    __weight = 0\n",
    "\n",
    "    # 定义构造方法\n",
    "    def __init__(self, n, a, w):\n",
    "        self.name = n\n",
    "        self.age = a\n",
    "        self.__weight = w\n",
    "\n",
    "    def speak(self):\n",
    "        print(\"%s 说: 我 %d 岁。\" % (self.name, self.age))\n",
    "\n",
    "\n",
    "# 单继承示例\n",
    "class student(people):\n",
    "    grade = ''\n",
    "\n",
    "    def __init__(self, n, a, w, g):\n",
    "        # 调用父类的构函\n",
    "        people.__init__(self, n, a, w)\n",
    "        self.grade = g\n",
    "\n",
    "    # 覆写父类的方法\n",
    "    def speak(self):\n",
    "        print(\"%s 说: 我 %d 岁了，我在读 %d 年级\" % (self.name, self.age, self.grade))\n"
   ]
  },
  {
   "cell_type": "code",
   "execution_count": null,
   "metadata": {},
   "outputs": [],
   "source": [
    "s = student('小马的程序人生', 10, 60, 3) # n=小马的程序人生', a=10, w=60, g=3\n",
    "s.speak()\n",
    "# 小马的程序人生 说: 我 10 岁了，我在读 3 年级"
   ]
  },
  {
   "cell_type": "markdown",
   "metadata": {},
   "source": [
    "如果上面的程序去掉：`people.__init__(self, n, a, w)`，则输出：` 说: 我 0 岁了，我在读 3 年级`，  \n",
    "因为子类的构造方法把父类的构造方法覆盖了。"
   ]
  },
  {
   "cell_type": "code",
   "execution_count": 36,
   "metadata": {
    "ExecuteTime": {
     "end_time": "2020-08-01T07:04:12.655143Z",
     "start_time": "2020-08-01T07:04:12.647135Z"
    }
   },
   "outputs": [],
   "source": [
    "# 类定义\n",
    "class people:\n",
    "    # 定义基本属性\n",
    "    name = ''\n",
    "    age = 0\n",
    "    # 定义私有属性,私有属性在类外部无法直接进行访问\n",
    "    __weight = 0\n",
    "\n",
    "    # 定义构造方法\n",
    "    def __init__(self, n, a, w):\n",
    "        self.name = n\n",
    "        self.age = a\n",
    "        self.__weight = w\n",
    "\n",
    "    def speak(self):\n",
    "        print(\"%s 说: 我 %d 岁。\" % (self.name, self.age))\n",
    "\n",
    "\n",
    "# 单继承示例\n",
    "class student(people):\n",
    "    grade = ''\n",
    "\n",
    "    def __init__(self, n, a, w, g):\n",
    "        # 调用父类的构函\n",
    "        #people.__init__(self, n, a, w)\n",
    "        self.grade = g\n",
    "\n",
    "    # 覆写父类的方法\n",
    "    def speak(self):\n",
    "        print(\"%s 说: 我 %d 岁了，我在读 %d 年级\" % (self.name, self.age, self.grade))\n"
   ]
  },
  {
   "cell_type": "code",
   "execution_count": 39,
   "metadata": {
    "ExecuteTime": {
     "end_time": "2020-08-01T07:05:13.904002Z",
     "start_time": "2020-08-01T07:05:13.887675Z"
    }
   },
   "outputs": [
    {
     "name": "stdout",
     "output_type": "stream",
     "text": [
      " 说: 我 0 岁了，我在读 3 年级\n"
     ]
    }
   ],
   "source": [
    "s = student('小马的程序人生', 10, 60, 3) # n='', a=0, w=?, g=3\n",
    "s.speak()\n",
    "# 小马的程序人生 说: 我 10 岁了，我在读 3 年级"
   ]
  },
  {
   "cell_type": "code",
   "execution_count": 1,
   "metadata": {
    "ExecuteTime": {
     "end_time": "2020-08-01T03:09:04.233416Z",
     "start_time": "2020-08-01T03:09:04.221902Z"
    }
   },
   "outputs": [],
   "source": [
    "import numpy.random as r"
   ]
  },
  {
   "cell_type": "code",
   "execution_count": 2,
   "metadata": {
    "ExecuteTime": {
     "end_time": "2020-08-01T03:09:06.009020Z",
     "start_time": "2020-08-01T03:09:05.878905Z"
    }
   },
   "outputs": [
    {
     "name": "stdout",
     "output_type": "stream",
     "text": [
      "我的位置 2 6\n",
      "吃货的梦想就是天天有得吃！\n"
     ]
    },
    {
     "ename": "AttributeError",
     "evalue": "'Shark' object has no attribute 'x'",
     "output_type": "error",
     "traceback": [
      "\u001b[1;31m---------------------------------------------------------------------------\u001b[0m",
      "\u001b[1;31mAttributeError\u001b[0m                            Traceback (most recent call last)",
      "\u001b[1;32m<ipython-input-2-bcd16f79b18a>\u001b[0m in \u001b[0;36m<module>\u001b[1;34m\u001b[0m\n\u001b[0;32m     38\u001b[0m \u001b[0ms\u001b[0m \u001b[1;33m=\u001b[0m \u001b[0mShark\u001b[0m\u001b[1;33m(\u001b[0m\u001b[1;33m)\u001b[0m\u001b[1;33m\u001b[0m\u001b[1;33m\u001b[0m\u001b[0m\n\u001b[0;32m     39\u001b[0m \u001b[0ms\u001b[0m\u001b[1;33m.\u001b[0m\u001b[0meat\u001b[0m\u001b[1;33m(\u001b[0m\u001b[1;33m)\u001b[0m \u001b[1;31m# 吃货的梦想就是天天有得吃！\u001b[0m\u001b[1;33m\u001b[0m\u001b[1;33m\u001b[0m\u001b[0m\n\u001b[1;32m---> 40\u001b[1;33m \u001b[0ms\u001b[0m\u001b[1;33m.\u001b[0m\u001b[0mmove\u001b[0m\u001b[1;33m(\u001b[0m\u001b[1;33m)\u001b[0m\u001b[1;33m\u001b[0m\u001b[1;33m\u001b[0m\u001b[0m\n\u001b[0m\u001b[0;32m     41\u001b[0m \u001b[1;31m# AttributeError: 'Shark' object has no attribute 'x'\u001b[0m\u001b[1;33m\u001b[0m\u001b[1;33m\u001b[0m\u001b[1;33m\u001b[0m\u001b[0m\n",
      "\u001b[1;32m<ipython-input-2-bcd16f79b18a>\u001b[0m in \u001b[0;36mmove\u001b[1;34m(self)\u001b[0m\n\u001b[0;32m      5\u001b[0m \u001b[1;33m\u001b[0m\u001b[0m\n\u001b[0;32m      6\u001b[0m     \u001b[1;32mdef\u001b[0m \u001b[0mmove\u001b[0m\u001b[1;33m(\u001b[0m\u001b[0mself\u001b[0m\u001b[1;33m)\u001b[0m\u001b[1;33m:\u001b[0m\u001b[1;33m\u001b[0m\u001b[1;33m\u001b[0m\u001b[0m\n\u001b[1;32m----> 7\u001b[1;33m         \u001b[0mself\u001b[0m\u001b[1;33m.\u001b[0m\u001b[0mx\u001b[0m \u001b[1;33m-=\u001b[0m \u001b[1;36m1\u001b[0m\u001b[1;33m\u001b[0m\u001b[1;33m\u001b[0m\u001b[0m\n\u001b[0m\u001b[0;32m      8\u001b[0m         \u001b[0mprint\u001b[0m\u001b[1;33m(\u001b[0m\u001b[1;34m\"我的位置\"\u001b[0m\u001b[1;33m,\u001b[0m \u001b[0mself\u001b[0m\u001b[1;33m.\u001b[0m\u001b[0mx\u001b[0m\u001b[1;33m,\u001b[0m \u001b[0mself\u001b[0m\u001b[1;33m.\u001b[0m\u001b[0my\u001b[0m\u001b[1;33m)\u001b[0m\u001b[1;33m\u001b[0m\u001b[1;33m\u001b[0m\u001b[0m\n\u001b[0;32m      9\u001b[0m \u001b[1;33m\u001b[0m\u001b[0m\n",
      "\u001b[1;31mAttributeError\u001b[0m: 'Shark' object has no attribute 'x'"
     ]
    }
   ],
   "source": [
    "class Fish:\n",
    "    def __init__(self):\n",
    "        self.x = r.randint(0, 10)\n",
    "        self.y = r.randint(0, 10)\n",
    "\n",
    "    def move(self):\n",
    "        self.x -= 1\n",
    "        print(\"我的位置\", self.x, self.y)\n",
    "\n",
    "\n",
    "class GoldFish(Fish):  # 金鱼\n",
    "    pass\n",
    "\n",
    "\n",
    "class Carp(Fish):  # 鲤鱼\n",
    "    pass\n",
    "\n",
    "\n",
    "class Salmon(Fish):  # 三文鱼\n",
    "    pass\n",
    "\n",
    "\n",
    "class Shark(Fish):  # 鲨鱼\n",
    "    def __init__(self):\n",
    "        self.hungry = True\n",
    "\n",
    "    def eat(self):\n",
    "        if self.hungry:\n",
    "            print(\"吃货的梦想就是天天有得吃！\")\n",
    "            self.hungry = False\n",
    "        else:\n",
    "            print(\"太撑了，吃不下了！\")\n",
    "            self.hungry = True\n",
    "\n",
    "\n",
    "g = GoldFish()\n",
    "g.move()  # 我的位置 9 4\n",
    "s = Shark()\n",
    "s.eat() # 吃货的梦想就是天天有得吃！\n",
    "s.move()  \n",
    "# AttributeError: 'Shark' object has no attribute 'x'"
   ]
  },
  {
   "cell_type": "markdown",
   "metadata": {},
   "source": [
    "解决该问题可用以下两种方式：\n",
    "\n",
    "#### - 调用未绑定的父类方法`Fish.__init__(self)`"
   ]
  },
  {
   "cell_type": "code",
   "execution_count": 3,
   "metadata": {
    "ExecuteTime": {
     "end_time": "2020-08-01T03:09:45.006201Z",
     "start_time": "2020-08-01T03:09:44.990450Z"
    }
   },
   "outputs": [],
   "source": [
    "class Shark(Fish):  # 鲨鱼\n",
    "    def __init__(self):\n",
    "        Fish.__init__(self)\n",
    "        self.hungry = True\n",
    "\n",
    "    def eat(self):\n",
    "        if self.hungry:\n",
    "            print(\"吃货的梦想就是天天有得吃！\")\n",
    "            self.hungry = False\n",
    "        else:\n",
    "            print(\"太撑了，吃不下了！\")\n",
    "            self.hungry = True"
   ]
  },
  {
   "cell_type": "markdown",
   "metadata": {},
   "source": [
    "#### 使用super函数`super().__init__()`"
   ]
  },
  {
   "cell_type": "code",
   "execution_count": 4,
   "metadata": {
    "ExecuteTime": {
     "end_time": "2020-08-01T03:10:05.639128Z",
     "start_time": "2020-08-01T03:10:05.630618Z"
    }
   },
   "outputs": [],
   "source": [
    "class Shark(Fish):  # 鲨鱼\n",
    "    def __init__(self):\n",
    "        super().__init__()\n",
    "        self.hungry = True\n",
    "\n",
    "    def eat(self):\n",
    "        if self.hungry:\n",
    "            print(\"吃货的梦想就是天天有得吃！\")\n",
    "            self.hungry = False\n",
    "        else:\n",
    "            print(\"太撑了，吃不下了！\")\n",
    "            self.hungry = True"
   ]
  },
  {
   "cell_type": "markdown",
   "metadata": {},
   "source": [
    "### 多重继承"
   ]
  },
  {
   "cell_type": "code",
   "execution_count": 5,
   "metadata": {
    "ExecuteTime": {
     "end_time": "2020-08-01T04:00:36.160964Z",
     "start_time": "2020-08-01T04:00:36.144937Z"
    }
   },
   "outputs": [
    {
     "name": "stdout",
     "output_type": "stream",
     "text": [
      "我叫 Tim，我是一个演说家，我演讲的主题是 Python\n",
      "Tim 说: 我 25 岁了，我在读 4 年级\n"
     ]
    }
   ],
   "source": [
    "# 类定义\n",
    "class People:\n",
    "    # 定义基本属性\n",
    "    name = ''\n",
    "    age = 0\n",
    "    # 定义私有属性,私有属性在类外部无法直接进行访问\n",
    "    __weight = 0\n",
    "\n",
    "    # 定义构造方法\n",
    "    def __init__(self, n, a, w):\n",
    "        self.name = n\n",
    "        self.age = a\n",
    "        self.__weight = w\n",
    "\n",
    "    def speak(self):\n",
    "        print(\"%s 说: 我 %d 岁。\" % (self.name, self.age))\n",
    "\n",
    "\n",
    "# 单继承示例\n",
    "class Student(People):\n",
    "    grade = ''\n",
    "\n",
    "    def __init__(self, n, a, w, g):\n",
    "        # 调用父类的构函\n",
    "        People.__init__(self, n, a, w)\n",
    "        self.grade = g\n",
    "\n",
    "    # 覆写父类的方法\n",
    "    def speak(self):\n",
    "        print(\"%s 说: 我 %d 岁了，我在读 %d 年级\" % (self.name, self.age, self.grade))\n",
    "\n",
    "\n",
    "# 另一个类，多重继承之前的准备\n",
    "class Speaker:\n",
    "    topic = ''\n",
    "    name = ''\n",
    "\n",
    "    def __init__(self, n, t):\n",
    "        self.name = n\n",
    "        self.topic = t\n",
    "\n",
    "    def speak(self):\n",
    "        print(\"我叫 %s，我是一个演说家，我演讲的主题是 %s\" % (self.name, self.topic))\n",
    "\n",
    "\n",
    "# 多重继承\n",
    "class Sample01(Speaker, Student):\n",
    "    a = ''\n",
    "\n",
    "    def __init__(self, n, a, w, g, t):\n",
    "        Student.__init__(self, n, a, w, g)\n",
    "        Speaker.__init__(self, n, t)\n",
    "\n",
    "\n",
    "test = Sample01(\"Tim\", 25, 80, 4, \"Python\")\n",
    "test.speak()  # 方法名同，默认调用的是在括号中排前地父类的方法\n",
    "\n",
    "\n",
    "# 我叫 Tim，我是一个演说家，我演讲的主题是 Python\n",
    "\n",
    "class Sample02(Student, Speaker):\n",
    "    a = ''\n",
    "\n",
    "    def __init__(self, n, a, w, g, t):\n",
    "        Student.__init__(self, n, a, w, g)\n",
    "        Speaker.__init__(self, n, t)\n",
    "\n",
    "\n",
    "test = Sample02(\"Tim\", 25, 80, 4, \"Python\")\n",
    "test.speak()  # 方法名同，默认调用的是在括号中排前地父类的方法\n",
    "\n",
    "# Tim 说: 我 25 岁了，我在读 4 年级"
   ]
  },
  {
   "cell_type": "code",
   "execution_count": null,
   "metadata": {},
   "outputs": [],
   "source": []
  },
  {
   "cell_type": "markdown",
   "metadata": {},
   "source": [
    "### 7. 类、类对象和实例对象"
   ]
  },
  {
   "cell_type": "markdown",
   "metadata": {},
   "source": [
    "类属性和实例属性区别\n",
    "\n",
    "- 类属性：类外面，可以通过`实例对象.类属性`和`类名.类属性`进行调用。类里面，通过`self.类属性`和`类名.类属性`进行调用。\n",
    "- 实例属性 ：类外面，可以通过`实例对象.实例属性`调用。类里面，通过`self.实例属性`调用。\n",
    "- 实例属性就相当于局部变量。出了这个类或者这个类的实例对象，就没有作用了。\n",
    "- 类属性就相当于类里面的全局变量，可以和这个类的所有实例对象共享。"
   ]
  },
  {
   "cell_type": "code",
   "execution_count": 6,
   "metadata": {
    "ExecuteTime": {
     "end_time": "2020-08-01T04:42:24.881905Z",
     "start_time": "2020-08-01T04:42:24.873897Z"
    }
   },
   "outputs": [
    {
     "name": "stdout",
     "output_type": "stream",
     "text": [
      "类对象.类属性的值: 100\n",
      "self.类属性的值 100\n",
      "self.实例属性的值 100\n",
      "类对象.类属性的值: 100\n",
      "self.类属性的值 100\n",
      "self.实例属性的值 100\n",
      "类对象.类属性的值: 100\n",
      "self.类属性的值 200\n",
      "self.实例属性的值 200\n",
      "类对象.类属性的值: 100\n",
      "self.类属性的值 100\n",
      "self.实例属性的值 100\n",
      "类对象.类属性的值: 300\n",
      "self.类属性的值 200\n",
      "self.实例属性的值 200\n",
      "类对象.类属性的值: 300\n",
      "self.类属性的值 300\n",
      "self.实例属性的值 100\n",
      "++++++++\n",
      "类对象.类属性的值: 300\n",
      "self.类属性的值 300\n",
      "self.实例属性的值 100\n"
     ]
    }
   ],
   "source": [
    "# 创建类对象\n",
    "class Test(object):\n",
    "    class_attr = 100  # 类属性\n",
    "\n",
    "    def __init__(self):\n",
    "        self.sl_attr = 100  # 实例属性\n",
    "\n",
    "    def func(self):\n",
    "        print('类对象.类属性的值:', Test.class_attr)  # 调用类属性\n",
    "        print('self.类属性的值', self.class_attr)  # 相当于把类属性 变成实例属性\n",
    "        print('self.实例属性的值', self.sl_attr)  # 调用实例属性\n",
    "\n",
    "\n",
    "a = Test()\n",
    "a.func()\n",
    "\n",
    "# 类对象.类属性的值: 100\n",
    "# self.类属性的值 100\n",
    "# self.实例属性的值 100\n",
    "\n",
    "b = Test()\n",
    "b.func()\n",
    "\n",
    "# 类对象.类属性的值: 100\n",
    "# self.类属性的值 100\n",
    "# self.实例属性的值 100\n",
    "\n",
    "a.class_attr = 200\n",
    "a.sl_attr = 200\n",
    "a.func()\n",
    "\n",
    "# 类对象.类属性的值: 100\n",
    "# self.类属性的值 200\n",
    "# self.实例属性的值 200\n",
    "\n",
    "b.func()\n",
    "\n",
    "# 类对象.类属性的值: 100\n",
    "# self.类属性的值 100\n",
    "# self.实例属性的值 100\n",
    "\n",
    "Test.class_attr = 300\n",
    "a.func()\n",
    "\n",
    "# 类对象.类属性的值: 300\n",
    "# self.类属性的值 200\n",
    "# self.实例属性的值 200\n",
    "\n",
    "b.func()\n",
    "# 类对象.类属性的值: 300\n",
    "# self.类属性的值 300\n",
    "# self.实例属性的值 100\n",
    "\n",
    "print('++++++++')\n",
    "c = Test()\n",
    "c.func()"
   ]
  },
  {
   "cell_type": "code",
   "execution_count": null,
   "metadata": {},
   "outputs": [],
   "source": []
  },
  {
   "cell_type": "markdown",
   "metadata": {},
   "source": [
    "###  9. 一些相关的内置函数（BIF）"
   ]
  },
  {
   "cell_type": "code",
   "execution_count": 8,
   "metadata": {
    "ExecuteTime": {
     "end_time": "2020-08-01T06:40:31.712094Z",
     "start_time": "2020-08-01T06:40:31.695562Z"
    }
   },
   "outputs": [
    {
     "name": "stdout",
     "output_type": "stream",
     "text": [
      "True\n",
      "True\n",
      "False\n",
      "True\n"
     ]
    }
   ],
   "source": [
    "class A:\n",
    "    pass\n",
    "\n",
    "\n",
    "class B(A):\n",
    "    pass\n",
    "\n",
    "\n",
    "print(issubclass(B, A))  # True\n",
    "print(issubclass(B, B))  # True\n",
    "print(issubclass(A, B))  # False\n",
    "print(issubclass(B, object))  # True"
   ]
  },
  {
   "cell_type": "markdown",
   "metadata": {},
   "source": [
    "- `isinstance(object, classinfo)` 方法用于判断一个对象是否是一个已知的类型，类似`type()`。\n",
    "- `type()`不会认为子类是一种父类类型，不考虑继承关系。\n",
    "- `isinstance()`会认为子类是一种父类类型，考虑继承关系。\n",
    "- 如果第一个参数不是对象，则永远返回`False`。\n",
    "- 如果第二个参数不是类或者由类对象组成的元组，会抛出一个`TypeError`异常。"
   ]
  },
  {
   "cell_type": "code",
   "execution_count": 49,
   "metadata": {
    "ExecuteTime": {
     "end_time": "2020-08-01T07:30:04.372288Z",
     "start_time": "2020-08-01T07:30:04.362955Z"
    }
   },
   "outputs": [
    {
     "name": "stdout",
     "output_type": "stream",
     "text": [
      "1\n",
      "3\n"
     ]
    },
    {
     "ename": "AttributeError",
     "evalue": "'A' object has no attribute 'bar2'",
     "output_type": "error",
     "traceback": [
      "\u001b[1;31m---------------------------------------------------------------------------\u001b[0m",
      "\u001b[1;31mAttributeError\u001b[0m                            Traceback (most recent call last)",
      "\u001b[1;32m<ipython-input-49-a381bb20461b>\u001b[0m in \u001b[0;36m<module>\u001b[1;34m\u001b[0m\n\u001b[0;32m      6\u001b[0m \u001b[0mprint\u001b[0m\u001b[1;33m(\u001b[0m\u001b[0mgetattr\u001b[0m\u001b[1;33m(\u001b[0m\u001b[0ma\u001b[0m\u001b[1;33m,\u001b[0m \u001b[1;34m'bar'\u001b[0m\u001b[1;33m)\u001b[0m\u001b[1;33m)\u001b[0m  \u001b[1;31m# 1\u001b[0m\u001b[1;33m\u001b[0m\u001b[1;33m\u001b[0m\u001b[0m\n\u001b[0;32m      7\u001b[0m \u001b[0mprint\u001b[0m\u001b[1;33m(\u001b[0m\u001b[0mgetattr\u001b[0m\u001b[1;33m(\u001b[0m\u001b[0ma\u001b[0m\u001b[1;33m,\u001b[0m \u001b[1;34m'bar2'\u001b[0m\u001b[1;33m,\u001b[0m \u001b[1;36m3\u001b[0m\u001b[1;33m)\u001b[0m\u001b[1;33m)\u001b[0m  \u001b[1;31m# 3\u001b[0m\u001b[1;33m\u001b[0m\u001b[1;33m\u001b[0m\u001b[0m\n\u001b[1;32m----> 8\u001b[1;33m \u001b[0mprint\u001b[0m\u001b[1;33m(\u001b[0m\u001b[0mgetattr\u001b[0m\u001b[1;33m(\u001b[0m\u001b[0ma\u001b[0m\u001b[1;33m,\u001b[0m \u001b[1;34m'bar2'\u001b[0m\u001b[1;33m)\u001b[0m\u001b[1;33m)\u001b[0m\u001b[1;33m\u001b[0m\u001b[1;33m\u001b[0m\u001b[0m\n\u001b[0m\u001b[0;32m      9\u001b[0m \u001b[1;31m# AttributeError: 'A' object has no attribute 'bar2'\u001b[0m\u001b[1;33m\u001b[0m\u001b[1;33m\u001b[0m\u001b[1;33m\u001b[0m\u001b[0m\n",
      "\u001b[1;31mAttributeError\u001b[0m: 'A' object has no attribute 'bar2'"
     ]
    }
   ],
   "source": [
    "class A(object):\n",
    "    bar = 1\n",
    "\n",
    "\n",
    "a = A()\n",
    "print(getattr(a, 'bar'))  # 1\n",
    "print(getattr(a, 'bar2', 3))  # 3\n",
    "print(getattr(a, 'bar2'))\n",
    "# AttributeError: 'A' object has no attribute 'bar2'"
   ]
  },
  {
   "cell_type": "code",
   "execution_count": null,
   "metadata": {},
   "outputs": [],
   "source": []
  },
  {
   "cell_type": "code",
   "execution_count": null,
   "metadata": {},
   "outputs": [],
   "source": []
  },
  {
   "cell_type": "markdown",
   "metadata": {},
   "source": [
    "### 习题"
   ]
  },
  {
   "cell_type": "code",
   "execution_count": 41,
   "metadata": {
    "ExecuteTime": {
     "end_time": "2020-08-01T07:15:41.483442Z",
     "start_time": "2020-08-01T07:15:41.463423Z"
    }
   },
   "outputs": [
    {
     "ename": "NameError",
     "evalue": "name 'C' is not defined",
     "output_type": "error",
     "traceback": [
      "\u001b[1;31m---------------------------------------------------------------------------\u001b[0m",
      "\u001b[1;31mNameError\u001b[0m                                 Traceback (most recent call last)",
      "\u001b[1;32m<ipython-input-41-dcaef6492c17>\u001b[0m in \u001b[0;36m<module>\u001b[1;34m\u001b[0m\n\u001b[0;32m      1\u001b[0m \u001b[1;31m# 3、尝试执行以下代码，并解释错误原因：\u001b[0m\u001b[1;33m\u001b[0m\u001b[1;33m\u001b[0m\u001b[1;33m\u001b[0m\u001b[0m\n\u001b[1;32m----> 2\u001b[1;33m \u001b[1;32mclass\u001b[0m \u001b[0mC\u001b[0m\u001b[1;33m:\u001b[0m\u001b[1;33m\u001b[0m\u001b[1;33m\u001b[0m\u001b[0m\n\u001b[0m\u001b[0;32m      3\u001b[0m     \u001b[1;32mdef\u001b[0m \u001b[0mmyFun\u001b[0m\u001b[1;33m(\u001b[0m\u001b[1;33m)\u001b[0m\u001b[1;33m:\u001b[0m\u001b[1;33m\u001b[0m\u001b[1;33m\u001b[0m\u001b[0m\n\u001b[0;32m      4\u001b[0m         \u001b[0mprint\u001b[0m\u001b[1;33m(\u001b[0m\u001b[1;34m'Hello!'\u001b[0m\u001b[1;33m)\u001b[0m\u001b[1;33m\u001b[0m\u001b[1;33m\u001b[0m\u001b[0m\n\u001b[0;32m      5\u001b[0m     \u001b[0mc\u001b[0m \u001b[1;33m=\u001b[0m \u001b[0mC\u001b[0m\u001b[1;33m(\u001b[0m\u001b[1;33m)\u001b[0m\u001b[1;33m\u001b[0m\u001b[1;33m\u001b[0m\u001b[0m\n",
      "\u001b[1;32m<ipython-input-41-dcaef6492c17>\u001b[0m in \u001b[0;36mC\u001b[1;34m()\u001b[0m\n\u001b[0;32m      3\u001b[0m     \u001b[1;32mdef\u001b[0m \u001b[0mmyFun\u001b[0m\u001b[1;33m(\u001b[0m\u001b[1;33m)\u001b[0m\u001b[1;33m:\u001b[0m\u001b[1;33m\u001b[0m\u001b[1;33m\u001b[0m\u001b[0m\n\u001b[0;32m      4\u001b[0m         \u001b[0mprint\u001b[0m\u001b[1;33m(\u001b[0m\u001b[1;34m'Hello!'\u001b[0m\u001b[1;33m)\u001b[0m\u001b[1;33m\u001b[0m\u001b[1;33m\u001b[0m\u001b[0m\n\u001b[1;32m----> 5\u001b[1;33m     \u001b[0mc\u001b[0m \u001b[1;33m=\u001b[0m \u001b[0mC\u001b[0m\u001b[1;33m(\u001b[0m\u001b[1;33m)\u001b[0m\u001b[1;33m\u001b[0m\u001b[1;33m\u001b[0m\u001b[0m\n\u001b[0m\u001b[0;32m      6\u001b[0m     \u001b[0mc\u001b[0m\u001b[1;33m.\u001b[0m\u001b[0mmyFun\u001b[0m\u001b[1;33m(\u001b[0m\u001b[1;33m)\u001b[0m\u001b[1;33m\u001b[0m\u001b[1;33m\u001b[0m\u001b[0m\n",
      "\u001b[1;31mNameError\u001b[0m: name 'C' is not defined"
     ]
    }
   ],
   "source": [
    "# 3、尝试执行以下代码，并解释错误原因：\n",
    "class C:\n",
    "    def myFun():\n",
    "        print('Hello!')\n",
    "    c = C()\n",
    "    c.myFun()"
   ]
  },
  {
   "cell_type": "code",
   "execution_count": 48,
   "metadata": {
    "ExecuteTime": {
     "end_time": "2020-08-01T07:17:54.886287Z",
     "start_time": "2020-08-01T07:17:54.879776Z"
    }
   },
   "outputs": [
    {
     "name": "stdout",
     "output_type": "stream",
     "text": [
      "Hello!\n"
     ]
    }
   ],
   "source": [
    "class C:\n",
    "    def myFun(self):\n",
    "        print('Hello!')\n",
    "c = C()\n",
    "c.myFun()"
   ]
  },
  {
   "cell_type": "markdown",
   "metadata": {},
   "source": [
    "4、按照以下要求定义一个游乐园门票的类，并尝试计算2个成人+1个小孩平日票价。\n",
    "\n",
    "要求:\n",
    "\n",
    "- 平日票价100元\n",
    "- 周末票价为平日的120%\n",
    "- 儿童票半价"
   ]
  },
  {
   "cell_type": "code",
   "execution_count": 40,
   "metadata": {
    "ExecuteTime": {
     "end_time": "2020-08-01T07:14:32.599398Z",
     "start_time": "2020-08-01T07:14:32.584290Z"
    }
   },
   "outputs": [
    {
     "name": "stdout",
     "output_type": "stream",
     "text": [
      "2个成人+1个小孩平日票价为：250.00\n",
      "2个成人+1个小孩周末票价为：300.00\n"
     ]
    }
   ],
   "source": [
    "class Ticket:\n",
    "    def __init__(self,workday=True,adult=True):\n",
    "        self.price=100\n",
    "        if workday:\n",
    "            self.ratio=1\n",
    "        else:\n",
    "            self.ratio=1.2\n",
    "        if adult:\n",
    "            self.discount=1\n",
    "        else:\n",
    "            self.discount=0.5\n",
    "\n",
    "    def get_price(self,num):\n",
    "        return self.price*self.ratio*self.discount*num\n",
    "\n",
    "adult_1=Ticket(workday=True,adult=True)\n",
    "child_1=Ticket(workday=True,adult=False)\n",
    "\n",
    "print(\"2个成人+1个小孩平日票价为：%.2f\" %(adult_1.get_price(2)+child_1.get_price(1)))\n",
    "\n",
    "\n",
    "adult_2=Ticket(workday=False,adult=True)\n",
    "child_2=Ticket(workday=False,adult=False)\n",
    "\n",
    "print(\"2个成人+1个小孩周末票价为：%.2f\" %(adult_2.get_price(2)+child_2.get_price(1)))"
   ]
  },
  {
   "cell_type": "code",
   "execution_count": null,
   "metadata": {},
   "outputs": [],
   "source": []
  },
  {
   "cell_type": "markdown",
   "metadata": {},
   "source": [
    "## 魔法方法"
   ]
  },
  {
   "cell_type": "markdown",
   "metadata": {
    "ExecuteTime": {
     "end_time": "2020-08-02T07:32:48.522623Z",
     "start_time": "2020-08-02T07:32:48.503699Z"
    }
   },
   "source": [
    "<b>`__new__(cls[, ...])`</b>\n",
    "\n",
    "- `__new__`是在一个对象实例化的时候所调用的第一个方法，在调用`__init__`初始化前，先调用`__new__`。\n",
    "- `__new__`至少要有一个参数`cls`，代表要实例化的类，此参数在实例化时由 Python 解释器自动提供，  \n",
    "后面的参数直接传递给`__init__`。\n",
    "- `__new__`对当前类进行了实例化，并将实例返回，传给`__init__`的`self`。但是，执行了`__new__`，  \n",
    "并不一定会进入`__init__`，只有`__new__`返回了，当前类`cls`的实例，当前类的`__init__`才会进入。"
   ]
  },
  {
   "cell_type": "code",
   "execution_count": null,
   "metadata": {},
   "outputs": [],
   "source": [
    "此处有点晕，我录了个视频，"
   ]
  },
  {
   "cell_type": "code",
   "execution_count": 24,
   "metadata": {
    "ExecuteTime": {
     "end_time": "2020-08-02T07:56:50.918158Z",
     "start_time": "2020-08-02T07:56:50.899099Z"
    }
   },
   "outputs": [
    {
     "name": "stdout",
     "output_type": "stream",
     "text": [
      "~~~into B __new__\n",
      "cls:  <class '__main__.B'>\n",
      "obj:  <__main__.B object at 0x000002189DDD2250>\n",
      "~~~into A __new__\n",
      "cls:  <class '__main__.B'>\n",
      "obj:  <__main__.B object at 0x000002189DDD2730>\n",
      "~~~into B __init__\n"
     ]
    }
   ],
   "source": [
    "class A(object):\n",
    "    def __init__(self, value):\n",
    "        print(\"~~~into A __init__\")\n",
    "        self.value = value\n",
    "        \n",
    "    def __new__(cls, *args, **kwargs):\n",
    "        print(\"~~~into A __new__\")\n",
    "        print('cls: ', cls)\n",
    "        print('obj: ', object.__new__(cls))\n",
    "        return object.__new__(cls)\n",
    "\n",
    "class B(A):\n",
    "    def __init__(self, value):\n",
    "        print(\"~~~into B __init__\")\n",
    "        self.value = value\n",
    "\n",
    "    def __new__(cls, *args, **kwargs):\n",
    "        print(\"~~~into B __new__\")\n",
    "        print('cls: ', cls)\n",
    "        print('obj: ', object.__new__(cls))\n",
    "        #print('super: ',super().__new__(A, *args, **kwargs))\n",
    "        return super().__new__(cls, *args, **kwargs)\n",
    "b = B(10)\n",
    "# into B __new__\n",
    "# <class '__main__.B'>\n",
    "# into A __new__\n",
    "# <class '__main__.B'>\n",
    "# into B __init__"
   ]
  },
  {
   "cell_type": "code",
   "execution_count": null,
   "metadata": {},
   "outputs": [],
   "source": []
  },
  {
   "cell_type": "code",
   "execution_count": 25,
   "metadata": {
    "ExecuteTime": {
     "end_time": "2020-08-02T08:06:09.541773Z",
     "start_time": "2020-08-02T08:06:09.529762Z"
    }
   },
   "outputs": [
    {
     "name": "stdout",
     "output_type": "stream",
     "text": [
      "~~~into B __new__\n",
      "cls:  <class '__main__.B'>\n",
      "obj:  <__main__.B object at 0x000002189DDD2B50>\n",
      "~~~into A __new__\n",
      "cls:  <class '__main__.A'>\n",
      "obj:  <__main__.A object at 0x000002189DDD2FD0>\n"
     ]
    }
   ],
   "source": [
    "class A(object):\n",
    "    def __init__(self, value):\n",
    "        print(\"~~~into A __init__\")\n",
    "        self.value = value\n",
    "\n",
    "    def __new__(cls, *args, **kwargs):\n",
    "        print(\"~~~into A __new__\")\n",
    "        print('cls: ', cls)\n",
    "        print('obj: ', object.__new__(cls))\n",
    "        return object.__new__(cls)\n",
    "\n",
    "class B(A):\n",
    "    def __init__(self, value):\n",
    "        print(\"~~~into B __init__\")\n",
    "        self.value = value\n",
    "\n",
    "    def __new__(cls, *args, **kwargs):\n",
    "        print(\"~~~into B __new__\")\n",
    "        print('cls: ', cls)\n",
    "        print('obj: ', object.__new__(cls))\n",
    "        #print('super: ',super().__new__(A, *args, **kwargs))\n",
    "        return super().__new__(A, *args, **kwargs)  # 改动了cls变为A\n",
    "\n",
    "b = B(10)\n",
    "# 结果：\n",
    "# into B __new__\n",
    "# <class '__main__.B'>\n",
    "# into A __new__\n",
    "# <class '__main__.A'>"
   ]
  },
  {
   "cell_type": "markdown",
   "metadata": {},
   "source": [
    "- 若`__new__`没有正确返回当前类`cls`的实例，那`__init__`是不会被调用的，即使是父类的实例也不行，将没有`__init__`被调用。\n",
    "- 可利用`__new__`实现单例模式。"
   ]
  },
  {
   "cell_type": "code",
   "execution_count": null,
   "metadata": {},
   "outputs": [],
   "source": []
  },
  {
   "cell_type": "code",
   "execution_count": null,
   "metadata": {},
   "outputs": [],
   "source": []
  },
  {
   "cell_type": "code",
   "execution_count": 26,
   "metadata": {
    "ExecuteTime": {
     "end_time": "2020-08-02T09:00:24.388508Z",
     "start_time": "2020-08-02T09:00:24.381981Z"
    }
   },
   "outputs": [
    {
     "name": "stdout",
     "output_type": "stream",
     "text": [
      "2304729829232\n",
      "2304729829280\n"
     ]
    }
   ],
   "source": [
    "class Earth:\n",
    "    pass\n",
    "\n",
    "a = Earth()\n",
    "print(id(a))  # 260728291456\n",
    "b = Earth()\n",
    "print(id(b))  # 260728291624"
   ]
  },
  {
   "cell_type": "code",
   "execution_count": 48,
   "metadata": {
    "ExecuteTime": {
     "end_time": "2020-08-02T09:06:34.178660Z",
     "start_time": "2020-08-02T09:06:34.162604Z"
    }
   },
   "outputs": [
    {
     "name": "stdout",
     "output_type": "stream",
     "text": [
      "<__main__.Earth object at 0x000002189DDD2460>\n",
      "2304750986336\n",
      "else\n",
      "2304750986336\n"
     ]
    }
   ],
   "source": [
    "class Earth:\n",
    "    __instance = None  # 定义一个类属性做判断\n",
    "\n",
    "    def __new__(cls):\n",
    "        if cls.__instance is None:\n",
    "            cls.__instance = object.__new__(cls)\n",
    "            print(cls.__instance)\n",
    "            return cls.__instance\n",
    "        else:\n",
    "            print('else')\n",
    "            return cls.__instance\n",
    "        \n",
    "a = Earth()\n",
    "print(id(a))  # 512320401648\n",
    "b = Earth()\n",
    "print(id(b))  # 512320401648"
   ]
  },
  {
   "cell_type": "markdown",
   "metadata": {},
   "source": [
    "<b>`__del__(self)`</b>\n",
    "\n",
    "析构器，当一个对象将要被系统回收之时调用的方法。\n",
    "\n",
    "> Python 采用自动引用计数（ARC）方式来回收对象所占用的空间，当程序中有一个变量引用该 Python 对象时，Python 会自动保证该对象引用计数为 1；当程序中有两个变量引用该 Python 对象时，Python 会自动保证该对象引用计数为 2，依此类推，如果一个对象的引用计数变成了 0，则说明程序中不再有变量引用该对象，表明程序不再需要该对象，因此 Python 就会回收该对象。\n",
    ">\n",
    "> 大部分时候，Python 的 ARC 都能准确、高效地回收系统中的每个对象。但如果系统中出现循环引用的情况，比如对象 a 持有一个实例变量引用对象 b，而对象 b 又持有一个实例变量引用对象 a，此时两个对象的引用计数都是 1，而实际上程序已经不再有变量引用它们，系统应该回收它们，此时 Python 的垃圾回收器就可能没那么快，要等专门的循环垃圾回收器（Cyclic Garbage Collector）来检测并回收这种引用循环。"
   ]
  },
  {
   "cell_type": "code",
   "execution_count": 49,
   "metadata": {
    "ExecuteTime": {
     "end_time": "2020-08-02T09:23:17.218771Z",
     "start_time": "2020-08-02T09:23:17.206256Z"
    }
   },
   "outputs": [
    {
     "name": "stdout",
     "output_type": "stream",
     "text": [
      "into C __init__\n",
      "into C __del__\n"
     ]
    }
   ],
   "source": [
    "class C(object):\n",
    "    def __init__(self):\n",
    "        print('into C __init__')\n",
    "\n",
    "    def __del__(self):\n",
    "        print('into C __del__')\n",
    "\n",
    "\n",
    "c1 = C()\n",
    "# into C __init__\n",
    "c2 = c1\n",
    "c3 = c2\n",
    "del c3\n",
    "del c2\n",
    "del c1\n",
    "# into C __del__"
   ]
  },
  {
   "cell_type": "markdown",
   "metadata": {},
   "source": [
    "<b>`__str__` 和 `__repr__`</b>\n",
    "\n",
    "`__str__(self)`:\n",
    "\n",
    "- 当你打印一个对象的时候，触发`__str__`\n",
    "- 当你使用`%s`格式化的时候，触发`__str__`\n",
    "- `str`强转数据类型的时候，触发`__str__`\n",
    "\n",
    "`__repr__(self):`\n",
    "\n",
    "- `repr`是`str`的备胎\n",
    "- 有`__str__`的时候执行`__str__`,没有实现`__str__`的时候，执行`__repr__`\n",
    "- `repr(obj)`内置函数对应的结果是`__repr__`的返回值\n",
    "- 当你使用`%r`格式化的时候 触发`__repr__`\n",
    "\n",
    "【例子】"
   ]
  },
  {
   "cell_type": "code",
   "execution_count": 50,
   "metadata": {
    "ExecuteTime": {
     "end_time": "2020-08-02T09:23:38.151281Z",
     "start_time": "2020-08-02T09:23:38.130742Z"
    }
   },
   "outputs": [
    {
     "name": "stdout",
     "output_type": "stream",
     "text": [
      "名字是:汤姆 , 年龄是:30\n",
      "名字是:汤姆 , 年龄是:30\n",
      "Cat:(汤姆,30)\n",
      "汤姆在吃鱼....\n",
      "名字是:汤姆, 年龄是:30\n"
     ]
    }
   ],
   "source": [
    "class Cat:\n",
    "    \"\"\"定义一个猫类\"\"\"\n",
    "\n",
    "    def __init__(self, new_name, new_age):\n",
    "        \"\"\"在创建完对象之后 会自动调用, 它完成对象的初始化的功能\"\"\"\n",
    "        self.name = new_name\n",
    "        self.age = new_age\n",
    "\n",
    "    def __str__(self):\n",
    "        \"\"\"返回一个对象的描述信息\"\"\"\n",
    "        return \"名字是:%s , 年龄是:%d\" % (self.name, self.age)\n",
    "        \n",
    "    def __repr__(self):\n",
    "        \"\"\"返回一个对象的描述信息\"\"\"\n",
    "        return \"Cat:(%s,%d)\" % (self.name, self.age)\n",
    "\n",
    "    def eat(self):\n",
    "        print(\"%s在吃鱼....\" % self.name)\n",
    "\n",
    "    def drink(self):\n",
    "        print(\"%s在喝可乐...\" % self.name)\n",
    "\n",
    "    def introduce(self):\n",
    "        print(\"名字是:%s, 年龄是:%d\" % (self.name, self.age))\n",
    "\n",
    "\n",
    "# 创建了一个对象\n",
    "tom = Cat(\"汤姆\", 30)\n",
    "print(tom)  # 名字是:汤姆 , 年龄是:30\n",
    "print(str(tom)) # 名字是:汤姆 , 年龄是:30\n",
    "print(repr(tom))  # Cat:(汤姆,30)\n",
    "tom.eat()  # 汤姆在吃鱼....\n",
    "tom.introduce()  # 名字是:汤姆, 年龄是:30"
   ]
  },
  {
   "cell_type": "code",
   "execution_count": null,
   "metadata": {},
   "outputs": [],
   "source": []
  },
  {
   "cell_type": "markdown",
   "metadata": {},
   "source": [
    "## 练习题"
   ]
  },
  {
   "cell_type": "markdown",
   "metadata": {
    "ExecuteTime": {
     "end_time": "2020-08-02T09:29:02.592911Z",
     "start_time": "2020-08-02T09:29:02.582903Z"
    }
   },
   "source": [
    "2、利用python做一个简单的定时器类\n",
    "\n",
    "要求:\n",
    "\n",
    "- 定制一个计时器的类。\n",
    "- `start`和`stop`方法代表启动计时和停止计时。\n",
    "- 假设计时器对象`t1`，`print(t1)`和直接调用`t1`均显示结果。\n",
    "- 当计时器未启动或已经停止计时时，调用`stop`方法会给予温馨的提示。\n",
    "- 两个计时器对象可以进行相加：`t1+t2`。\n",
    "- 只能使用提供的有限资源完成。"
   ]
  },
  {
   "cell_type": "code",
   "execution_count": null,
   "metadata": {},
   "outputs": [],
   "source": [
    "import time\n",
    "\n",
    "\n",
    "class Mytime(object):\n",
    "    def __init__(self):\n",
    "        self.__info = '未开始计时！'\n",
    "        self.__begin = None\n",
    "        self.__end = None\n",
    "        self.__jg = 0\n",
    "\n",
    "    def __str__(self):\n",
    "        return self.__info\n",
    "\n",
    "    def __repr__(self):\n",
    "        return self.__info\n",
    "\n",
    "    def start(self):\n",
    "        print('计时开始...')\n",
    "        self.__begin = time.localtime()\n",
    "\n",
    "    def stop(self):\n",
    "        if not self.__begin:\n",
    "            print('提示：请先调用start()开始计时！')\n",
    "            return\n",
    "        self.__end = time.localtime()\n",
    "        self.__jg = time.mktime(self.__end) - time.mktime(self.__begin)\n",
    "        self.__info = '共运行了%d秒' % self.__jg\n",
    "        print('计时结束！')\n",
    "        return self.__jg\n",
    "\n",
    "    def __add__(self, other):\n",
    "        return '共运行了%d秒' % (other.__jg + self.__jg)\n",
    "\n",
    "\n",
    "t1 = Mytime()\n",
    "print(t1)\n",
    "# 未开始计时！\n",
    "t1.stop()\n",
    "# 提示：请先调用start()开始计时！\n",
    "t1.start()\n",
    "# 计时开始...\n",
    "time.sleep(5)\n",
    "t1.stop()\n",
    "# 计时结束！\n",
    "print(t1)\n",
    "# 共运行了5秒\n",
    "t2 = Mytime()\n",
    "t2.start()\n",
    "# 计时开始...\n",
    "time.sleep(7)\n",
    "t2.stop()\n",
    "# 计时结束！\n",
    "print(t2)\n",
    "# 共运行了7秒\n",
    "print(t1 + t2)\n",
    "# 共运行了12秒\n"
   ]
  }
 ],
 "metadata": {
  "kernelspec": {
   "display_name": "joyfulpd",
   "language": "python",
   "name": "joyfulpd"
  },
  "language_info": {
   "codemirror_mode": {
    "name": "ipython",
    "version": 3
   },
   "file_extension": ".py",
   "mimetype": "text/x-python",
   "name": "python",
   "nbconvert_exporter": "python",
   "pygments_lexer": "ipython3",
   "version": "3.8.3"
  },
  "toc": {
   "base_numbering": 1,
   "nav_menu": {},
   "number_sections": true,
   "sideBar": true,
   "skip_h1_title": false,
   "title_cell": "Table of Contents",
   "title_sidebar": "Contents",
   "toc_cell": false,
   "toc_position": {},
   "toc_section_display": true,
   "toc_window_display": false
  },
  "varInspector": {
   "cols": {
    "lenName": 16,
    "lenType": 16,
    "lenVar": 40
   },
   "kernels_config": {
    "python": {
     "delete_cmd_postfix": "",
     "delete_cmd_prefix": "del ",
     "library": "var_list.py",
     "varRefreshCmd": "print(var_dic_list())"
    },
    "r": {
     "delete_cmd_postfix": ") ",
     "delete_cmd_prefix": "rm(",
     "library": "var_list.r",
     "varRefreshCmd": "cat(var_dic_list()) "
    }
   },
   "types_to_exclude": [
    "module",
    "function",
    "builtin_function_or_method",
    "instance",
    "_Feature"
   ],
   "window_display": false
  }
 },
 "nbformat": 4,
 "nbformat_minor": 4
}
