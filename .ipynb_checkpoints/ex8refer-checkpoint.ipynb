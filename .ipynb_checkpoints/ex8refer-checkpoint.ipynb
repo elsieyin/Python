{
 "cells": [
  {
   "cell_type": "markdown",
   "metadata": {},
   "source": [
    "#### 假设你获取了用户输入的日期和时间如2020-1-21 9:01:30，  \n",
    "以及一个时区信息如UTC+5:00，均是str，请编写一个函数将其转换为timestamp："
   ]
  },
  {
   "cell_type": "code",
   "execution_count": 7,
   "metadata": {
    "ExecuteTime": {
     "end_time": "2020-08-03T08:00:45.718979Z",
     "start_time": "2020-08-03T08:00:45.707970Z"
    }
   },
   "outputs": [
    {
     "name": "stdout",
     "output_type": "stream",
     "text": [
      "1590973830.0\n",
      "1590973830.0\n"
     ]
    }
   ],
   "source": [
    "\"\"\"\n",
    "   \n",
    "Input file\n",
    "example1: dt_str='2020-6-1 08:10:30', tz_str='UTC+7:00'\n",
    "example2: dt_str='2020-5-31 16:10:30', tz_str='UTC-09:00'\n",
    "   \n",
    "Output file\n",
    "result1: 1590973830.0\n",
    "result2: 1590973830.0\n",
    "\"\"\"\n",
    "import re\n",
    "from datetime import datetime, timedelta, timezone\n",
    "from dateutil import parser,tz\n",
    "\n",
    "def to_timestamp(dt_str, tz_str):\n",
    "    # your code here\n",
    "    dt1 = parser.parse(dt_str)\n",
    "    utc_group = re.match(r'([UTC]+)([+-])(\\d+):(\\d)',tz_str)#字符串匹配，分组\n",
    "    i = int(utc_group.group(3))#时区数字\n",
    "    if utc_group.group(2) == '+':#时区正负号\n",
    "        tz_utc = timezone(timedelta(hours=i))\n",
    "    elif utc_group.group(2) == '-':\n",
    "        tz_utc = timezone(timedelta(hours=-i))\n",
    "    dt = dt1.replace(tzinfo=tz_utc)#给tzinfo属性赋值\n",
    "    return dt.timestamp()\n",
    "dt_str='2020-6-1 08:10:30'\n",
    "tz_str='UTC+7:00'\n",
    "print(to_timestamp(dt_str, tz_str))\n",
    "dt_str='2020-5-31 16:10:30'\n",
    "tz_str='UTC-09:00'\n",
    "print(to_timestamp(dt_str, tz_str))\n",
    "# 1590973830.0\n",
    "# 1590973830.0\n"
   ]
  },
  {
   "cell_type": "markdown",
   "metadata": {},
   "source": [
    "#### 编写Python程序以选择指定年份的所有星期日。"
   ]
  },
  {
   "cell_type": "code",
   "execution_count": 8,
   "metadata": {
    "ExecuteTime": {
     "end_time": "2020-08-03T08:00:47.654633Z",
     "start_time": "2020-08-03T08:00:47.630067Z"
    }
   },
   "outputs": [
    {
     "name": "stdout",
     "output_type": "stream",
     "text": [
      "['2020-01-05', '2020-01-12', '2020-01-19', '2020-01-26', '2020-02-02', '2020-02-09', '2020-02-16', '2020-02-23', '2020-03-01', '2020-03-08', '2020-03-15', '2020-03-22', '2020-03-29', '2020-04-05', '2020-04-12', '2020-04-19', '2020-04-26', '2020-05-03', '2020-05-10', '2020-05-17', '2020-05-24', '2020-05-31', '2020-06-07', '2020-06-14', '2020-06-21', '2020-06-28', '2020-07-05', '2020-07-12', '2020-07-19', '2020-07-26', '2020-08-02', '2020-08-09', '2020-08-16', '2020-08-23', '2020-08-30', '2020-09-06', '2020-09-13', '2020-09-20', '2020-09-27', '2020-10-04', '2020-10-11', '2020-10-18', '2020-10-25', '2020-11-01', '2020-11-08', '2020-11-15', '2020-11-22', '2020-11-29', '2020-12-06', '2020-12-13', '2020-12-20', '2020-12-27']\n"
     ]
    },
    {
     "data": {
      "text/plain": [
       "\"\\n['2020-01-05', '2020-01-12', '2020-01-19', '2020-01-26', '2020-02-02', '2020-02-09', '2020-02-16', '2020-02-23', \\n '2020-03-01', '2020-03-08', '2020-03-15', '2020-03-22', '2020-03-29', '2020-04-05', '2020-04-12', '2020-04-19',\\n '2020-04-26', '2020-05-03', '2020-05-10', '2020-05-17', '2020-05-24', '2020-05-31', '2020-06-07', '2020-06-14', \\n '2020-06-21', '2020-06-28', '2020-07-05', '2020-07-12', '2020-07-19', '2020-07-26', '2020-08-02', '2020-08-09', \\n '2020-08-16', '2020-08-23', '2020-08-30', '2020-09-06', '2020-09-13', '2020-09-20', '2020-09-27', '2020-10-04', \\n '2020-10-11', '2020-10-18', '2020-10-25', '2020-11-01', '2020-11-08', '2020-11-15', '2020-11-22', '2020-11-29', \\n '2020-12-06', '2020-12-13', '2020-12-20', '2020-12-27']\\n \""
      ]
     },
     "execution_count": 8,
     "metadata": {},
     "output_type": "execute_result"
    }
   ],
   "source": [
    "\"\"\"\n",
    "   \n",
    "Input file\n",
    "   2020\n",
    "   \n",
    "Output file\n",
    "   2020-01-05                         \n",
    "   2020-01-12              \n",
    "   2020-01-19                \n",
    "   2020-01-26               \n",
    "   2020-02-02     \n",
    "   -----\n",
    "   2020-12-06               \n",
    "   2020-12-13                \n",
    "   2020-12-20                \n",
    "   2020-12-27 \n",
    "\"\"\"\n",
    "from datetime import datetime, date   \n",
    "def all_sundays(year):\n",
    "    ret = []\n",
    "    # your code here\n",
    "    startday = date(year,1,1)\n",
    "    endday = date(year,12,31)\n",
    "    d = startday\n",
    "    while(d != endday ):\n",
    "        if d.isoweekday() == 7:\n",
    "            sd = datetime(year,d.month,d.day,hour=0,minute=0, second=0)\n",
    "            sd = sd.strftime(\"%Y-%m-%d\")\n",
    "            ret.append(sd)\n",
    "        d = d + timedelta(days=1)\n",
    "        \n",
    "    return ret\n",
    "print(all_sundays(2020))\n",
    "'''\n",
    "['2020-01-05', '2020-01-12', '2020-01-19', '2020-01-26', '2020-02-02', '2020-02-09', '2020-02-16', '2020-02-23', \n",
    " '2020-03-01', '2020-03-08', '2020-03-15', '2020-03-22', '2020-03-29', '2020-04-05', '2020-04-12', '2020-04-19',\n",
    " '2020-04-26', '2020-05-03', '2020-05-10', '2020-05-17', '2020-05-24', '2020-05-31', '2020-06-07', '2020-06-14', \n",
    " '2020-06-21', '2020-06-28', '2020-07-05', '2020-07-12', '2020-07-19', '2020-07-26', '2020-08-02', '2020-08-09', \n",
    " '2020-08-16', '2020-08-23', '2020-08-30', '2020-09-06', '2020-09-13', '2020-09-20', '2020-09-27', '2020-10-04', \n",
    " '2020-10-11', '2020-10-18', '2020-10-25', '2020-11-01', '2020-11-08', '2020-11-15', '2020-11-22', '2020-11-29', \n",
    " '2020-12-06', '2020-12-13', '2020-12-20', '2020-12-27']\n",
    " '''\n"
   ]
  },
  {
   "cell_type": "code",
   "execution_count": null,
   "metadata": {},
   "outputs": [],
   "source": []
  }
 ],
 "metadata": {
  "kernelspec": {
   "display_name": "joyfulpd",
   "language": "python",
   "name": "joyfulpd"
  },
  "language_info": {
   "codemirror_mode": {
    "name": "ipython",
    "version": 3
   },
   "file_extension": ".py",
   "mimetype": "text/x-python",
   "name": "python",
   "nbconvert_exporter": "python",
   "pygments_lexer": "ipython3",
   "version": "3.8.3"
  },
  "toc": {
   "base_numbering": 1,
   "nav_menu": {},
   "number_sections": true,
   "sideBar": true,
   "skip_h1_title": false,
   "title_cell": "Table of Contents",
   "title_sidebar": "Contents",
   "toc_cell": false,
   "toc_position": {},
   "toc_section_display": true,
   "toc_window_display": false
  },
  "varInspector": {
   "cols": {
    "lenName": 16,
    "lenType": 16,
    "lenVar": 40
   },
   "kernels_config": {
    "python": {
     "delete_cmd_postfix": "",
     "delete_cmd_prefix": "del ",
     "library": "var_list.py",
     "varRefreshCmd": "print(var_dic_list())"
    },
    "r": {
     "delete_cmd_postfix": ") ",
     "delete_cmd_prefix": "rm(",
     "library": "var_list.r",
     "varRefreshCmd": "cat(var_dic_list()) "
    }
   },
   "types_to_exclude": [
    "module",
    "function",
    "builtin_function_or_method",
    "instance",
    "_Feature"
   ],
   "window_display": false
  }
 },
 "nbformat": 4,
 "nbformat_minor": 4
}
