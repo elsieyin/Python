{
 "cells": [
  {
   "cell_type": "code",
   "execution_count": 1,
   "metadata": {},
   "outputs": [
    {
     "name": "stdout",
     "output_type": "stream",
     "text": [
      "xxx (123, 456) {'name': 'sz'}\n"
     ]
    }
   ],
   "source": [
    "class Person:\n",
    "    def __call__(self, *args, **kwargs):\n",
    "        print(\"xxx\", args, kwargs)\n",
    "\n",
    "p = Person()\n",
    "\n",
    "p(123, 456, name = \"sz\")"
   ]
  },
  {
   "cell_type": "markdown",
   "metadata": {},
   "source": [
    "这样写代码重复度高:"
   ]
  },
  {
   "cell_type": "code",
   "execution_count": 3,
   "metadata": {},
   "outputs": [
    {
     "name": "stdout",
     "output_type": "stream",
     "text": [
      "创建了一个钢笔这个类型的画笔，它是红色的颜色\n",
      "创建了一个钢笔这个类型的画笔，它是绿色的颜色\n",
      "创建了一个钢笔这个类型的画笔，它是黄色的颜色\n",
      "创建了一个钢笔这个类型的画笔，它是兰色的颜色\n"
     ]
    }
   ],
   "source": [
    "# 创建很多个画笔，画笔的类型（钢笔，铅笔），画笔的颜色（红色，黄色，兰色，绿色）\n",
    "\n",
    "print(\"创建了一个%s这个类型的画笔，它是%s的颜色\" % (\"钢笔\",\"红色\"))\n",
    "print(\"创建了一个%s这个类型的画笔，它是%s的颜色\" % (\"钢笔\",\"绿色\"))\n",
    "print(\"创建了一个%s这个类型的画笔，它是%s的颜色\" % (\"钢笔\",\"黄色\"))\n",
    "print(\"创建了一个%s这个类型的画笔，它是%s的颜色\" % (\"钢笔\",\"兰色\"))"
   ]
  },
  {
   "cell_type": "code",
   "execution_count": 4,
   "metadata": {},
   "outputs": [
    {
     "name": "stdout",
     "output_type": "stream",
     "text": [
      "创建了一个钢笔这个类型的画笔，它是红色的颜色\n",
      "创建了一个钢笔这个类型的画笔，它是黄色的颜色\n",
      "创建了一个钢笔这个类型的画笔，它是兰色的颜色\n"
     ]
    }
   ],
   "source": [
    "def createPen(ptype, pcolor):\n",
    "    print(\"创建了一个%s这个类型的画笔，它是%s的颜色\" % (ptype, pcolor))\n",
    "\n",
    "createPen(\"钢笔\",\"红色\")\n",
    "createPen(\"钢笔\",\"黄色\")\n",
    "createPen(\"钢笔\",\"兰色\")"
   ]
  },
  {
   "cell_type": "markdown",
   "metadata": {},
   "source": [
    "#### 使用偏函数"
   ]
  },
  {
   "cell_type": "code",
   "execution_count": 5,
   "metadata": {},
   "outputs": [
    {
     "ename": "TypeError",
     "evalue": "createPen() got multiple values for argument 'ptype'",
     "output_type": "error",
     "traceback": [
      "\u001b[1;31m---------------------------------------------------------------------------\u001b[0m",
      "\u001b[1;31mTypeError\u001b[0m                                 Traceback (most recent call last)",
      "\u001b[1;32m<ipython-input-5-e59aa1dd6a92>\u001b[0m in \u001b[0;36m<module>\u001b[1;34m\u001b[0m\n\u001b[0;32m      3\u001b[0m \u001b[0mgangbiFunc\u001b[0m \u001b[1;33m=\u001b[0m \u001b[0mfunctools\u001b[0m\u001b[1;33m.\u001b[0m\u001b[0mpartial\u001b[0m\u001b[1;33m(\u001b[0m\u001b[0mcreatePen\u001b[0m\u001b[1;33m,\u001b[0m \u001b[0mptype\u001b[0m \u001b[1;33m=\u001b[0m \u001b[1;34m\"钢笔\"\u001b[0m\u001b[1;33m)\u001b[0m\u001b[1;33m\u001b[0m\u001b[1;33m\u001b[0m\u001b[0m\n\u001b[0;32m      4\u001b[0m \u001b[1;33m\u001b[0m\u001b[0m\n\u001b[1;32m----> 5\u001b[1;33m \u001b[0mgangbiFunc\u001b[0m\u001b[1;33m(\u001b[0m\u001b[1;34m\"红色\"\u001b[0m\u001b[1;33m)\u001b[0m\u001b[1;33m\u001b[0m\u001b[1;33m\u001b[0m\u001b[0m\n\u001b[0m\u001b[0;32m      6\u001b[0m \u001b[0mgangbiFunc\u001b[0m\u001b[1;33m(\u001b[0m\u001b[1;34m\"黄色\"\u001b[0m\u001b[1;33m)\u001b[0m\u001b[1;33m\u001b[0m\u001b[1;33m\u001b[0m\u001b[0m\n\u001b[0;32m      7\u001b[0m \u001b[0mgangbiFunc\u001b[0m\u001b[1;33m(\u001b[0m\u001b[1;34m\"绿色\"\u001b[0m\u001b[1;33m)\u001b[0m\u001b[1;33m\u001b[0m\u001b[1;33m\u001b[0m\u001b[0m\n",
      "\u001b[1;31mTypeError\u001b[0m: createPen() got multiple values for argument 'ptype'"
     ]
    }
   ],
   "source": [
    "import functools\n",
    "\n",
    "gangbiFunc = functools.partial(createPen, ptype = \"钢笔\")\n",
    "\n",
    "gangbiFunc(\"红色\")\n",
    "gangbiFunc(\"黄色\")\n",
    "gangbiFunc(\"绿色\")"
   ]
  },
  {
   "cell_type": "code",
   "execution_count": 6,
   "metadata": {},
   "outputs": [
    {
     "name": "stdout",
     "output_type": "stream",
     "text": [
      "创建了一个钢笔这个类型的画笔，它是红色的颜色\n"
     ]
    }
   ],
   "source": [
    "gangbiFunc(pcolor = \"红色\")     # 方法1: 指明参数"
   ]
  },
  {
   "cell_type": "code",
   "execution_count": 9,
   "metadata": {},
   "outputs": [
    {
     "name": "stdout",
     "output_type": "stream",
     "text": [
      "创建了一个钢笔这个类型的画笔，它是黄色的颜色\n",
      "创建了一个钢笔这个类型的画笔，它是绿色的颜色\n"
     ]
    }
   ],
   "source": [
    "def createPen(pcolor, ptype):   # 方法2: 这里改参数顺序\n",
    "    print(\"创建了一个%s这个类型的画笔，它是%s的颜色\" % (ptype, pcolor))\n",
    "\n",
    "import functools\n",
    "\n",
    "gangbiFunc = functools.partial(createPen, ptype = \"钢笔\")\n",
    "\n",
    "gangbiFunc(\"黄色\")\n",
    "gangbiFunc(\"绿色\")"
   ]
  },
  {
   "cell_type": "markdown",
   "metadata": {},
   "source": [
    "#### --call--方法"
   ]
  },
  {
   "cell_type": "code",
   "execution_count": 11,
   "metadata": {},
   "outputs": [
    {
     "name": "stdout",
     "output_type": "stream",
     "text": [
      "创建了一个钢笔这个类型的画笔，它是红色的颜色\n",
      "创建了一个钢笔这个类型的画笔，它是黄色的颜色\n",
      "创建了一个钢笔这个类型的画笔，它是兰色的颜色\n"
     ]
    }
   ],
   "source": [
    "class PenFactory:\n",
    "\n",
    "    def __init__(self, ptype):\n",
    "        self.ptype = ptype\n",
    "\n",
    "    def __call__(self, pcolor):\n",
    "        print(\"创建了一个%s这个类型的画笔，它是%s的颜色\" % (self.ptype, pcolor))\n",
    "        \n",
    "gangbiF = PenFactory(\"钢笔\")\n",
    "gangbiF(\"红色\")\n",
    "gangbiF(\"黄色\")\n",
    "gangbiF(\"兰色\")"
   ]
  },
  {
   "cell_type": "code",
   "execution_count": 12,
   "metadata": {},
   "outputs": [
    {
     "name": "stdout",
     "output_type": "stream",
     "text": [
      "创建了一个铅笔这个类型的画笔，它是红色的颜色\n",
      "创建了一个铅笔这个类型的画笔，它是黄色的颜色\n",
      "创建了一个铅笔这个类型的画笔，它是兰色的颜色\n"
     ]
    }
   ],
   "source": [
    "qianbiF = PenFactory(\"铅笔\")\n",
    "qianbiF(\"红色\")\n",
    "qianbiF(\"黄色\")\n",
    "qianbiF(\"兰色\")"
   ]
  },
  {
   "cell_type": "code",
   "execution_count": null,
   "metadata": {},
   "outputs": [],
   "source": []
  }
 ],
 "metadata": {
  "kernelspec": {
   "display_name": "joyfulpd",
   "language": "python",
   "name": "joyfulpd"
  },
  "language_info": {
   "codemirror_mode": {
    "name": "ipython",
    "version": 3
   },
   "file_extension": ".py",
   "mimetype": "text/x-python",
   "name": "python",
   "nbconvert_exporter": "python",
   "pygments_lexer": "ipython3",
   "version": "3.8.3"
  },
  "toc": {
   "base_numbering": 1,
   "nav_menu": {},
   "number_sections": true,
   "sideBar": true,
   "skip_h1_title": false,
   "title_cell": "Table of Contents",
   "title_sidebar": "Contents",
   "toc_cell": false,
   "toc_position": {},
   "toc_section_display": true,
   "toc_window_display": false
  },
  "varInspector": {
   "cols": {
    "lenName": 16,
    "lenType": 16,
    "lenVar": 40
   },
   "kernels_config": {
    "python": {
     "delete_cmd_postfix": "",
     "delete_cmd_prefix": "del ",
     "library": "var_list.py",
     "varRefreshCmd": "print(var_dic_list())"
    },
    "r": {
     "delete_cmd_postfix": ") ",
     "delete_cmd_prefix": "rm(",
     "library": "var_list.r",
     "varRefreshCmd": "cat(var_dic_list()) "
    }
   },
   "types_to_exclude": [
    "module",
    "function",
    "builtin_function_or_method",
    "instance",
    "_Feature"
   ],
   "window_display": false
  }
 },
 "nbformat": 4,
 "nbformat_minor": 4
}
