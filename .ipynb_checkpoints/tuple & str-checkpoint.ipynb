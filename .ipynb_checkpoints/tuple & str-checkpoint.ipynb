{
 "cells": [
  {
   "cell_type": "markdown",
   "metadata": {},
   "source": [
    "### Tuple"
   ]
  },
  {
   "cell_type": "markdown",
   "metadata": {},
   "source": [
    "1、元组概念\n",
    "\n",
    "写出下面代码的执行结果和最终结果的类型\n",
    "\n",
    "```python\n",
    "(1, 2)*2\n",
    "(1, )*2\n",
    "(1)*2\n",
    "```\n",
    "\n",
    "分析为什么会出现这样的结果."
   ]
  },
  {
   "cell_type": "code",
   "execution_count": 1,
   "metadata": {
    "ExecuteTime": {
     "end_time": "2020-07-28T00:49:50.344055Z",
     "start_time": "2020-07-28T00:49:50.334954Z"
    }
   },
   "outputs": [
    {
     "data": {
      "text/plain": [
       "(1, 2, 1, 2)"
      ]
     },
     "execution_count": 1,
     "metadata": {},
     "output_type": "execute_result"
    }
   ],
   "source": [
    "(1, 2)*2"
   ]
  },
  {
   "cell_type": "code",
   "execution_count": 2,
   "metadata": {
    "ExecuteTime": {
     "end_time": "2020-07-28T00:50:00.037204Z",
     "start_time": "2020-07-28T00:50:00.019683Z"
    }
   },
   "outputs": [
    {
     "data": {
      "text/plain": [
       "(1, 1)"
      ]
     },
     "execution_count": 2,
     "metadata": {},
     "output_type": "execute_result"
    }
   ],
   "source": [
    "(1, )*2"
   ]
  },
  {
   "cell_type": "code",
   "execution_count": 3,
   "metadata": {
    "ExecuteTime": {
     "end_time": "2020-07-28T00:50:08.944165Z",
     "start_time": "2020-07-28T00:50:08.930781Z"
    }
   },
   "outputs": [
    {
     "data": {
      "text/plain": [
       "2"
      ]
     },
     "execution_count": 3,
     "metadata": {},
     "output_type": "execute_result"
    }
   ],
   "source": [
    "(1)*2  # 看作int 1"
   ]
  },
  {
   "cell_type": "markdown",
   "metadata": {
    "ExecuteTime": {
     "end_time": "2020-07-28T00:50:19.264498Z",
     "start_time": "2020-07-28T00:50:19.251981Z"
    }
   },
   "source": [
    "2、拆包过程是什么？\n",
    "\n",
    "```python\n",
    "a, b = 1, 2\n",
    "```\n",
    "\n",
    "上述过程属于拆包吗？\n",
    "\n",
    "可迭代对象拆包时，怎么赋值给占位符？"
   ]
  },
  {
   "cell_type": "code",
   "execution_count": 8,
   "metadata": {
    "ExecuteTime": {
     "end_time": "2020-07-28T00:50:47.500582Z",
     "start_time": "2020-07-28T00:50:47.491576Z"
    }
   },
   "outputs": [
    {
     "name": "stdout",
     "output_type": "stream",
     "text": [
      "1 2\n"
     ]
    }
   ],
   "source": [
    "a, b = 1, 2\n",
    "print(a, b)"
   ]
  },
  {
   "cell_type": "markdown",
   "metadata": {},
   "source": [
    "### Str"
   ]
  },
  {
   "cell_type": "markdown",
   "metadata": {},
   "source": [
    "**练习题**：\n",
    "\n",
    "1、字符串函数回顾\n",
    "\n",
    "- 怎么批量替换字符串中的元素？\n",
    "- 怎么把字符串按照空格进⾏拆分？\n",
    "- 怎么去除字符串⾸位的空格？"
   ]
  },
  {
   "cell_type": "code",
   "execution_count": 15,
   "metadata": {
    "ExecuteTime": {
     "end_time": "2020-07-28T00:59:23.755334Z",
     "start_time": "2020-07-28T00:59:23.747824Z"
    }
   },
   "outputs": [],
   "source": [
    "a = \"  I is so tired of studying\""
   ]
  },
  {
   "cell_type": "code",
   "execution_count": 16,
   "metadata": {
    "ExecuteTime": {
     "end_time": "2020-07-28T00:59:25.114641Z",
     "start_time": "2020-07-28T00:59:25.104127Z"
    }
   },
   "outputs": [
    {
     "data": {
      "text/plain": [
       "'  I am so tired of studying'"
      ]
     },
     "execution_count": 16,
     "metadata": {},
     "output_type": "execute_result"
    }
   ],
   "source": [
    "a = a.replace('is','am')\n",
    "a"
   ]
  },
  {
   "cell_type": "code",
   "execution_count": 20,
   "metadata": {
    "ExecuteTime": {
     "end_time": "2020-07-28T00:59:43.286274Z",
     "start_time": "2020-07-28T00:59:43.281759Z"
    }
   },
   "outputs": [],
   "source": [
    "a = a.lstrip()"
   ]
  },
  {
   "cell_type": "code",
   "execution_count": 21,
   "metadata": {
    "ExecuteTime": {
     "end_time": "2020-07-28T00:59:44.786726Z",
     "start_time": "2020-07-28T00:59:44.778719Z"
    }
   },
   "outputs": [
    {
     "data": {
      "text/plain": [
       "['I', 'am', 'so', 'tired', 'of', 'studying']"
      ]
     },
     "execution_count": 21,
     "metadata": {},
     "output_type": "execute_result"
    }
   ],
   "source": [
    "lst1 = list(a.split(\" \"))\n",
    "lst1"
   ]
  },
  {
   "cell_type": "markdown",
   "metadata": {},
   "source": [
    "2、实现isdigit函数\n",
    "\n",
    "题目要求\n",
    "\n",
    "实现函数isdigit， 判断字符串里是否只包含数字0~9\n",
    "\n",
    "```python\n",
    "def isdigit(string):\n",
    "    \"\"\"\n",
    "    判断字符串只包含数字\n",
    "    :param string:\n",
    "    :return:\n",
    "    \"\"\"\n",
    "    # your code here\n",
    "    pass\n",
    "```"
   ]
  },
  {
   "cell_type": "code",
   "execution_count": 28,
   "metadata": {
    "ExecuteTime": {
     "end_time": "2020-07-28T02:05:05.149497Z",
     "start_time": "2020-07-28T02:05:05.133979Z"
    }
   },
   "outputs": [],
   "source": [
    "def isdigit(string):\n",
    "    \"\"\"\n",
    "    判断字符串只包含数字\n",
    "    :param string:\n",
    "    :return:\n",
    "    \"\"\"\n",
    "    string = string.strip()\n",
    "    return string.isdigit()"
   ]
  },
  {
   "cell_type": "code",
   "execution_count": 29,
   "metadata": {
    "ExecuteTime": {
     "end_time": "2020-07-28T02:05:06.638733Z",
     "start_time": "2020-07-28T02:05:06.627723Z"
    }
   },
   "outputs": [
    {
     "data": {
      "text/plain": [
       "True"
      ]
     },
     "execution_count": 29,
     "metadata": {},
     "output_type": "execute_result"
    }
   ],
   "source": [
    "isdigit(\"5\" )"
   ]
  },
  {
   "cell_type": "markdown",
   "metadata": {},
   "source": [
    "3、leetcode 5题 最长回文子串\n",
    "\n",
    "给定一个字符串 `s`，找到 `s` 中最长的回文子串。你可以假设 `s` 的最大长度为 1000。\n",
    "\n",
    "示例:\n",
    "\n",
    "输入: \"babad\"\n",
    "\n",
    "输出: \"bab\"\n",
    "\n",
    "输入: \"cbbd\"\n",
    "\n",
    "输出: \"bb\"\n",
    "\n",
    "```python\n",
    "class Solution:\n",
    "   def longestPalindrome(self, s: str) -> str:\n",
    "          \n",
    "    # your code here\n",
    "```"
   ]
  },
  {
   "cell_type": "code",
   "execution_count": 30,
   "metadata": {
    "ExecuteTime": {
     "end_time": "2020-07-28T02:08:09.759322Z",
     "start_time": "2020-07-28T02:08:09.747641Z"
    }
   },
   "outputs": [],
   "source": [
    "class Solution:\n",
    "    def expand(self, s, left, right):\n",
    "        while left >= 0 and right < len(s) and s[left] == s[right]:\n",
    "            left -= 1\n",
    "            right += 1\n",
    "        return (right - left - 2) // 2\n",
    "\n",
    "    def longestPalindrome(self, s: str) -> str:\n",
    "        end, start = -1, 0\n",
    "        s = '#' + '#'.join(list(s)) + '#'\n",
    "        arm_len = []\n",
    "        right = -1\n",
    "        j = -1\n",
    "        for i in range(len(s)):\n",
    "            if right >= i:\n",
    "                i_sym = 2 * j - i\n",
    "                min_arm_len = min(arm_len[i_sym], right - i)\n",
    "                cur_arm_len = self.expand(s, i - min_arm_len, i + min_arm_len)\n",
    "            else:\n",
    "                cur_arm_len = self.expand(s, i, i)\n",
    "            arm_len.append(cur_arm_len)\n",
    "            if i + cur_arm_len > right:\n",
    "                j = i\n",
    "                right = i + cur_arm_len\n",
    "            if 2 * cur_arm_len + 1 > end - start:\n",
    "                start = i - cur_arm_len\n",
    "                end = i + cur_arm_len\n",
    "        return s[start+1:end+1:2]"
   ]
  },
  {
   "cell_type": "code",
   "execution_count": null,
   "metadata": {},
   "outputs": [],
   "source": []
  }
 ],
 "metadata": {
  "kernelspec": {
   "display_name": "joyfulpd",
   "language": "python",
   "name": "joyfulpd"
  },
  "language_info": {
   "codemirror_mode": {
    "name": "ipython",
    "version": 3
   },
   "file_extension": ".py",
   "mimetype": "text/x-python",
   "name": "python",
   "nbconvert_exporter": "python",
   "pygments_lexer": "ipython3",
   "version": "3.8.3"
  },
  "toc": {
   "base_numbering": 1,
   "nav_menu": {},
   "number_sections": true,
   "sideBar": true,
   "skip_h1_title": false,
   "title_cell": "Table of Contents",
   "title_sidebar": "Contents",
   "toc_cell": false,
   "toc_position": {},
   "toc_section_display": true,
   "toc_window_display": false
  },
  "varInspector": {
   "cols": {
    "lenName": 16,
    "lenType": 16,
    "lenVar": 40
   },
   "kernels_config": {
    "python": {
     "delete_cmd_postfix": "",
     "delete_cmd_prefix": "del ",
     "library": "var_list.py",
     "varRefreshCmd": "print(var_dic_list())"
    },
    "r": {
     "delete_cmd_postfix": ") ",
     "delete_cmd_prefix": "rm(",
     "library": "var_list.r",
     "varRefreshCmd": "cat(var_dic_list()) "
    }
   },
   "types_to_exclude": [
    "module",
    "function",
    "builtin_function_or_method",
    "instance",
    "_Feature"
   ],
   "window_display": false
  }
 },
 "nbformat": 4,
 "nbformat_minor": 4
}
