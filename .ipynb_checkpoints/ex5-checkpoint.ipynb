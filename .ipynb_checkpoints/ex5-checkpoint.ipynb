{
 "cells": [
  {
   "cell_type": "markdown",
   "metadata": {},
   "source": [
    "有一个字典data，保存的是学生各个编程语言的成绩。  \n",
    "各门课程的考试成绩存储方式并不相同，有的用字典，有的用列表，但分数都是字符串，  \n",
    "请实现函数`transfer_score(score_dict)`，将分数修改成int类型。  \n",
    "思路为：遍历字典，只是在遍历时，要根据value的类型决定如何进行处理，  \n",
    "如果value的类型是字典，则仍然按照上一篇的方法进行处理，  \n",
    "如果value的类型是列表，则需要对列表里的元素类型进行判断，  \n",
    "如果是字符串，则直接转换，如果是字典，则需要按照上一篇的方法进行处理，递归处理。"
   ]
  },
  {
   "cell_type": "code",
   "execution_count": null,
   "metadata": {
    "ExecuteTime": {
     "end_time": "2020-08-03T02:43:40.872467Z",
     "start_time": "2020-08-03T02:43:40.854451Z"
    }
   },
   "outputs": [],
   "source": [
    "import pprint\n",
    "\n",
    "def transfer_score(data):\n",
    "    # 如果data是字典\n",
    "    if isinstance(data, dict):\n",
    "        for key, value in data.items():\n",
    "            data[key] = transfer_score(value)\n",
    "        return data\n",
    "    \n",
    "    # 如果data 是列表\n",
    "    if isinstance(data, list):\n",
    "        data_lst = []\n",
    "        for item in data:\n",
    "            data_lst.append(transfer_score(item))\n",
    "        return data_lst\n",
    "    \n",
    "    if isinstance(data, str):\n",
    "        return int(data)\n",
    "\n",
    "if __name__ == '__main__':\n",
    "    data = {\n",
    "        'python': {'上学期': '90', '下学期': '95'},\n",
    "        'c++': ['95', '96', '97'],\n",
    "        'java': [{'月考': '90', '期中考试': '94', '期末考试': '98'}]\n",
    "    }\n",
    "\n",
    "    data = transfer_score(data)\n",
    "    pprint.pprint(data)"
   ]
  },
  {
   "cell_type": "markdown",
   "metadata": {},
   "source": [
    "5. 求{'A', 'B', 'C'}中元素在 {'B', 'C', 'D'}中出现的次数。"
   ]
  },
  {
   "cell_type": "code",
   "execution_count": null,
   "metadata": {
    "ExecuteTime": {
     "end_time": "2020-08-03T02:36:14.719774Z",
     "start_time": "2020-08-03T02:36:14.702237Z"
    }
   },
   "outputs": [],
   "source": [
    "# 基础解法：\n",
    "m = {'A', 'B', 'C'}\n",
    "n = {'B', 'C', 'D'}\n",
    "found = 0\n",
    "for i in m:\n",
    "    if i in n:\n",
    "        found += 1\n",
    "print(found) ## 2\n",
    "# ⾼级解法：\n",
    "m = {'A', 'B', 'C'}\n",
    "n = {'B', 'C', 'D'}\n",
    "len(m & n) ## 2"
   ]
  }
 ],
 "metadata": {
  "kernelspec": {
   "display_name": "joyfulpd",
   "language": "python",
   "name": "joyfulpd"
  },
  "language_info": {
   "codemirror_mode": {
    "name": "ipython",
    "version": 3
   },
   "file_extension": ".py",
   "mimetype": "text/x-python",
   "name": "python",
   "nbconvert_exporter": "python",
   "pygments_lexer": "ipython3",
   "version": "3.8.3"
  },
  "toc": {
   "base_numbering": 1,
   "nav_menu": {},
   "number_sections": true,
   "sideBar": true,
   "skip_h1_title": false,
   "title_cell": "Table of Contents",
   "title_sidebar": "Contents",
   "toc_cell": false,
   "toc_position": {},
   "toc_section_display": true,
   "toc_window_display": false
  },
  "varInspector": {
   "cols": {
    "lenName": 16,
    "lenType": 16,
    "lenVar": 40
   },
   "kernels_config": {
    "python": {
     "delete_cmd_postfix": "",
     "delete_cmd_prefix": "del ",
     "library": "var_list.py",
     "varRefreshCmd": "print(var_dic_list())"
    },
    "r": {
     "delete_cmd_postfix": ") ",
     "delete_cmd_prefix": "rm(",
     "library": "var_list.r",
     "varRefreshCmd": "cat(var_dic_list()) "
    }
   },
   "types_to_exclude": [
    "module",
    "function",
    "builtin_function_or_method",
    "instance",
    "_Feature"
   ],
   "window_display": false
  }
 },
 "nbformat": 4,
 "nbformat_minor": 4
}
