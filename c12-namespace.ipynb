{
 "cells": [
  {
   "cell_type": "markdown",
   "metadata": {},
   "source": [
    "原文地址：https://www.yuque.com/mayite/python/12"
   ]
  },
  {
   "cell_type": "markdown",
   "metadata": {},
   "source": [
    "### 类的实例化"
   ]
  },
  {
   "cell_type": "markdown",
   "metadata": {},
   "source": [
    "调用类 ====>产生类的对象，该对象也可以成为类的一个实例，调用类的过程也称为类的实例化"
   ]
  },
  {
   "cell_type": "code",
   "execution_count": 1,
   "metadata": {},
   "outputs": [],
   "source": [
    "class DeepshareStudent:\n",
    "    school = 'deepshare'\n",
    "    def __init__(self,name,age,gender):\n",
    "        self.name = name\n",
    "        self.age = age\n",
    "        self.gender = gender\n",
    "    def learn(self):\n",
    "        print('%s is learning' % self)\n",
    "    def eat(self):\n",
    "        print('is eating')\n",
    "    def sleep(self):\n",
    "        print('is sleeping')\n",
    "stu1 = DeepshareStudent('王二小',18,'male')"
   ]
  },
  {
   "cell_type": "markdown",
   "metadata": {},
   "source": [
    "最后一行代码就是类的实例化，那么这行代码做了哪些事，我们再来回顾下\n",
    "1. 先造一个空对象obj，和所有对象都一样\n",
    "2. 连同这个对象和三个参数一块传递给init函数，\n",
    "3. 执行DeepshareStudent.__init__(obj,'王二小',18,'male')"
   ]
  },
  {
   "cell_type": "markdown",
   "metadata": {},
   "source": [
    "### 名称空间"
   ]
  },
  {
   "cell_type": "markdown",
   "metadata": {},
   "source": [
    "在定义类的阶段产生类的名称空间，那么什么时候产生对象的名称空间呢？  \n",
    "你要先告诉我什么时候产生对象，只有在调用类的时候才会产生对象，  \n",
    "这个时候就会产生出对象的名称空间，有了名称空间就是把对象存好了，但是存不是目的，我们目的是取"
   ]
  },
  {
   "cell_type": "code",
   "execution_count": 11,
   "metadata": {},
   "outputs": [
    {
     "name": "stdout",
     "output_type": "stream",
     "text": [
      "{'name': '王二小', 'age': 18, 'gender': 'male'}\n"
     ]
    }
   ],
   "source": [
    "class DeepshareStudent:\n",
    "    school = 'deepshare'\n",
    "    name = 'aaaaaaaaaa'\n",
    "    def __init__(self,name,age,gender):\n",
    "        self.name = name\n",
    "        self.age = age\n",
    "        self.gender = gender\n",
    "    def learn(self):\n",
    "        print('%s is learning' % self)\n",
    "    def eat(self):\n",
    "        print('is eating')\n",
    "    def sleep(self):\n",
    "        print('is sleeping')\n",
    "stu1 = DeepshareStudent('王二小',18,'male')\n",
    "print(stu1.__dict__)"
   ]
  },
  {
   "cell_type": "code",
   "execution_count": 3,
   "metadata": {},
   "outputs": [
    {
     "name": "stdout",
     "output_type": "stream",
     "text": [
      "王二小\n"
     ]
    }
   ],
   "source": [
    "print(stu1.__dict__['name'])"
   ]
  },
  {
   "cell_type": "code",
   "execution_count": 4,
   "metadata": {},
   "outputs": [
    {
     "name": "stdout",
     "output_type": "stream",
     "text": [
      "王二小\n"
     ]
    }
   ],
   "source": [
    "print(stu1.name)"
   ]
  },
  {
   "cell_type": "markdown",
   "metadata": {},
   "source": [
    "当类与对象都有name属性时："
   ]
  },
  {
   "cell_type": "code",
   "execution_count": 5,
   "metadata": {},
   "outputs": [
    {
     "name": "stdout",
     "output_type": "stream",
     "text": [
      "王二小\n"
     ]
    }
   ],
   "source": [
    "class DeepshareStudent:\n",
    "    school = 'deepshare'\n",
    "    name = 'aaaaaaaaaa'\n",
    "    def __init__(self,name,age,gender):\n",
    "        self.name = name\n",
    "        self.age = age\n",
    "        self.gender = gender\n",
    "    def learn(self):\n",
    "        print('%s is learning' % self)\n",
    "    def eat(self):\n",
    "        print('is eating')\n",
    "    def sleep(self):\n",
    "        print('is sleeping')\n",
    "stu1 = DeepshareStudent('王二小',18,'male')\n",
    "print(stu1.name)"
   ]
  },
  {
   "cell_type": "code",
   "execution_count": 6,
   "metadata": {},
   "outputs": [
    {
     "name": "stdout",
     "output_type": "stream",
     "text": [
      "deepshare\n"
     ]
    }
   ],
   "source": [
    "print(stu1.school)"
   ]
  },
  {
   "cell_type": "markdown",
   "metadata": {},
   "source": [
    "我用对象找他的独有的name属性 就应该从init中找name\n",
    "但是，如果init函数中没有呢？"
   ]
  },
  {
   "cell_type": "markdown",
   "metadata": {},
   "source": [
    "👆这个对象stu1会先从他自己对象的名称空间中找school这个属性，但是他发现没有这个属性，  \n",
    "那就后退一级，往类的名称空间中找，注意对象的名称空间和类的名称空间不是一个概念"
   ]
  },
  {
   "cell_type": "markdown",
   "metadata": {},
   "source": [
    "如果类的名称空间中没有，他还会往上找吗？  \n",
    "现在school是定义在全局，与对象stu1没有任何关系 👇"
   ]
  },
  {
   "cell_type": "code",
   "execution_count": 7,
   "metadata": {},
   "outputs": [
    {
     "ename": "AttributeError",
     "evalue": "'DeepshareStudent' object has no attribute 'school'",
     "output_type": "error",
     "traceback": [
      "\u001b[1;31m---------------------------------------------------------------------------\u001b[0m",
      "\u001b[1;31mAttributeError\u001b[0m                            Traceback (most recent call last)",
      "\u001b[1;32m<ipython-input-7-1e8383af99bd>\u001b[0m in \u001b[0;36m<module>\u001b[1;34m\u001b[0m\n\u001b[0;32m     13\u001b[0m         \u001b[0mprint\u001b[0m\u001b[1;33m(\u001b[0m\u001b[1;34m'is sleeping'\u001b[0m\u001b[1;33m)\u001b[0m\u001b[1;33m\u001b[0m\u001b[1;33m\u001b[0m\u001b[0m\n\u001b[0;32m     14\u001b[0m \u001b[0mstu1\u001b[0m \u001b[1;33m=\u001b[0m \u001b[0mDeepshareStudent\u001b[0m\u001b[1;33m(\u001b[0m\u001b[1;34m'王二小'\u001b[0m\u001b[1;33m,\u001b[0m\u001b[1;36m18\u001b[0m\u001b[1;33m,\u001b[0m\u001b[1;34m'male'\u001b[0m\u001b[1;33m)\u001b[0m\u001b[1;33m\u001b[0m\u001b[1;33m\u001b[0m\u001b[0m\n\u001b[1;32m---> 15\u001b[1;33m \u001b[0mprint\u001b[0m\u001b[1;33m(\u001b[0m\u001b[0mstu1\u001b[0m\u001b[1;33m.\u001b[0m\u001b[0mschool\u001b[0m\u001b[1;33m)\u001b[0m\u001b[1;33m\u001b[0m\u001b[1;33m\u001b[0m\u001b[0m\n\u001b[0m",
      "\u001b[1;31mAttributeError\u001b[0m: 'DeepshareStudent' object has no attribute 'school'"
     ]
    }
   ],
   "source": [
    "school = 'deepshare'\n",
    "class DeepshareStudent:\n",
    "    name = 'aaaaaaaaaa'\n",
    "    def __init__(self,name,age,gender):\n",
    "        self.name = name\n",
    "        self.age = age\n",
    "        self.gender = gender\n",
    "    def learn(self):\n",
    "        print('%s is learning' % self)\n",
    "    def eat(self):\n",
    "        print('is eating')\n",
    "    def sleep(self):\n",
    "        print('is sleeping')\n",
    "stu1 = DeepshareStudent('王二小',18,'male')\n",
    "print(stu1.school)"
   ]
  },
  {
   "cell_type": "markdown",
   "metadata": {},
   "source": [
    "#### 类，实例对象的名称空间相互独立"
   ]
  },
  {
   "cell_type": "code",
   "execution_count": 8,
   "metadata": {},
   "outputs": [
    {
     "name": "stdout",
     "output_type": "stream",
     "text": [
      "mappingproxy({'__dict__': <attribute '__dict__' of 'DeepshareStudent' objects>,\n",
      "              '__doc__': None,\n",
      "              '__init__': <function DeepshareStudent.__init__ at 0x0000016838F69670>,\n",
      "              '__module__': '__main__',\n",
      "              '__weakref__': <attribute '__weakref__' of 'DeepshareStudent' objects>,\n",
      "              'eat': <function DeepshareStudent.eat at 0x0000016838F69550>,\n",
      "              'learn': <function DeepshareStudent.learn at 0x0000016838F69040>,\n",
      "              'school': 'deepshare',\n",
      "              'sleep': <function DeepshareStudent.sleep at 0x0000016838F83040>})\n",
      "1547143983360\n",
      "{'name': '王二小', 'age': 18, 'gender': 'male'}\n",
      "1547164772544\n",
      "1547143972224\n"
     ]
    }
   ],
   "source": [
    "class DeepshareStudent:\n",
    "    school = 'deepshare'\n",
    "    def __init__(self,name,age,gender):\n",
    "        self.name = name\n",
    "        self.age = age\n",
    "        self.gender = gender\n",
    "    def learn(self):\n",
    "        print('%s is learning' % self)\n",
    "    def eat(self):\n",
    "        print('is eating')\n",
    "    def sleep(self):\n",
    "        print('is sleeping')\n",
    "stu1 = DeepshareStudent('王二小',18,'male')\n",
    "stu2 = DeepshareStudent('王三小',18,'male')\n",
    "import pprint\n",
    "pprint.pprint(DeepshareStudent.__dict__)\n",
    "print(id(DeepshareStudent.__dict__))\n",
    "print(stu1.__dict__)\n",
    "print(id(stu1.__dict__))\n",
    "print(id(stu2.__dict__))"
   ]
  },
  {
   "cell_type": "markdown",
   "metadata": {},
   "source": [
    "### 绑定方法"
   ]
  },
  {
   "cell_type": "markdown",
   "metadata": {},
   "source": [
    "前面我们研究是对象的特征（用变量表示的，接下来我们来研究对象的技能（用函数来表示的），  \n",
    "不管是特征还是技能这些都是对象的属性，这是我们前面已经证明过的，那么接下来我们就来调用对象的属性"
   ]
  },
  {
   "cell_type": "code",
   "execution_count": 9,
   "metadata": {},
   "outputs": [
    {
     "name": "stdout",
     "output_type": "stream",
     "text": [
      "<function DeepshareStudent.learn at 0x0000016838F83D30>\n",
      "<bound method DeepshareStudent.learn of <__main__.DeepshareStudent object at 0x000001683A347BE0>>\n",
      "<bound method DeepshareStudent.learn of <__main__.DeepshareStudent object at 0x000001683A347B80>>\n",
      "1547141454128\n",
      "1547141454128\n",
      "1547141454128\n"
     ]
    }
   ],
   "source": [
    "class DeepshareStudent:\n",
    "    school = 'deepshare'\n",
    "    def __init__(self,name,age,gender):\n",
    "        self.name = name\n",
    "        self.age = age\n",
    "        self.gender = gender\n",
    "    def learn(self):\n",
    "        print('%s is learning' % self)\n",
    "    def eat(self):\n",
    "        print('is eating')\n",
    "    def sleep(self):\n",
    "        print('is sleeping')\n",
    "stu1 = DeepshareStudent('王二小',18,'male')\n",
    "stu2 = DeepshareStudent('王三小',18,'male')\n",
    "print(DeepshareStudent.learn)\n",
    "print(stu1.learn)\n",
    "print(stu2.learn)\n",
    "print(id(DeepshareStudent.school))\n",
    "print(id(stu1.school))\n",
    "print(id(stu2.school))"
   ]
  },
  {
   "cell_type": "code",
   "execution_count": 10,
   "metadata": {},
   "outputs": [
    {
     "name": "stdout",
     "output_type": "stream",
     "text": [
      "1547164569104\n",
      "1547164808080\n"
     ]
    }
   ],
   "source": [
    "print(id(stu1.name))\n",
    "print(id(stu2.name))"
   ]
  },
  {
   "cell_type": "markdown",
   "metadata": {},
   "source": [
    "从输出结果我们可以看到用类来调learn属性拿到的是一个普通方法，而"
   ]
  },
  {
   "cell_type": "markdown",
   "metadata": {},
   "source": [
    "#### 用对象去调learn属性拿到的是绑定方法，这个方法是绑定到类属性上的"
   ]
  },
  {
   "cell_type": "code",
   "execution_count": 14,
   "metadata": {},
   "outputs": [
    {
     "name": "stdout",
     "output_type": "stream",
     "text": [
      "is learning\n",
      "is learning\n"
     ]
    }
   ],
   "source": [
    "class DeepshareStudent:\n",
    "    school = 'deepshare'\n",
    "    def __init__(self,name,age,gender):\n",
    "        self.name = name\n",
    "        self.age = age\n",
    "        self.gender = gender\n",
    "    def learn(self):\n",
    "        print('is learning')\n",
    "    def eat(self):\n",
    "        print('is eating')\n",
    "    def sleep(self):\n",
    "        print('is sleeping')\n",
    "stu1 = DeepshareStudent('王二小',18,'male')\n",
    "stu2 = DeepshareStudent('王三小',18,'male')\n",
    "DeepshareStudent.learn('albert')\n",
    "stu1.learn()"
   ]
  },
  {
   "cell_type": "code",
   "execution_count": null,
   "metadata": {},
   "outputs": [],
   "source": []
  }
 ],
 "metadata": {
  "kernelspec": {
   "display_name": "joyfulpd",
   "language": "python",
   "name": "joyfulpd"
  },
  "language_info": {
   "codemirror_mode": {
    "name": "ipython",
    "version": 3
   },
   "file_extension": ".py",
   "mimetype": "text/x-python",
   "name": "python",
   "nbconvert_exporter": "python",
   "pygments_lexer": "ipython3",
   "version": "3.8.3"
  },
  "toc": {
   "base_numbering": 1,
   "nav_menu": {},
   "number_sections": true,
   "sideBar": true,
   "skip_h1_title": false,
   "title_cell": "Table of Contents",
   "title_sidebar": "Contents",
   "toc_cell": false,
   "toc_position": {},
   "toc_section_display": true,
   "toc_window_display": false
  },
  "varInspector": {
   "cols": {
    "lenName": 16,
    "lenType": 16,
    "lenVar": 40
   },
   "kernels_config": {
    "python": {
     "delete_cmd_postfix": "",
     "delete_cmd_prefix": "del ",
     "library": "var_list.py",
     "varRefreshCmd": "print(var_dic_list())"
    },
    "r": {
     "delete_cmd_postfix": ") ",
     "delete_cmd_prefix": "rm(",
     "library": "var_list.r",
     "varRefreshCmd": "cat(var_dic_list()) "
    }
   },
   "types_to_exclude": [
    "module",
    "function",
    "builtin_function_or_method",
    "instance",
    "_Feature"
   ],
   "window_display": false
  }
 },
 "nbformat": 4,
 "nbformat_minor": 4
}
