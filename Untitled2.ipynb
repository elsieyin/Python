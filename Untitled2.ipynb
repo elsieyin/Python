{
 "cells": [
  {
   "cell_type": "code",
   "execution_count": 1,
   "metadata": {},
   "outputs": [
    {
     "name": "stdout",
     "output_type": "stream",
     "text": [
      "计数 + 1\n",
      "计数 + 1\n",
      "当前人的2个\n",
      "当前人的2个\n"
     ]
    }
   ],
   "source": [
    "# 方法1 改进版2\n",
    "count = 0\n",
    "class Person:\n",
    "    def __init__(self):\n",
    "        # 只能读取全局变量，不能修改，因为修改会产生歧义:\n",
    "        # 到底是内部新增了一个变量，还是用的外面的那个\n",
    "        global count\n",
    "        print(\"计数 + 1\")\n",
    "        count += 1\n",
    "\n",
    "    def __del__(self):\n",
    "        global count\n",
    "        print(\"计数 - 1\")\n",
    "        count -= 1\n",
    "        \n",
    "    @staticmethod    # 没用过self, 改成静态方法\n",
    "    def log():  \n",
    "        print(\"当前人的%d个\"%count)\n",
    "\n",
    "p = Person()\n",
    "p2 = Person()\n",
    "Person.log()  # 注意这里，用Person类调用\n",
    "Person.log()  "
   ]
  },
  {
   "cell_type": "code",
   "execution_count": null,
   "metadata": {},
   "outputs": [],
   "source": []
  }
 ],
 "metadata": {
  "kernelspec": {
   "display_name": "kaggle",
   "language": "python",
   "name": "kaggle"
  },
  "language_info": {
   "codemirror_mode": {
    "name": "ipython",
    "version": 3
   },
   "file_extension": ".py",
   "mimetype": "text/x-python",
   "name": "python",
   "nbconvert_exporter": "python",
   "pygments_lexer": "ipython3",
   "version": "3.7.7"
  },
  "toc": {
   "base_numbering": 1,
   "nav_menu": {},
   "number_sections": true,
   "sideBar": true,
   "skip_h1_title": false,
   "title_cell": "Table of Contents",
   "title_sidebar": "Contents",
   "toc_cell": false,
   "toc_position": {},
   "toc_section_display": true,
   "toc_window_display": false
  },
  "varInspector": {
   "cols": {
    "lenName": 16,
    "lenType": 16,
    "lenVar": 40
   },
   "kernels_config": {
    "python": {
     "delete_cmd_postfix": "",
     "delete_cmd_prefix": "del ",
     "library": "var_list.py",
     "varRefreshCmd": "print(var_dic_list())"
    },
    "r": {
     "delete_cmd_postfix": ") ",
     "delete_cmd_prefix": "rm(",
     "library": "var_list.r",
     "varRefreshCmd": "cat(var_dic_list()) "
    }
   },
   "types_to_exclude": [
    "module",
    "function",
    "builtin_function_or_method",
    "instance",
    "_Feature"
   ],
   "window_display": false
  }
 },
 "nbformat": 4,
 "nbformat_minor": 4
}
