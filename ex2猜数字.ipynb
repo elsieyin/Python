{
 "cells": [
  {
   "cell_type": "code",
   "execution_count": 2,
   "metadata": {
    "ExecuteTime": {
     "end_time": "2020-07-25T13:16:16.527302Z",
     "start_time": "2020-07-25T13:16:16.511785Z"
    }
   },
   "outputs": [
    {
     "name": "stdout",
     "output_type": "stream",
     "text": [
      "An exception flew by!：<class 'NameError'>\n"
     ]
    }
   ],
   "source": [
    "try:\n",
    "    raise NameError('HiThere')\n",
    "except NameError:\n",
    "    print('An exception flew by!：' + str(NameError))\n",
    "    \n",
    "# An exception flew by!"
   ]
  },
  {
   "cell_type": "code",
   "execution_count": 16,
   "metadata": {
    "ExecuteTime": {
     "end_time": "2020-07-25T02:20:07.380096Z",
     "start_time": "2020-07-25T02:19:59.774668Z"
    }
   },
   "outputs": [
    {
     "name": "stdout",
     "output_type": "stream",
     "text": [
      "猜测一个0到20之间的整数.\n",
      "\n",
      "第1次猜，请输入一个整形数字：1\n",
      "\n",
      "小了，小了！\n",
      "\n",
      "第2次猜，请输入一个整形数字：1\n",
      "\n",
      "小了，小了！\n",
      "\n",
      "第3次猜，请输入一个整形数字：1\n",
      "\n",
      "小了，小了！\n",
      "\n",
      "第4次猜，请输入一个整形数字：1\n",
      "\n",
      "小了，小了！\n",
      "\n",
      "第5次猜，请输入一个整形数字：1\n",
      "\n",
      "小了，小了！\n",
      "\n",
      "第6次猜，请输入一个整形数字：1\n",
      "\n",
      "小了，小了！\n",
      "\n",
      "第7次猜，请输入一个整形数字：1\n",
      "\n",
      "小了，小了！\n",
      "\n",
      "第8次猜，请输入一个整形数字：1\n",
      "\n",
      "小了，小了！\n",
      "\n",
      "第9次猜，请输入一个整形数字：1\n",
      "\n",
      "小了，小了！\n",
      "猜了10次了，游戏失败，重来吧\n",
      "\n",
      "游戏结束！\n"
     ]
    }
   ],
   "source": [
    "# import random\n",
    "secret = random.randint(0,20)\n",
    "num = 1\n",
    "Flag = True\n",
    "print(\"猜测一个0到20之间的整数.\")\n",
    "while Flag:\n",
    "    temp = input(\"\\n第\" + str(num) + \"次猜，请输入一个整形数字：\")\n",
    "    temp = temp.strip()\n",
    "    try:\n",
    "        guess = int(temp)\n",
    "    except ValueError as error:\n",
    "        print('请输入整数，错误类型：' + str(error))\n",
    "    if guess < secret:\n",
    "        print('\\n小了，小了！')\n",
    "    else:\n",
    "        if guess ==secret:\n",
    "            print(\"\\n恭喜你，猜到了，这个数是\" + str(guess))\n",
    "            break\n",
    "        else:\n",
    "            print(\"大了，大了！\")\n",
    "    num += 1\n",
    "    if num == 10:\n",
    "        Flag = False\n",
    "        print('猜了10次了，游戏失败，重来吧')\n",
    "print('\\n游戏结束！')"
   ]
  }
 ],
 "metadata": {
  "kernelspec": {
   "display_name": "joyfulpd",
   "language": "python",
   "name": "joyfulpd"
  },
  "language_info": {
   "codemirror_mode": {
    "name": "ipython",
    "version": 3
   },
   "file_extension": ".py",
   "mimetype": "text/x-python",
   "name": "python",
   "nbconvert_exporter": "python",
   "pygments_lexer": "ipython3",
   "version": "3.8.3"
  },
  "toc": {
   "base_numbering": 1,
   "nav_menu": {},
   "number_sections": true,
   "sideBar": true,
   "skip_h1_title": false,
   "title_cell": "Table of Contents",
   "title_sidebar": "Contents",
   "toc_cell": false,
   "toc_position": {},
   "toc_section_display": true,
   "toc_window_display": false
  },
  "varInspector": {
   "cols": {
    "lenName": 16,
    "lenType": 16,
    "lenVar": 40
   },
   "kernels_config": {
    "python": {
     "delete_cmd_postfix": "",
     "delete_cmd_prefix": "del ",
     "library": "var_list.py",
     "varRefreshCmd": "print(var_dic_list())"
    },
    "r": {
     "delete_cmd_postfix": ") ",
     "delete_cmd_prefix": "rm(",
     "library": "var_list.r",
     "varRefreshCmd": "cat(var_dic_list()) "
    }
   },
   "types_to_exclude": [
    "module",
    "function",
    "builtin_function_or_method",
    "instance",
    "_Feature"
   ],
   "window_display": false
  }
 },
 "nbformat": 4,
 "nbformat_minor": 4
}
