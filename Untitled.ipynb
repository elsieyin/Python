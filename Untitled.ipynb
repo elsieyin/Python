{
 "cells": [
  {
   "cell_type": "markdown",
   "metadata": {
    "ExecuteTime": {
     "end_time": "2020-08-02T09:30:07.333946Z",
     "start_time": "2020-08-02T09:30:07.319932Z"
    }
   },
   "source": [
    "2、利用python做一个简单的定时器类\n",
    "- 定制一个计时器的类。\n",
    "- `start`和`stop`方法代表启动计时和停止计时。\n",
    "- 假设计时器对象`t1`，`print(t1)`和直接调用`t1`均显示结果。\n",
    "- 当计时器未启动或已经停止计时时，调用`stop`方法会给予温馨的提示。\n",
    "- 两个计时器对象可以进行相加：`t1+t2`。\n",
    "- 只能使用提供的有限资源完成。"
   ]
  },
  {
   "cell_type": "code",
   "execution_count": 2,
   "metadata": {
    "ExecuteTime": {
     "end_time": "2020-08-02T09:30:27.726657Z",
     "start_time": "2020-08-02T09:30:15.682276Z"
    }
   },
   "outputs": [
    {
     "name": "stdout",
     "output_type": "stream",
     "text": [
      "未开始计时！\n",
      "提示：请先调用start()开始计时！\n",
      "计时开始...\n",
      "计时结束！\n",
      "共运行了5秒\n",
      "计时开始...\n",
      "计时结束！\n",
      "共运行了7秒\n",
      "共运行了12秒\n"
     ]
    }
   ],
   "source": [
    "import time\n",
    "\n",
    "class Mytime(object):\n",
    "    def __init__(self):\n",
    "        self.__info = '未开始计时！'\n",
    "        self.__begin = None\n",
    "        self.__end = None\n",
    "        self.__jg = 0\n",
    "\n",
    "    def __str__(self):\n",
    "        return self.__info\n",
    "\n",
    "    def __repr__(self):\n",
    "        return self.__info\n",
    "\n",
    "    def start(self):\n",
    "        print('计时开始...')\n",
    "        self.__begin = time.localtime()\n",
    "\n",
    "    def stop(self):\n",
    "        if not self.__begin:\n",
    "            print('提示：请先调用start()开始计时！')\n",
    "            return\n",
    "        self.__end = time.localtime()\n",
    "        self.__jg = time.mktime(self.__end) - time.mktime(self.__begin)\n",
    "        self.__info = '共运行了%d秒' % self.__jg\n",
    "        print('计时结束！')\n",
    "        return self.__jg\n",
    "\n",
    "    def __add__(self, other):\n",
    "        return '共运行了%d秒' % (other.__jg + self.__jg)\n",
    "\n",
    "\n",
    "t1 = Mytime()\n",
    "print(t1)  # 未开始计时！\n",
    "t1.stop()  # 提示：请先调用start()开始计时！\n",
    "t1.start()  # 计时开始...\n",
    "time.sleep(5)\n",
    "t1.stop()  # 计时结束！\n",
    "print(t1)  # 共运行了5秒\n",
    "t2 = Mytime()\n",
    "t2.start()  # 计时开始...\n",
    "time.sleep(7)\n",
    "t2.stop()  # 计时结束！\n",
    "print(t2)  # 共运行了7秒\n",
    "print(t1 + t2)  # 共运行了12秒\n"
   ]
  }
 ],
 "metadata": {
  "kernelspec": {
   "display_name": "joyfulpd",
   "language": "python",
   "name": "joyfulpd"
  },
  "language_info": {
   "codemirror_mode": {
    "name": "ipython",
    "version": 3
   },
   "file_extension": ".py",
   "mimetype": "text/x-python",
   "name": "python",
   "nbconvert_exporter": "python",
   "pygments_lexer": "ipython3",
   "version": "3.8.3"
  },
  "toc": {
   "base_numbering": 1,
   "nav_menu": {},
   "number_sections": true,
   "sideBar": true,
   "skip_h1_title": false,
   "title_cell": "Table of Contents",
   "title_sidebar": "Contents",
   "toc_cell": false,
   "toc_position": {},
   "toc_section_display": true,
   "toc_window_display": false
  },
  "varInspector": {
   "cols": {
    "lenName": 16,
    "lenType": 16,
    "lenVar": 40
   },
   "kernels_config": {
    "python": {
     "delete_cmd_postfix": "",
     "delete_cmd_prefix": "del ",
     "library": "var_list.py",
     "varRefreshCmd": "print(var_dic_list())"
    },
    "r": {
     "delete_cmd_postfix": ") ",
     "delete_cmd_prefix": "rm(",
     "library": "var_list.r",
     "varRefreshCmd": "cat(var_dic_list()) "
    }
   },
   "types_to_exclude": [
    "module",
    "function",
    "builtin_function_or_method",
    "instance",
    "_Feature"
   ],
   "window_display": false
  }
 },
 "nbformat": 4,
 "nbformat_minor": 4
}
