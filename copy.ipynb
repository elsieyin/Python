{
 "cells": [
  {
   "cell_type": "markdown",
   "metadata": {},
   "source": [
    "### 赋值"
   ]
  },
  {
   "cell_type": "code",
   "execution_count": 1,
   "metadata": {
    "ExecuteTime": {
     "end_time": "2020-07-27T01:00:05.950805Z",
     "start_time": "2020-07-27T01:00:05.935792Z"
    }
   },
   "outputs": [
    {
     "name": "stdout",
     "output_type": "stream",
     "text": [
      "list1_id:  2290497358080\n",
      "[140722786543392, 140722786543424, 2290496522432, 2290498239872]\n",
      "list2_id:  2290497358080\n",
      "[140722786543392, 140722786543424, 2290496522432, 2290498239872]\n",
      "list1 is list2: True\n",
      "list1[0] is list2[0]:  True\n",
      "list1[2] is list2[2]:  True\n",
      "list1[0] = 0, list2:  [0, 2, [3, 4], [5, [6, 7]]]\n",
      "list1[2][1] = 0, list2:  [0, 2, [3, 0], [5, [6, 7]]]\n",
      "   list2[0] = -1, list1:  [-1, 2, [3, 0], [5, [6, 7]]]\n",
      "list2[2][1] = -1, list1:  [-1, 2, [3, -1], [5, [6, 7]]]\n"
     ]
    }
   ],
   "source": [
    "list1 = [1, 2, [3, 4], [5, [6, 7]]]\n",
    "print('list1_id: ', id(list1))\n",
    "print([id(i) for i in list1])\n",
    "list2 = list1\n",
    "print('list2_id: ', id(list2))\n",
    "print([id(i) for i in list2])\n",
    "print('list1 is list2:', list1 is list2)\n",
    "print('list1[0] is list2[0]: ', list1[0] is list2[0])\n",
    "print('list1[2] is list2[2]: ', list1[2] is list2[2])\n",
    "\n",
    "list1[0]=0\n",
    "print('list1[0] = 0, list2: ', list2)\n",
    "list1[2][1]=0\n",
    "print('list1[2][1] = 0, list2: ', list2)\n",
    "\n",
    "list2[0] = -1\n",
    "print('   list2[0] = -1, list1: ', list1)\n",
    "list2[2][1] = -1\n",
    "print('list2[2][1] = -1, list1: ', list1)"
   ]
  },
  {
   "cell_type": "markdown",
   "metadata": {},
   "source": [
    "### copy by slicing the list from the beginning to the end."
   ]
  },
  {
   "cell_type": "code",
   "execution_count": 2,
   "metadata": {
    "ExecuteTime": {
     "end_time": "2020-07-27T01:00:05.966819Z",
     "start_time": "2020-07-27T01:00:05.951806Z"
    }
   },
   "outputs": [
    {
     "name": "stdout",
     "output_type": "stream",
     "text": [
      "list3_id:  2290498250112\n",
      "[140722786543392, 140722786543424, 2290496575104, 2290497358016]\n",
      "list1 is list3:  False\n",
      "list1[0] is list3[0]:  True\n",
      "list1[2] is list3[2]:  True\n",
      "list1[0] = 0, list3:  [1, 2, [3, 4], [5, [6, 7]]]\n",
      "list1[2][1] = 0, list3:  [1, 2, [3, 0], [5, [6, 7]]]\n",
      "list3[0] = -1, list1:  [0, 2, [3, 0], [5, [6, 7]]]\n",
      "list3[2][1] = -1, list1:  [0, 2, [3, -1], [5, [6, 7]]]\n"
     ]
    }
   ],
   "source": [
    "list1 = [1, 2, [3, 4], [5, [6, 7]]]\n",
    "list3 = list1[:]\n",
    "print('list3_id: ', id(list3))\n",
    "print([id(i) for i in list3])\n",
    "print('list1 is list3: ', list1 is list3)\n",
    "print('list1[0] is list3[0]: ', list1[0] is list3[0])\n",
    "print('list1[2] is list3[2]: ', list1[2] is list3[2])\n",
    "\n",
    "\n",
    "list1[0]=0\n",
    "print('list1[0] = 0, list3: ', list3)\n",
    "list1[2][1]=0\n",
    "print('list1[2][1] = 0, list3: ', list3)\n",
    "\n",
    "list3[0] = -1\n",
    "print('list3[0] = -1, list1: ', list1)\n",
    "list3[2][1] = -1\n",
    "print('list3[2][1] = -1, list1: ', list1)"
   ]
  },
  {
   "cell_type": "markdown",
   "metadata": {},
   "source": [
    "### copy by list constructor "
   ]
  },
  {
   "cell_type": "code",
   "execution_count": 3,
   "metadata": {
    "ExecuteTime": {
     "end_time": "2020-07-27T01:00:05.982833Z",
     "start_time": "2020-07-27T01:00:05.967820Z"
    }
   },
   "outputs": [
    {
     "name": "stdout",
     "output_type": "stream",
     "text": [
      "list4_id:  2290498354624\n",
      "[140722786543392, 140722786543424, 2290498329856, 2290498353792]\n",
      "list1 is list4:  False\n",
      "list1[0] is list4[0]:  True\n",
      "list1[2] is list4[2]:  True\n",
      "list1[0] = 0, list2:  [1, 2, [3, 4], [5, [6, 7]]]\n",
      "list1[2][1] = 0, list2:  [1, 2, [3, 0], [5, [6, 7]]]\n",
      "list4[0] = -1, list1:  [0, 2, [3, 0], [5, [6, 7]]]\n",
      "list4[2][1] = -1, list1:  [0, 2, [3, -1], [5, [6, 7]]]\n"
     ]
    }
   ],
   "source": [
    "list1 = [1, 2, [3, 4], [5, [6, 7]]]\n",
    "list4 = list(list1)\n",
    "print('list4_id: ', id(list4))\n",
    "print([id(i) for i in list4])\n",
    "print('list1 is list4: ', list1 is list4)\n",
    "print('list1[0] is list4[0]: ', list1[0] is list4[0])\n",
    "print('list1[2] is list4[2]: ', list1[2] is list4[2])\n",
    "\n",
    "\n",
    "list1[0]=0\n",
    "print('list1[0] = 0, list2: ', list4)\n",
    "list1[2][1]=0\n",
    "print('list1[2][1] = 0, list2: ', list4)\n",
    "\n",
    "list4[0] = -1\n",
    "print('list4[0] = -1, list1: ', list1)\n",
    "list4[2][1] = -1\n",
    "print('list4[2][1] = -1, list1: ', list1)"
   ]
  },
  {
   "cell_type": "code",
   "execution_count": 4,
   "metadata": {
    "ExecuteTime": {
     "end_time": "2020-07-27T01:00:05.998847Z",
     "start_time": "2020-07-27T01:00:05.983834Z"
    }
   },
   "outputs": [
    {
     "name": "stdout",
     "output_type": "stream",
     "text": [
      "list3[0] is list4[0]:  True\n",
      "list3[2] is list4[2]:  False\n"
     ]
    }
   ],
   "source": [
    "# print('list3 is list4: ', list3 is list4)  False\n",
    "print('list3[0] is list4[0]: ', list3[0] is list4[0])\n",
    "print('list3[2] is list4[2]: ', list3[2] is list4[2])\n",
    "# 这里判断也不是很必要，关键是，这两个操作到底有没有区别？"
   ]
  },
  {
   "cell_type": "markdown",
   "metadata": {},
   "source": [
    "### 对象的copy函数"
   ]
  },
  {
   "cell_type": "code",
   "execution_count": 8,
   "metadata": {
    "ExecuteTime": {
     "end_time": "2020-07-27T06:30:33.538758Z",
     "start_time": "2020-07-27T06:30:33.533754Z"
    }
   },
   "outputs": [
    {
     "name": "stdout",
     "output_type": "stream",
     "text": [
      "list4_id:  2290519985408\n",
      "[140722786543392, 140722786543424, 2290519984576, 2290519938176]\n",
      "list1 is lst4:  False\n",
      "list1[0] is lst4[0]:  True\n",
      "list1[2] is lst4[2]:  True\n",
      "list1[0] = 0, lst4:  [1, 2, [3, 4], [5, [6, 7]]]\n",
      "list1[2][1] = 0, lst4:  [1, 2, [3, 0], [5, [6, 7]]]\n",
      "lst4[0] = -1, list1:  [0, 2, [3, 0], [5, [6, 7]]]\n",
      "lst4[2][1] = -1, list1:  [0, 2, [3, -1], [5, [6, 7]]]\n"
     ]
    }
   ],
   "source": [
    "list1 = [1, 2, [3, 4], [5, [6, 7]]]\n",
    "lst4 = list1.copy()\n",
    "print('list4_id: ', id(lst4))\n",
    "print([id(i) for i in lst4])\n",
    "print('list1 is lst4: ', list1 is lst4)\n",
    "print('list1[0] is lst4[0]: ', list1[0] is lst4[0])\n",
    "print('list1[2] is lst4[2]: ', list1[2] is lst4[2])\n",
    "\n",
    "list1[0]=0\n",
    "print('list1[0] = 0, lst4: ', lst4)\n",
    "list1[2][1]=0\n",
    "print('list1[2][1] = 0, lst4: ', lst4)\n",
    "\n",
    "lst4[0] = -1\n",
    "print('lst4[0] = -1, list1: ', list1)\n",
    "lst4[2][1] = -1\n",
    "print('lst4[2][1] = -1, list1: ', list1)"
   ]
  },
  {
   "cell_type": "markdown",
   "metadata": {},
   "source": [
    "### copy模块的 copy"
   ]
  },
  {
   "cell_type": "code",
   "execution_count": 6,
   "metadata": {
    "ExecuteTime": {
     "end_time": "2020-07-27T01:00:06.030881Z",
     "start_time": "2020-07-27T01:00:06.015869Z"
    }
   },
   "outputs": [
    {
     "name": "stdout",
     "output_type": "stream",
     "text": [
      "list1_id: 2290498436480\n",
      "[140722786543392, 140722786543424, 2290498435968, 2290498436288]\n",
      "list5_id: 2290498436160\n",
      "[140722786543392, 140722786543424, 2290498435968, 2290498436288]\n",
      "list1 is list5:  False\n",
      "list1[0] is list5[0]:  True\n",
      "list1[2] is list5[2]:  False\n",
      "[-1, 2, [3, 4], [5, [6, 7]]]\n",
      "[1, 2, [3, 4], [5, [6, 7]]]\n",
      "[-1, 2, [3, 4], [5, [6, 7]]]\n",
      "[1, -2, [3, 4], [5, [6, 7]]]\n",
      "[-1, 2, -3, [5, [6, 7]]]\n",
      "[1, -2, [3, 4], [5, [6, 7]]]\n",
      "list5[2] = -30, list1:  [-1, 2, -3, [5, [6, 7]]]\n",
      "list5[2] = -30, list5:   [1, -2, -30, [5, [6, 7]]]\n",
      "list1.append_add1, list1:  [-1, 2, -3, [5, [6, 7]], 'add1']\n",
      "list1.append_add1, list5:  [1, -2, -30, [5, [6, 7]]]\n",
      "list1.append_add2, list1:  [-1, 2, -3, [5, [6, 7]], 'add1']\n",
      "list1.append_add2, list1:  [1, -2, -30, [5, [6, 7]], 'add2']\n",
      "[-1, 2, -3, [5, [6, 7]]]\n",
      "[1, -2, -30, [5, [6, 7]], 'add2']\n",
      "[-1, 2, -3, [5, [6, 7]]]\n",
      "[1, -2, -30, [5, [6, 7]]]\n",
      "5-55: [-1, 2, -3, ['5->55', [6, 7]]]\n",
      "5-55: [1, -2, -30, ['5->55', [6, 7]]]\n"
     ]
    }
   ],
   "source": [
    "from copy import copy\n",
    "\n",
    "list1 = [1, 2, [3, 4], [5, [6, 7]]]\n",
    "print('list1_id:', id(list1))\n",
    "print([id(i) for i in list1])\n",
    "list5 = copy(list1)\n",
    "print('list5_id:', id(list5))\n",
    "print([id(i) for i in list5])\n",
    "\n",
    "#list5[0] = 0\n",
    "#print('list3[0] = 0, list1: ', list1)\n",
    "#list5[2][1] = 0\n",
    "#print('list3[2][1] = 0, list1: ', list1)\n",
    "\n",
    "# 1 判断论证过程\n",
    "print('list1 is list5: ', list1 is list5)  # id不同自然不是，id用来形象表示内存地址\n",
    "print('list1[0] is list5[0]: ', list1[0] is list5[0])  # 两者之间对应的元素都指向同一个地址\n",
    "print('list1[2] is list5[2]: ', list1[2] is list2[2])\n",
    "\n",
    "# 2 对一级元素整体修改论证（其实此时可变类型元素也只能当作不可变来修改）\n",
    "list1[0] = -1  # 修改列表1或5都是单独变化的\n",
    "print(list1)\n",
    "print(list5)\n",
    "\n",
    "list5[1] = -2\n",
    "print(list1)\n",
    "print(list5)\n",
    "\n",
    "list1[2] = -3\n",
    "print(list1)\n",
    "print(list5)\n",
    "\n",
    "list5[2] = -30\n",
    "print('list5[2] = -30, list1: ', list1)\n",
    "print('list5[2] = -30, list5:  ',list5)\n",
    "\n",
    "# 3 给对象添加元素\n",
    "list1.append('add1')\n",
    "print('list1.append_add1, list1: ', list1)\n",
    "print('list1.append_add1, list5: ', list5)\n",
    "\n",
    "list5.append('add2')\n",
    "print('list1.append_add2, list1: ', list1)\n",
    "print('list1.append_add2, list1: ',list5)\n",
    "\n",
    "# 4 删除\n",
    "list1.pop()\n",
    "print(list1)\n",
    "print(list5)\n",
    "\n",
    "list5.pop()\n",
    "print(list1)\n",
    "print(list5)\n",
    "\n",
    "#list1.pop()\n",
    "#print(list1)\n",
    "#print(list5)\n",
    "\n",
    "# 5 只有对对象内一个可变类型元素内的元素的修改（包含添加，修改和删除），才会同步变化\n",
    "list5[-1][0] = '5->55'\n",
    "print('5-55:', list1)\n",
    "print('5-55:', list5)\n",
    "\n",
    "# # 换成list1也是一样，但需要把上面的部分代码注释掉，确保索引位置不会出错\n",
    "# list1[3][0] = '5->55000'\n",
    "# print(list1)\n",
    "# print(list2)"
   ]
  },
  {
   "cell_type": "markdown",
   "metadata": {},
   "source": [
    "## 深拷贝"
   ]
  },
  {
   "cell_type": "code",
   "execution_count": 7,
   "metadata": {
    "ExecuteTime": {
     "end_time": "2020-07-27T01:00:06.046895Z",
     "start_time": "2020-07-27T01:00:06.030881Z"
    }
   },
   "outputs": [
    {
     "name": "stdout",
     "output_type": "stream",
     "text": [
      "[1, 2, 3, 4, 5, [6, 7, 8]]\n",
      "[1, 2, 3, 4, 5, [6, 7, 8]]\n",
      "[1, 2, 3, 4, 5, [6, 7, 8, 9]]\n",
      "[1, 2, 3, 4, 5, [6, 7, 8]]\n",
      "[1, 2, 3, 4, 5, [6, 7, 8, 9], 6]\n",
      "[1, 2, 3, 4, 5, [6, 7, 8]]\n",
      "[1, 2, 3, 4, 5, [6, 7, 8, 9]]\n",
      "[1, 2, 3, 4, 5, [6, 7, 8]]\n"
     ]
    }
   ],
   "source": [
    "import copy\n",
    "\n",
    "\n",
    "list1 = [1, 2, 3, 4, 5, [6, 7, 8, ]]\n",
    "list6 = copy.deepcopy(list1)\n",
    "print(list1)\n",
    "print(list6)\n",
    "\n",
    "list1[5].append(9)\n",
    "print(list1)\n",
    "print(list6)\n",
    "\n",
    "list1.append(6)\n",
    "print(list1)\n",
    "print(list6)\n",
    "\n",
    "list1.pop()\n",
    "print(list1)\n",
    "print(list6)"
   ]
  }
 ],
 "metadata": {
  "kernelspec": {
   "display_name": "joyfulpd",
   "language": "python",
   "name": "joyfulpd"
  },
  "language_info": {
   "codemirror_mode": {
    "name": "ipython",
    "version": 3
   },
   "file_extension": ".py",
   "mimetype": "text/x-python",
   "name": "python",
   "nbconvert_exporter": "python",
   "pygments_lexer": "ipython3",
   "version": "3.8.3"
  },
  "toc": {
   "base_numbering": 1,
   "nav_menu": {},
   "number_sections": true,
   "sideBar": true,
   "skip_h1_title": false,
   "title_cell": "Table of Contents",
   "title_sidebar": "Contents",
   "toc_cell": false,
   "toc_position": {},
   "toc_section_display": true,
   "toc_window_display": false
  },
  "varInspector": {
   "cols": {
    "lenName": 16,
    "lenType": 16,
    "lenVar": 40
   },
   "kernels_config": {
    "python": {
     "delete_cmd_postfix": "",
     "delete_cmd_prefix": "del ",
     "library": "var_list.py",
     "varRefreshCmd": "print(var_dic_list())"
    },
    "r": {
     "delete_cmd_postfix": ") ",
     "delete_cmd_prefix": "rm(",
     "library": "var_list.r",
     "varRefreshCmd": "cat(var_dic_list()) "
    }
   },
   "types_to_exclude": [
    "module",
    "function",
    "builtin_function_or_method",
    "instance",
    "_Feature"
   ],
   "window_display": false
  }
 },
 "nbformat": 4,
 "nbformat_minor": 4
}
